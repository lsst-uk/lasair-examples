{
 "cells": [
  {
   "cell_type": "markdown",
   "id": "81c97da8-648b-4a19-a266-01f3502b307c",
   "metadata": {},
   "source": [
    "# Test notebook to exercise the Lasair API"
   ]
  },
  {
   "cell_type": "code",
   "execution_count": 1,
   "id": "6567c208-6aee-4c59-9bf0-2ee8e85c4a8e",
   "metadata": {},
   "outputs": [],
   "source": [
    "#!/usr/bin/pip3 install lasair --upgrade\n",
    "import sys"
   ]
  },
  {
   "cell_type": "markdown",
   "id": "4bd9a62b-df77-4349-86b1-082cbaeee3ef",
   "metadata": {},
   "source": [
    "Change this to the API token and endpoint you want to test"
   ]
  },
  {
   "cell_type": "code",
   "execution_count": 2,
   "id": "da26750c-9e25-44a0-8f3f-891877c0b19c",
   "metadata": {},
   "outputs": [],
   "source": [
    "lsst=True # if you change this restart kernel\n",
    "\n",
    "if lsst:\n",
    "    sys.path.append('API_lsst')\n",
    "    import settings\n",
    "    endpoint = \"https://lasair-lsst.lsst.ac.uk/api\"\n",
    "    oid = 'diaObjectId'\n",
    "    raname = 'ra'\n",
    "    decname = 'decl'\n",
    "else:\n",
    "    sys.path.append('API_ztf')\n",
    "    import settings\n",
    "    endpoint = \"https://lasair-ztf.lsst.ac.uk/api\"\n",
    "    oid = 'objectId'\n",
    "    raname = 'ramean'\n",
    "    decname = 'decmean'"
   ]
  },
  {
   "cell_type": "markdown",
   "id": "e4e2bb17-12f8-40eb-a34e-a6250a172628",
   "metadata": {},
   "source": [
    "Fetch your API TOKEN from your Lasair account, top right under \"profile\""
   ]
  },
  {
   "cell_type": "code",
   "execution_count": 3,
   "id": "92bccfc8-56f0-4c43-badf-e9321ddeb265",
   "metadata": {},
   "outputs": [
    {
     "name": "stderr",
     "output_type": "stream",
     "text": [
      "/Users/rwillia5/Library/Python/3.9/lib/python/site-packages/urllib3/__init__.py:35: NotOpenSSLWarning: urllib3 v2 only supports OpenSSL 1.1.1+, currently the 'ssl' module is compiled with 'LibreSSL 2.8.3'. See: https://github.com/urllib3/urllib3/issues/3020\n",
      "  warnings.warn(\n"
     ]
    }
   ],
   "source": [
    "import json\n",
    "from lasair import LasairError, lasair_client as lasair\n",
    "import settings\n",
    "L = lasair(settings.API_TOKEN, endpoint=endpoint)"
   ]
  },
  {
   "cell_type": "markdown",
   "id": "2acdac05-f2ce-4481-abef-b0ee22ef0e35",
   "metadata": {},
   "source": [
    "This function simply prints the first lines of the given string.\n",
    "You can replace it with the normal print if you want to see everything."
   ]
  },
  {
   "cell_type": "code",
   "execution_count": 4,
   "id": "939f08d3-3ff9-4534-a7b4-7f922156d4ba",
   "metadata": {},
   "outputs": [],
   "source": [
    "def print15(s):\n",
    "    print('\\n'.join(s.split('\\n')[:15]))"
   ]
  },
  {
   "cell_type": "markdown",
   "id": "229a8cfb-ec3c-4868-b753-c140561ffb06",
   "metadata": {},
   "source": [
    "## Cone search"
   ]
  },
  {
   "cell_type": "code",
   "execution_count": 5,
   "id": "a89f2872-5f53-414d-a5c9-f357491e7fad",
   "metadata": {},
   "outputs": [
    {
     "name": "stdout",
     "output_type": "stream",
     "text": [
      "{}\n"
     ]
    }
   ],
   "source": [
    "racone  = 279.22\n",
    "deccone = -47.91\n",
    "radius = 60 # arcsec\n",
    "try:\n",
    "    result = L.cone(racone, deccone, radius, requestType='nearest')\n",
    "    print(json.dumps(result, indent=2))\n",
    "except:\n",
    "    print('nothing found')"
   ]
  },
  {
   "cell_type": "markdown",
   "id": "630cd4ba-065b-4ccc-97b0-1e3f9a6b6475",
   "metadata": {},
   "source": [
    "## Database query"
   ]
  },
  {
   "cell_type": "code",
   "execution_count": 6,
   "id": "0fab510d-d177-4102-bcce-4f3b3e912df9",
   "metadata": {},
   "outputs": [
    {
     "name": "stdout",
     "output_type": "stream",
     "text": [
      "3516505585459658821 54.869760771850316 -27.294073926963623\n",
      "3516505612303204354 51.358273330001936 -27.692442189066135\n",
      "3516506109982539799 52.84428812866385 -26.567196010769738\n",
      "3516506171722694675 51.96725530812655 -28.4613174524388\n",
      "3516508308468924426 53.01968624151246 -28.292557085291445\n",
      "3516508308468924434 53.085036036883515 -28.37399123521993\n",
      "3521874256998694923 54.99875627554984 -27.308598190156637\n",
      "3521874258609307650 54.82056823745111 -27.176290651327594\n"
     ]
    }
   ],
   "source": [
    "selected = 'objects.%s, objects.%s, objects.%s' % (oid, raname, decname)\n",
    "tables = 'objects,sherlock_classifications'\n",
    "conditions = 'classification=\"SN\"'\n",
    "results = L.query(selected, tables, conditions, limit = 8)\n",
    "\n",
    "for row in results:\n",
    "    objectId = row[oid]\n",
    "    ra = row[raname]\n",
    "    dec = row[decname]\n",
    "    print(objectId, ra, dec)\n",
    "\n",
    "# Just use this objectId in subsequent calls\n",
    "objectId = str(objectId)"
   ]
  },
  {
   "cell_type": "markdown",
   "id": "269967d9-50a6-45c2-858a-37adf5fd5a69",
   "metadata": {},
   "source": [
    "## Lightcurves"
   ]
  },
  {
   "cell_type": "code",
   "execution_count": 7,
   "id": "fc26ee55-3bf0-48b1-8a5e-c00f6e9957a1",
   "metadata": {},
   "outputs": [
    {
     "name": "stdout",
     "output_type": "stream",
     "text": [
      "{\n",
      "  \"diaObjectId\": \"3521874258609307650\",\n",
      "  \"diaSources\": [\n",
      "    {\n",
      "      \"diaSourceId\": 3527246281296576548,\n",
      "      \"midpointMjdTai\": 61314.27337522106,\n",
      "      \"band\": \"g\",\n",
      "      \"psfFlux\": 4045.029296875,\n",
      "      \"psfFluxErr\": 961.5590209960938\n",
      "    },\n",
      "    {\n",
      "      \"diaSourceId\": 3527246818167488548,\n",
      "      \"midpointMjdTai\": 61314.27337522106,\n",
      "      \"band\": \"g\",\n",
      "      \"psfFlux\": 4044.686279296875,\n"
     ]
    }
   ],
   "source": [
    "result = L.object(objectId, lasair_added=False)\n",
    "print15(json.dumps(result, indent=2))"
   ]
  },
  {
   "cell_type": "markdown",
   "id": "df1f158e-17b3-4c8f-92b4-536334cae1dc",
   "metadata": {},
   "source": [
    "## Sherlock Object"
   ]
  },
  {
   "cell_type": "code",
   "execution_count": 8,
   "id": "0a99e90d-c11e-49d5-b42c-2d26fd10efdc",
   "metadata": {
    "scrolled": true
   },
   "outputs": [
    {
     "name": "stdout",
     "output_type": "stream",
     "text": [
      "{\n",
      "  \"classifications\": {\n",
      "    \"3521874258609307650\": [\n",
      "      \"SN\",\n",
      "      \"The transient is possibly associated with <em>03391748-2710138</em>; a J=14.72 mag galaxy found in the 2MASS catalogue. It's located 20.76\\\" S, 7.30\\\" W from the galaxy centre.\"\n",
      "    ]\n",
      "  },\n",
      "  \"crossmatches\": [\n",
      "    {\n",
      "      \"Mag\": 14.716,\n",
      "      \"MagErr\": 0.13,\n",
      "      \"MagFilter\": \"J\",\n",
      "      \"association_type\": \"SN\",\n",
      "      \"catalogue_object_id\": \"03391748-2710138\",\n",
      "      \"catalogue_object_type\": \"galaxy\",\n"
     ]
    }
   ],
   "source": [
    "lite=True\n",
    "result = L.sherlock_object(objectId, lite=lite)\n",
    "print15(json.dumps(result, indent=2))"
   ]
  },
  {
   "cell_type": "markdown",
   "id": "7f55d1b2-766a-49b4-a2b4-f1535a5acf7f",
   "metadata": {},
   "source": [
    "## Sherlock Position"
   ]
  },
  {
   "cell_type": "code",
   "execution_count": 9,
   "id": "5ec9986d-0fda-4ecc-bdf7-bd2ea0fb7b40",
   "metadata": {},
   "outputs": [
    {
     "name": "stdout",
     "output_type": "stream",
     "text": [
      "{\n",
      "  \"classifications\": {\n",
      "    \"query0\": [\n",
      "      \"SN\",\n",
      "      \"The transient is possibly associated with <em>03391748-2710138</em>; a J=14.72 mag galaxy found in the 2MASS catalogue. It's located 20.76\\\" S, 7.30\\\" W from the galaxy centre.\"\n",
      "    ]\n",
      "  },\n",
      "  \"crossmatches\": [\n",
      "    {\n",
      "      \"Mag\": 14.716,\n",
      "      \"MagErr\": 0.13,\n",
      "      \"MagFilter\": \"J\",\n",
      "      \"association_type\": \"SN\",\n",
      "      \"catalogue_object_id\": \"03391748-2710138\",\n",
      "      \"catalogue_object_type\": \"galaxy\",\n"
     ]
    }
   ],
   "source": [
    "result = L.sherlock_position(ra, dec, lite=lite)\n",
    "print15(json.dumps(result, indent=2))"
   ]
  },
  {
   "cell_type": "markdown",
   "id": "e95d33b8-9662-4fc3-b583-93bdd2a9fa67",
   "metadata": {},
   "source": [
    "## All object data"
   ]
  },
  {
   "cell_type": "code",
   "execution_count": 10,
   "id": "05262196-dbd1-4f28-aa8f-26f9d2545af3",
   "metadata": {
    "scrolled": true
   },
   "outputs": [
    {
     "name": "stdout",
     "output_type": "stream",
     "text": [
      "{\n",
      "  \"diaObjectId\": \"3521874258609307650\",\n",
      "  \"lasairData\": {\n",
      "    \"nSources\": 7,\n",
      "    \"firstDiaSourceMJD\": 999.0,\n",
      "    \"lastDiaSourceMJD\": 61336.20732022106,\n",
      "    \"rasex\": \"03:39:16.936\",\n",
      "    \"decsex\": \"-27:10:34.646\",\n",
      "    \"ec_lon\": 43.44492858477278,\n",
      "    \"ec_lat\": -45.094607447840765,\n",
      "    \"now_mjd\": \"60795.45\",\n",
      "    \"mjdmin_ago\": 59796.44865981098,\n",
      "    \"mjdmax_ago\": -540.7586604100798,\n",
      "    \"discMjd\": 61314.27337522106,\n",
      "    \"discUtc\": \"2026-10-01 06:33:39\",\n",
      "    \"discMag\": \"4045.03\\u00b1961.56\",\n",
      "    \"discFilter\": \"g\",\n",
      "    \"latestMjd\": 61336.20732022106,\n",
      "    \"latestUtc\": \"2026-10-23 04:58:32\",\n",
      "    \"latestMag\": \"-751.77\\u00b1928.96\",\n",
      "    \"latestFilter\": \"g\",\n",
      "    \"peakMjd\": 61336.20732022106,\n",
      "    \"peakUtc\": \"2026-10-23 04:58:32\",\n",
      "    \"peakMag\": \"-751.77\\u00b1928.96\",\n",
      "    \"peakFilter\": \"g\",\n",
      "    \"sherlock\": {\n",
      "      \"diaObjectId\": 3521874258609307650,\n",
      "      \"classification\": \"SN\",\n",
      "      \"association_type\": \"SN\",\n",
      "      \"catalogue_table_name\": \"2MASS\",\n",
      "      \"catalogue_object_id\": \"03391748-2710138\",\n",
      "      \"catalogue_object_type\": \"galaxy\",\n",
      "      \"raDeg\": 54.822849,\n",
      "      \"decDeg\": -27.170523,\n",
      "      \"separationArcsec\": 22.011,\n",
      "      \"northSeparationArcsec\": 20.7635,\n",
      "      \"eastSeparationArcsec\": 7.30451,\n",
      "      \"physical_separation_kpc\": null,\n",
      "      \"direct_distance\": null,\n",
      "      \"distance\": null,\n",
      "      \"z\": null,\n",
      "      \"photoZ\": null,\n",
      "      \"photoZErr\": null,\n",
      "      \"Mag\": 14.716,\n",
      "      \"MagFilter\": \"J\",\n",
      "      \"MagErr\": 0.13,\n",
      "      \"classificationReliability\": 2,\n",
      "      \"major_axis_arcsec\": null,\n",
      "      \"annotator\": \"https://github.com/thespacedoctor/sherlock/releases/tag/v2.3.1\",\n",
      "      \"additional_output\": \"http://lasair-lsst.lsst.ac.uk/api/sherlock/object/3521874258609307650\",\n",
      "      \"description\": \"The transient is possibly associated with <em>03391748-2710138</em>; a J=14.72 mag galaxy found in the 2MASS catalogue. Its located 20.76\\\" S, 7.30\\\" W from the galaxy centre.\",\n",
      "      \"summary\": null\n",
      "    },\n",
      "    \"TNS\": {},\n",
      "    \"annotations\": [],\n",
      "    \"imageUrls\": [\n",
      "      {\n",
      "        \"Science\": \"https://lasair-lsst.lsst.ac.uk/fits/61336/3527249949735518217_cutoutScience\",\n",
      "        \"Template\": \"https://lasair-lsst.lsst.ac.uk/fits/61336/3527249949735518217_cutoutTemplate\",\n",
      "        \"Difference\": \"https://lasair-lsst.lsst.ac.uk/fits/61336/3527249949735518217_cutoutDifference\",\n",
      "        \"diaSourceId\": 3527249949735518217\n",
      "      },\n",
      "      {\n",
      "        \"Science\": \"https://lasair-lsst.lsst.ac.uk/fits/61330/3521874258609307650_cutoutScience\",\n",
      "        \"Template\": \"https://lasair-lsst.lsst.ac.uk/fits/61330/3521874258609307650_cutoutTemplate\",\n",
      "        \"Difference\": \"https://lasair-lsst.lsst.ac.uk/fits/61330/3521874258609307650_cutoutDifference\",\n",
      "        \"diaSourceId\": 3521874258609307650\n",
      "      },\n",
      "      {\n",
      "        \"Science\": \"https://lasair-lsst.lsst.ac.uk/fits/61314/3527247356649013271_cutoutScience\",\n",
      "        \"Template\": \"https://lasair-lsst.lsst.ac.uk/fits/61314/3527247356649013271_cutoutTemplate\",\n",
      "        \"Difference\": \"https://lasair-lsst.lsst.ac.uk/fits/61314/3527247356649013271_cutoutDifference\",\n",
      "        \"diaSourceId\": 3527247356649013271\n",
      "      },\n",
      "      {\n",
      "        \"Science\": \"https://lasair-lsst.lsst.ac.uk/fits/61314/3527248430390837271_cutoutScience\",\n",
      "        \"Template\": \"https://lasair-lsst.lsst.ac.uk/fits/61314/3527248430390837271_cutoutTemplate\",\n",
      "        \"Difference\": \"https://lasair-lsst.lsst.ac.uk/fits/61314/3527248430390837271_cutoutDifference\",\n",
      "        \"diaSourceId\": 3527248430390837271\n",
      "      },\n",
      "      {\n",
      "        \"Science\": \"https://lasair-lsst.lsst.ac.uk/fits/61314/3527246281296576548_cutoutScience\",\n",
      "        \"Template\": \"https://lasair-lsst.lsst.ac.uk/fits/61314/3527246281296576548_cutoutTemplate\",\n",
      "        \"Difference\": \"https://lasair-lsst.lsst.ac.uk/fits/61314/3527246281296576548_cutoutDifference\",\n",
      "        \"diaSourceId\": 3527246281296576548\n",
      "      },\n",
      "      {\n",
      "        \"Science\": \"https://lasair-lsst.lsst.ac.uk/fits/61314/3527246818167488548_cutoutScience\",\n",
      "        \"Template\": \"https://lasair-lsst.lsst.ac.uk/fits/61314/3527246818167488548_cutoutTemplate\",\n",
      "        \"Difference\": \"https://lasair-lsst.lsst.ac.uk/fits/61314/3527246818167488548_cutoutDifference\",\n",
      "        \"diaSourceId\": 3527246818167488548\n",
      "      },\n",
      "      {\n",
      "        \"Science\": \"https://lasair-lsst.lsst.ac.uk/fits/61314/3527247891909312548_cutoutScience\",\n",
      "        \"Template\": \"https://lasair-lsst.lsst.ac.uk/fits/61314/3527247891909312548_cutoutTemplate\",\n",
      "        \"Difference\": \"https://lasair-lsst.lsst.ac.uk/fits/61314/3527247891909312548_cutoutDifference\",\n",
      "        \"diaSourceId\": 3527247891909312548\n",
      "      }\n",
      "    ]\n",
      "  },\n",
      "  \"diaObject\": {\n",
      "    \"ra\": 54.82056823745111,\n",
      "    \"decl\": -27.176290651327594,\n",
      "    \"firstDiaSourceMJD\": 999.0,\n",
      "    \"lastDiaSourceMJD\": 61336.20732022106\n",
      "  },\n",
      "  \"diaSources\": [\n",
      "    {\n",
      "      \"diaSourceId\": 3527249949735518217,\n",
      "      \"midpointMjdTai\": 61336.20732022106,\n",
      "      \"band\": \"g\",\n",
      "      \"psfFlux\": -751.767578125,\n",
      "      \"psfFluxErr\": 928.9607543945312\n",
      "    },\n",
      "    {\n",
      "      \"diaSourceId\": 3521874258609307650,\n",
      "      \"midpointMjdTai\": 61330.16747722222,\n",
      "      \"band\": \"r\",\n",
      "      \"psfFlux\": 43737.4765625,\n",
      "      \"psfFluxErr\": 1125.5462646484375\n",
      "    },\n",
      "    {\n",
      "      \"diaSourceId\": 3527247356649013271,\n",
      "      \"midpointMjdTai\": 61314.273792222215,\n",
      "      \"band\": \"g\",\n",
      "      \"psfFlux\": 762.8988037109375,\n",
      "      \"psfFluxErr\": 929.4595947265625\n",
      "    },\n",
      "    {\n",
      "      \"diaSourceId\": 3527248430390837271,\n",
      "      \"midpointMjdTai\": 61314.273792222215,\n",
      "      \"band\": \"g\",\n",
      "      \"psfFlux\": 762.8988037109375,\n",
      "      \"psfFluxErr\": 929.4595947265625\n",
      "    },\n",
      "    {\n",
      "      \"diaSourceId\": 3527246281296576548,\n",
      "      \"midpointMjdTai\": 61314.27337522106,\n",
      "      \"band\": \"g\",\n",
      "      \"psfFlux\": 4045.029296875,\n",
      "      \"psfFluxErr\": 961.5590209960938\n",
      "    },\n",
      "    {\n",
      "      \"diaSourceId\": 3527246818167488548,\n",
      "      \"midpointMjdTai\": 61314.27337522106,\n",
      "      \"band\": \"g\",\n",
      "      \"psfFlux\": 4044.686279296875,\n",
      "      \"psfFluxErr\": 961.55859375\n",
      "    },\n",
      "    {\n",
      "      \"diaSourceId\": 3527247891909312548,\n",
      "      \"midpointMjdTai\": 61314.27337522106,\n",
      "      \"band\": \"g\",\n",
      "      \"psfFlux\": 4044.686279296875,\n",
      "      \"psfFluxErr\": 961.55859375\n",
      "    }\n",
      "  ],\n",
      "  \"diaForcedSources\": [\n",
      "    {\n",
      "      \"midpointMjdTai\": 61314.27337522106,\n",
      "      \"band\": \"g\",\n",
      "      \"psfFlux\": 4057.868408203125,\n",
      "      \"psfFluxErr\": 959.755126953125\n",
      "    },\n",
      "    {\n",
      "      \"midpointMjdTai\": 61314.273792222215,\n",
      "      \"band\": \"g\",\n",
      "      \"psfFlux\": 741.6799926757812,\n",
      "      \"psfFluxErr\": 928.9268798828125\n",
      "    },\n",
      "    {\n",
      "      \"midpointMjdTai\": 61336.20732022106,\n",
      "      \"band\": \"g\",\n",
      "      \"psfFlux\": -626.6778564453125,\n",
      "      \"psfFluxErr\": 933.2615356445312\n",
      "    }\n",
      "  ]\n",
      "}\n"
     ]
    }
   ],
   "source": [
    "result = L.object(objectId, lasair_added=True)\n",
    "print(json.dumps(result, indent=2))"
   ]
  },
  {
   "cell_type": "code",
   "execution_count": 11,
   "id": "8e20df34-1ec9-4687-a62e-f1d46c783060",
   "metadata": {},
   "outputs": [
    {
     "name": "stdout",
     "output_type": "stream",
     "text": [
      "{\n",
      "  \"diaObjectId\": \"3521874258609307650\",\n",
      "  \"diaSources\": [\n",
      "    {\n",
      "      \"diaSourceId\": 3527246281296576548,\n",
      "      \"midpointMjdTai\": 61314.27337522106,\n",
      "      \"band\": \"g\",\n",
      "      \"psfFlux\": 4045.029296875,\n",
      "      \"psfFluxErr\": 961.5590209960938\n",
      "    },\n",
      "    {\n",
      "      \"diaSourceId\": 3527246818167488548,\n",
      "      \"midpointMjdTai\": 61314.27337522106,\n",
      "      \"band\": \"g\",\n",
      "      \"psfFlux\": 4044.686279296875,\n"
     ]
    }
   ],
   "source": [
    "result = L.object(objectId, lasair_added=False)\n",
    "print15(json.dumps(result, indent=2))"
   ]
  },
  {
   "cell_type": "code",
   "execution_count": null,
   "id": "31293603-79f9-4de2-a7a6-6104336805e5",
   "metadata": {},
   "outputs": [],
   "source": []
  }
 ],
 "metadata": {
  "kernelspec": {
   "display_name": "Python 3 (ipykernel)",
   "language": "python",
   "name": "python3"
  },
  "language_info": {
   "codemirror_mode": {
    "name": "ipython",
    "version": 3
   },
   "file_extension": ".py",
   "mimetype": "text/x-python",
   "name": "python",
   "nbconvert_exporter": "python",
   "pygments_lexer": "ipython3",
   "version": "3.9.6"
  }
 },
 "nbformat": 4,
 "nbformat_minor": 5
}
