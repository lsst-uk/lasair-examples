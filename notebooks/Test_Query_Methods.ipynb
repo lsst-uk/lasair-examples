{
 "cells": [
  {
   "cell_type": "markdown",
   "id": "1e8c3712-21ff-42b6-835f-d23614b77718",
   "metadata": {},
   "source": [
    "# Test notebook to exercise the Lasair API"
   ]
  },
  {
   "cell_type": "code",
   "execution_count": 1,
   "id": "6567c208-6aee-4c59-9bf0-2ee8e85c4a8e",
   "metadata": {},
   "outputs": [
    {
     "name": "stdout",
     "output_type": "stream",
     "text": [
      "Python 3.9.6\n"
     ]
    }
   ],
   "source": [
    "#!/usr/bin/pip3 install lasair --upgrade\n",
    "!/usr/bin/python3 --version\n",
    "import sys"
   ]
  },
  {
   "cell_type": "markdown",
   "id": "4bd9a62b-df77-4349-86b1-082cbaeee3ef",
   "metadata": {},
   "source": [
    "Change this to the API token and endpoint you want to test"
   ]
  },
  {
   "cell_type": "code",
   "execution_count": 2,
   "id": "da26750c-9e25-44a0-8f3f-891877c0b19c",
   "metadata": {},
   "outputs": [],
   "source": [
    "lsst=True # if you change this restart kernel\n",
    "\n",
    "if lsst:\n",
    "    sys.path.append('API_lsst')\n",
    "    import settings\n",
    "    endpoint = \"https://lasair-lsst.lsst.ac.uk/api\"\n",
    "    oid = 'diaObjectId'\n",
    "    raname = 'ra'\n",
    "    decname = 'decl'\n",
    "else:\n",
    "    sys.path.append('API_ztf')\n",
    "    import settings\n",
    "    endpoint = \"https://lasair-ztf.lsst.ac.uk/api\"\n",
    "    oid = 'objectId'\n",
    "    raname = 'ramean'\n",
    "    decname = 'decmean'"
   ]
  },
  {
   "cell_type": "markdown",
   "id": "e4e2bb17-12f8-40eb-a34e-a6250a172628",
   "metadata": {},
   "source": [
    "Fetch your API TOKEN from your Lasair account, top right under \"profile\""
   ]
  },
  {
   "cell_type": "code",
   "execution_count": 3,
   "id": "92bccfc8-56f0-4c43-badf-e9321ddeb265",
   "metadata": {},
   "outputs": [
    {
     "name": "stderr",
     "output_type": "stream",
     "text": [
      "/Users/rwillia5/Library/Python/3.9/lib/python/site-packages/urllib3/__init__.py:35: NotOpenSSLWarning: urllib3 v2 only supports OpenSSL 1.1.1+, currently the 'ssl' module is compiled with 'LibreSSL 2.8.3'. See: https://github.com/urllib3/urllib3/issues/3020\n",
      "  warnings.warn(\n"
     ]
    }
   ],
   "source": [
    "import json\n",
    "from lasair import LasairError, lasair_client as lasair\n",
    "import settings\n",
    "L = lasair(settings.API_TOKEN, endpoint=endpoint)"
   ]
  },
  {
   "cell_type": "markdown",
   "id": "229a8cfb-ec3c-4868-b753-c140561ffb06",
   "metadata": {},
   "source": [
    "## Cone search"
   ]
  },
  {
   "cell_type": "code",
   "execution_count": 4,
   "id": "a89f2872-5f53-414d-a5c9-f357491e7fad",
   "metadata": {},
   "outputs": [
    {
     "name": "stdout",
     "output_type": "stream",
     "text": [
      "{\n",
      "  \"nearest\": {\n",
      "    \"object\": 3068394074097582956,\n",
      "    \"separation\": 38.04260238794738\n",
      "  }\n",
      "}\n"
     ]
    }
   ],
   "source": [
    "racone  = 279.22\n",
    "deccone = -47.91\n",
    "radius = 60 # arcsec\n",
    "try:\n",
    "    result = L.cone(racone, deccone, radius, requestType='nearest')\n",
    "    print(json.dumps(result, indent=2))\n",
    "except:\n",
    "    print('nothing found')"
   ]
  },
  {
   "cell_type": "markdown",
   "id": "630cd4ba-065b-4ccc-97b0-1e3f9a6b6475",
   "metadata": {},
   "source": [
    "## Database query"
   ]
  },
  {
   "cell_type": "code",
   "execution_count": 5,
   "id": "0fab510d-d177-4102-bcce-4f3b3e912df9",
   "metadata": {},
   "outputs": [
    {
     "name": "stdout",
     "output_type": "stream",
     "text": [
      "3068394045085582376 279.4857903368685 -47.84907173583371\n",
      "3068394045085582397 279.4911834960133 -47.851086891736536\n",
      "3068394045093970099 279.50723719217103 -47.959219936975515\n",
      "3068394045093970122 279.5092098287064 -47.96506904230121\n",
      "3068394045098164290 279.57432447327443 -47.898577765375954\n",
      "3068394045098164346 279.59900590033993 -47.89783886044228\n",
      "3068394045098164368 279.5981865459994 -47.90226079565548\n",
      "3068394045098164397 279.60419470778953 -47.90672790398636\n",
      "3068394045098164399 279.5485257345532 -47.93950914859985\n",
      "3068394045098164648 279.5885176313158 -47.98057858881655\n"
     ]
    }
   ],
   "source": [
    "selected = 'objects.%s, objects.%s, objects.%s' % (oid, raname, decname)\n",
    "tables = 'objects,sherlock_classifications'\n",
    "conditions = 'classification=\"SN\"'\n",
    "results = L.query(selected, tables, conditions, limit = 10)\n",
    "\n",
    "for row in results:\n",
    "    objectId = row[oid]\n",
    "    ra = row[raname]\n",
    "    dec = row[decname]\n",
    "    print(objectId, ra, dec)\n",
    "\n",
    "# Just use this objectId in subsequent calls\n",
    "objectId = str(objectId)"
   ]
  },
  {
   "cell_type": "markdown",
   "id": "269967d9-50a6-45c2-858a-37adf5fd5a69",
   "metadata": {},
   "source": [
    "## Lightcurves"
   ]
  },
  {
   "cell_type": "code",
   "execution_count": 6,
   "id": "fc26ee55-3bf0-48b1-8a5e-c00f6e9957a1",
   "metadata": {
    "scrolled": true
   },
   "outputs": [
    {
     "name": "stdout",
     "output_type": "stream",
     "text": [
      "{\n",
      "  \"diaObjectId\": 3068394045098164648,\n",
      "  \"diaSources\": [\n",
      "    {\n",
      "      \"diaSourceId\": 3068394045098164648,\n",
      "      \"midpointMjdTai\": 60487.05553157995,\n",
      "      \"ra\": 279.58852422822304,\n",
      "      \"decl\": -47.980596512862036,\n",
      "      \"band\": \"r\",\n",
      "      \"psfFlux\": 5206.4853515625,\n",
      "      \"psfFluxErr\": 770.6403198242188\n",
      "    },\n",
      "    {\n",
      "      \"diaSourceId\": 3068394047233065052,\n",
      "      \"midpointMjdTai\": 60487.05646859384,\n",
      "      \"ra\": 279.5885110344132,\n",
      "      \"decl\": -47.98056066477067,\n",
      "      \"band\": \"r\",\n",
      "      \"psfFlux\": 10816.3046875,\n",
      "      \"psfFluxErr\": 751.903564453125\n",
      "    }\n",
      "  ],\n",
      "  \"diaForcedSources\": [\n",
      "    {\n",
      "      \"midpointMjdTai\": 60487.05646859384,\n",
      "      \"band\": \"r\",\n",
      "      \"psfFlux\": 10832.7724609375,\n",
      "      \"psfFluxErr\": 779.3530883789062\n",
      "    }\n",
      "  ]\n",
      "}\n"
     ]
    }
   ],
   "source": [
    "result = L.object(objectId, lasair_added=False)\n",
    "print(json.dumps(result, indent=2))"
   ]
  },
  {
   "cell_type": "markdown",
   "id": "df1f158e-17b3-4c8f-92b4-536334cae1dc",
   "metadata": {},
   "source": [
    "## Sherlock Object"
   ]
  },
  {
   "cell_type": "code",
   "execution_count": 7,
   "id": "0a99e90d-c11e-49d5-b42c-2d26fd10efdc",
   "metadata": {
    "scrolled": true
   },
   "outputs": [
    {
     "name": "stdout",
     "output_type": "stream",
     "text": [
      "{\n",
      "  \"classifications\": {\n",
      "    \"3068394045098164648\": [\n",
      "      \"SN\",\n",
      "      \"The transient is possibly associated with <em>18382354-4758568</em>; a J=14.02 mag galaxy found in the 2MASS catalogue. It's located 6.77\\\" N, 23.12\\\" W from the galaxy centre.\"\n",
      "    ]\n",
      "  },\n",
      "  \"crossmatches\": [\n",
      "    {\n",
      "      \"Mag\": 14.015,\n",
      "      \"MagErr\": 0.111,\n",
      "      \"MagFilter\": \"J\",\n",
      "      \"association_type\": \"SN\",\n",
      "      \"catalogue_object_id\": \"18382354-4758568\",\n",
      "      \"catalogue_object_type\": \"galaxy\",\n",
      "      \"catalogue_table_name\": \"2MASS\",\n",
      "      \"classificationReliability\": 2,\n",
      "      \"decDeg\": -47.98246,\n",
      "      \"direct_distance\": null,\n",
      "      \"distance\": null,\n",
      "      \"eastSeparationArcsec\": \"23.125\",\n",
      "      \"major_axis_arcsec\": null,\n",
      "      \"northSeparationArcsec\": \"-6.773\",\n",
      "      \"photoZ\": null,\n",
      "      \"photoZErr\": null,\n",
      "      \"physical_separation_kpc\": null,\n",
      "      \"raDeg\": 279.598114,\n",
      "      \"separationArcsec\": 24.096,\n",
      "      \"transient_object_id\": \"3068394045098164648\",\n",
      "      \"z\": null\n",
      "    }\n",
      "  ]\n",
      "}\n"
     ]
    }
   ],
   "source": [
    "lite=True\n",
    "result = L.sherlock_object(objectId, lite=lite)\n",
    "print(json.dumps(result, indent=2))"
   ]
  },
  {
   "cell_type": "markdown",
   "id": "7f55d1b2-766a-49b4-a2b4-f1535a5acf7f",
   "metadata": {},
   "source": [
    "## Sherlock Position"
   ]
  },
  {
   "cell_type": "code",
   "execution_count": 8,
   "id": "5ec9986d-0fda-4ecc-bdf7-bd2ea0fb7b40",
   "metadata": {
    "scrolled": true
   },
   "outputs": [
    {
     "name": "stdout",
     "output_type": "stream",
     "text": [
      "{\n",
      "  \"classifications\": {\n",
      "    \"query0\": [\n",
      "      \"SN\",\n",
      "      \"The transient is possibly associated with <em>18382354-4758568</em>; a J=14.02 mag galaxy found in the 2MASS catalogue. It's located 6.77\\\" N, 23.12\\\" W from the galaxy centre.\"\n",
      "    ]\n",
      "  },\n",
      "  \"crossmatches\": [\n",
      "    {\n",
      "      \"Mag\": 14.015,\n",
      "      \"MagErr\": 0.111,\n",
      "      \"MagFilter\": \"J\",\n",
      "      \"association_type\": \"SN\",\n",
      "      \"catalogue_object_id\": \"18382354-4758568\",\n",
      "      \"catalogue_object_type\": \"galaxy\",\n",
      "      \"catalogue_table_name\": \"2MASS\",\n",
      "      \"classificationReliability\": 2,\n",
      "      \"decDeg\": -47.98246,\n",
      "      \"direct_distance\": null,\n",
      "      \"distance\": null,\n",
      "      \"eastSeparationArcsec\": \"23.125\",\n",
      "      \"major_axis_arcsec\": null,\n",
      "      \"northSeparationArcsec\": \"-6.773\",\n",
      "      \"photoZ\": null,\n",
      "      \"photoZErr\": null,\n",
      "      \"physical_separation_kpc\": null,\n",
      "      \"raDeg\": 279.598114,\n",
      "      \"separationArcsec\": 24.096,\n",
      "      \"transient_object_id\": \"query0\",\n",
      "      \"z\": null\n",
      "    }\n",
      "  ]\n",
      "}\n"
     ]
    }
   ],
   "source": [
    "result = L.sherlock_position(ra, dec, lite=lite)\n",
    "print(json.dumps(result, indent=2))"
   ]
  },
  {
   "cell_type": "markdown",
   "id": "e95d33b8-9662-4fc3-b583-93bdd2a9fa67",
   "metadata": {},
   "source": [
    "## All object data"
   ]
  },
  {
   "cell_type": "code",
   "execution_count": 9,
   "id": "05262196-dbd1-4f28-aa8f-26f9d2545af3",
   "metadata": {
    "scrolled": true
   },
   "outputs": [
    {
     "name": "stdout",
     "output_type": "stream",
     "text": [
      "{\n",
      "  \"diaObjectId\": 3068394045098164648,\n",
      "  \"objectData\": {\n",
      "    \"nSources\": 2,\n",
      "    \"ra\": 279.5885176313158,\n",
      "    \"decl\": -47.98057858881655,\n",
      "    \"mjdmin\": 60487.05553157995,\n",
      "    \"mjdmax\": 60487.05646859384,\n",
      "    \"rasex\": \"18:38:21.244\",\n",
      "    \"decsex\": \"-47:58:50.083\",\n",
      "    \"ec_lon\": 277.0539163377847,\n",
      "    \"ec_lat\": -24.77580615578947,\n",
      "    \"now_mjd\": \"60699.42\",\n",
      "    \"mjdmin_ago\": 212.36016425039998,\n",
      "    \"mjdmax_ago\": 212.3592272365131,\n",
      "    \"discMjd\": 60487.05553157995,\n",
      "    \"discUtc\": \"2024-06-26 01:19:57\",\n",
      "    \"discMag\": \"5206.49\\u00b1770.64\",\n",
      "    \"discFilter\": \"r\",\n",
      "    \"latestMjd\": 60487.05646859384,\n",
      "    \"latestUtc\": \"2024-06-26 01:21:18\",\n",
      "    \"latestMag\": \"10816.30\\u00b1751.90\",\n",
      "    \"latestFilter\": \"r\",\n",
      "    \"peakMjd\": 60487.05553157995,\n",
      "    \"peakUtc\": \"2024-06-26 01:19:57\",\n",
      "    \"peakMag\": \"5206.49\\u00b1770.64\",\n",
      "    \"peakFilter\": \"r\"\n",
      "  },\n",
      "  \"diaSources\": [\n",
      "    {\n",
      "      \"diaSourceId\": 3068394047233065052,\n",
      "      \"midpointMjdTai\": 60487.05646859384,\n",
      "      \"ra\": 279.5885110344132,\n",
      "      \"decl\": -47.98056066477067,\n",
      "      \"band\": \"r\",\n",
      "      \"psfFlux\": 10816.3046875,\n",
      "      \"psfFluxErr\": 751.903564453125,\n",
      "      \"json\": \"\\n  \\\"diaSourceId\\\": 3068394047233065052,\\n  \\\"midpointMjdTai\\\": 60487.05646859384,\\n  \\\"ra\\\": 279.5885110344132,\\n  \\\"decl\\\": -47.98056066477067,\\n  \\\"band\\\": \\\"r\\\",\\n  \\\"psfFlux\\\": 10816.3046875,\\n  \\\"psfFluxErr\\\": 751.903564453125\\n\",\n",
      "      \"mjd\": 60487.05646859384,\n",
      "      \"imjd\": 60487,\n",
      "      \"since_now\": -212.3592272365131,\n",
      "      \"utc\": \"2024-06-26 01:21:18\",\n",
      "      \"image_urls\": {\n",
      "        \"Science\": \"https://lasair-lsst.lsst.ac.uk/fits/60487/3068394047233065052_cutoutScience\",\n",
      "        \"Template\": \"https://lasair-lsst.lsst.ac.uk/fits/60487/3068394047233065052_cutoutTemplate\",\n",
      "        \"Difference\": \"https://lasair-lsst.lsst.ac.uk/fits/60487/3068394047233065052_cutoutDifference\"\n",
      "      }\n",
      "    },\n",
      "    {\n",
      "      \"diaSourceId\": 3068394045098164648,\n",
      "      \"midpointMjdTai\": 60487.05553157995,\n",
      "      \"ra\": 279.58852422822304,\n",
      "      \"decl\": -47.980596512862036,\n",
      "      \"band\": \"r\",\n",
      "      \"psfFlux\": 5206.4853515625,\n",
      "      \"psfFluxErr\": 770.6403198242188,\n",
      "      \"json\": \"\\n  \\\"diaSourceId\\\": 3068394045098164648,\\n  \\\"midpointMjdTai\\\": 60487.05553157995,\\n  \\\"ra\\\": 279.58852422822304,\\n  \\\"decl\\\": -47.980596512862036,\\n  \\\"band\\\": \\\"r\\\",\\n  \\\"psfFlux\\\": 5206.4853515625,\\n  \\\"psfFluxErr\\\": 770.6403198242188\\n\",\n",
      "      \"mjd\": 60487.05553157995,\n",
      "      \"imjd\": 60487,\n",
      "      \"since_now\": -212.36016425039998,\n",
      "      \"utc\": \"2024-06-26 01:19:57\",\n",
      "      \"image_urls\": {\n",
      "        \"Science\": \"https://lasair-lsst.lsst.ac.uk/fits/60487/3068394045098164648_cutoutScience\",\n",
      "        \"Template\": \"https://lasair-lsst.lsst.ac.uk/fits/60487/3068394045098164648_cutoutTemplate\",\n",
      "        \"Difference\": \"https://lasair-lsst.lsst.ac.uk/fits/60487/3068394045098164648_cutoutDifference\"\n",
      "      }\n",
      "    }\n",
      "  ],\n",
      "  \"diaForcedSources\": [\n",
      "    {\n",
      "      \"midpointMjdTai\": 60487.05646859384,\n",
      "      \"band\": \"r\",\n",
      "      \"psfFlux\": 10832.7724609375,\n",
      "      \"psfFluxErr\": 779.3530883789062\n",
      "    }\n",
      "  ],\n",
      "  \"sherlock\": {\n",
      "    \"diaObjectId\": 3068394045098164648,\n",
      "    \"classification\": \"SN\",\n",
      "    \"association_type\": \"SN\",\n",
      "    \"catalogue_table_name\": \"2MASS\",\n",
      "    \"catalogue_object_id\": \"18382354-4758568\",\n",
      "    \"catalogue_object_type\": \"galaxy\",\n",
      "    \"raDeg\": 279.598114,\n",
      "    \"decDeg\": -47.98246,\n",
      "    \"separationArcsec\": 24.096,\n",
      "    \"northSeparationArcsec\": -6.773,\n",
      "    \"eastSeparationArcsec\": 23.125,\n",
      "    \"physical_separation_kpc\": null,\n",
      "    \"direct_distance\": null,\n",
      "    \"distance\": null,\n",
      "    \"z\": null,\n",
      "    \"photoZ\": null,\n",
      "    \"photoZErr\": null,\n",
      "    \"Mag\": 14.015,\n",
      "    \"MagFilter\": \"J\",\n",
      "    \"MagErr\": 0.111,\n",
      "    \"classificationReliability\": 2,\n",
      "    \"major_axis_arcsec\": null,\n",
      "    \"annotator\": \"https://github.com/thespacedoctor/sherlock/releases/tag/v2.3.1\",\n",
      "    \"additional_output\": \"http://lasair-lsst.lsst.ac.uk/api/sherlock/object/3068394045098164648\",\n",
      "    \"description\": \"The transient is possibly associated with <em>18382354-4758568</em>; a J=14.02 mag galaxy found in the 2MASS catalogue. Its located 6.77\\\" N, 23.12\\\" W from the galaxy centre.\",\n",
      "    \"summary\": null\n",
      "  },\n",
      "  \"annotations\": [],\n",
      "  \"image_urls\": {},\n",
      "  \"TNS\": {},\n",
      "  \"message\": \"Got 4 diaSources\"\n",
      "}\n"
     ]
    }
   ],
   "source": [
    "result = L.object(objectId, lasair_added=True)\n",
    "print(json.dumps(result, indent=2))"
   ]
  }
 ],
 "metadata": {
  "kernelspec": {
   "display_name": "Python 3 (ipykernel)",
   "language": "python",
   "name": "python3"
  },
  "language_info": {
   "codemirror_mode": {
    "name": "ipython",
    "version": 3
   },
   "file_extension": ".py",
   "mimetype": "text/x-python",
   "name": "python",
   "nbconvert_exporter": "python",
   "pygments_lexer": "ipython3",
   "version": "3.9.6"
  }
 },
 "nbformat": 4,
 "nbformat_minor": 5
}
