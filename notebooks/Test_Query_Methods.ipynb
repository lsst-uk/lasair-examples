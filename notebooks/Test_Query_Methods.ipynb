{
 "cells": [
  {
   "cell_type": "markdown",
   "id": "9c2dda74-b76f-4bfc-a8a0-9455825bacae",
   "metadata": {},
   "source": [
    "# Test notebook to exercise the Lasair API\n",
    "### To run this notebook, please [follow the instructions](https://lasair-lsst.readthedocs.io/en/main/core_functions/python-notebooks.html) or else it won`t work.\n",
    "The instructions are at https://lasair-lsst.readthedocs.io/en/main/core_functions/python-notebooks.html"
   ]
  },
  {
   "cell_type": "code",
   "execution_count": 16,
   "id": "da26750c-9e25-44a0-8f3f-891877c0b19c",
   "metadata": {},
   "outputs": [],
   "source": [
    "import sys\n",
    "lsst=True # if you change this restart kernel\n",
    "\n",
    "if lsst:\n",
    "    sys.path.append('API_lsst')\n",
    "    import settings\n",
    "    endpoint = \"https://lasair-lsst.lsst.ac.uk/api\"\n",
    "    oid = 'diaObjectId'\n",
    "    raname = 'ra'\n",
    "    decname = 'decl'\n",
    "else:\n",
    "    sys.path.append('API_ztf')\n",
    "    import settings\n",
    "    endpoint = \"https://lasair-ztf.lsst.ac.uk/api\"\n",
    "    oid = 'objectId'\n",
    "    raname = 'ramean'\n",
    "    decname = 'decmean'"
   ]
  },
  {
   "cell_type": "code",
   "execution_count": 17,
   "id": "cb7a9768-ed17-40dc-9d8c-4a07cc383b9f",
   "metadata": {},
   "outputs": [],
   "source": [
    "import json\n",
    "from lasair import LasairError, lasair_client as lasair\n",
    "import settings\n",
    "L = lasair(settings.API_TOKEN, endpoint=endpoint)"
   ]
  },
  {
   "cell_type": "markdown",
   "id": "2acdac05-f2ce-4481-abef-b0ee22ef0e35",
   "metadata": {},
   "source": [
    "This function simply prints the first lines of the given string.\n",
    "You can replace it with the normal print if you want to see everything."
   ]
  },
  {
   "cell_type": "code",
   "execution_count": 18,
   "id": "939f08d3-3ff9-4534-a7b4-7f922156d4ba",
   "metadata": {},
   "outputs": [],
   "source": [
    "def print15(s):\n",
    "    print('\\n'.join(s.split('\\n')[:15]))"
   ]
  },
  {
   "cell_type": "markdown",
   "id": "229a8cfb-ec3c-4868-b753-c140561ffb06",
   "metadata": {},
   "source": [
    "## Cone search"
   ]
  },
  {
   "cell_type": "code",
   "execution_count": 19,
   "id": "a89f2872-5f53-414d-a5c9-f357491e7fad",
   "metadata": {},
   "outputs": [
    {
     "name": "stdout",
     "output_type": "stream",
     "text": [
      "{\n",
      "  \"nearest\": {\n",
      "    \"object\": 3516505585459658821,\n",
      "    \"separation\": 2.448364742741743\n",
      "  }\n",
      "}\n"
     ]
    }
   ],
   "source": [
    "racone  = 54.869\n",
    "deccone = -27.294\n",
    "radius = 60 # arcsec\n",
    "result = L.cone(racone, deccone, radius, requestType='nearest')\n",
    "print(json.dumps(result, indent=2))"
   ]
  },
  {
   "cell_type": "markdown",
   "id": "630cd4ba-065b-4ccc-97b0-1e3f9a6b6475",
   "metadata": {},
   "source": [
    "## Database query"
   ]
  },
  {
   "cell_type": "code",
   "execution_count": 20,
   "id": "0fab510d-d177-4102-bcce-4f3b3e912df9",
   "metadata": {},
   "outputs": [
    {
     "name": "stdout",
     "output_type": "stream",
     "text": [
      "3516505585459658821 54.869760771850316 -27.294073926963623\n",
      "3516505612303204354 51.358273330001936 -27.692442189066135\n",
      "3516506109982539799 52.84428812866385 -26.567196010769738\n",
      "3516506171722694675 51.96725530812655 -28.4613174524388\n",
      "3516508308468924426 53.01968624151246 -28.292557085291445\n",
      "3516508308468924434 53.085036036883515 -28.37399123521993\n",
      "3521874256998694923 54.99875627554984 -27.308598190156637\n",
      "3521874258609307650 54.82056823745111 -27.176290651327594\n"
     ]
    }
   ],
   "source": [
    "selected = 'objects.%s, objects.%s, objects.%s' % (oid, raname, decname)\n",
    "tables = 'objects,sherlock_classifications'\n",
    "conditions = 'classification=\"SN\"'\n",
    "results = L.query(selected, tables, conditions, limit = 8)\n",
    "\n",
    "for row in results:\n",
    "    objectId = row[oid]\n",
    "    ra = row[raname]\n",
    "    dec = row[decname]\n",
    "    print(objectId, ra, dec)\n",
    "\n",
    "# Just use this objectId in subsequent calls\n",
    "objectId = str(objectId)"
   ]
  },
  {
   "cell_type": "markdown",
   "id": "269967d9-50a6-45c2-858a-37adf5fd5a69",
   "metadata": {},
   "source": [
    "## Lightcurves"
   ]
  },
  {
   "cell_type": "code",
   "execution_count": 21,
   "id": "fc26ee55-3bf0-48b1-8a5e-c00f6e9957a1",
   "metadata": {},
   "outputs": [
    {
     "name": "stdout",
     "output_type": "stream",
     "text": [
      "{\n",
      "  \"diaObjectId\": \"3521874258609307650\",\n",
      "  \"diaSources\": [\n",
      "    {\n",
      "      \"diaSourceId\": 3527246281296576548,\n",
      "      \"midpointMjdTai\": 61314.27337522106,\n",
      "      \"band\": \"g\",\n",
      "      \"psfFlux\": 4045.029296875,\n",
      "      \"psfFluxErr\": 961.5590209960938\n",
      "    },\n",
      "    {\n",
      "      \"diaSourceId\": 3527246818167488548,\n",
      "      \"midpointMjdTai\": 61314.27337522106,\n",
      "      \"band\": \"g\",\n",
      "      \"psfFlux\": 4044.686279296875,\n"
     ]
    }
   ],
   "source": [
    "result = L.object(objectId, lasair_added=False)\n",
    "print15(json.dumps(result, indent=2))"
   ]
  },
  {
   "cell_type": "markdown",
   "id": "df1f158e-17b3-4c8f-92b4-536334cae1dc",
   "metadata": {},
   "source": [
    "## Sherlock Object"
   ]
  },
  {
   "cell_type": "code",
   "execution_count": 22,
   "id": "0a99e90d-c11e-49d5-b42c-2d26fd10efdc",
   "metadata": {
    "scrolled": true
   },
   "outputs": [
    {
     "name": "stdout",
     "output_type": "stream",
     "text": [
      "{\n",
      "  \"classifications\": {\n",
      "    \"3521874258609307650\": [\n",
      "      \"SN\",\n",
      "      \"The transient is possibly associated with <em>03391748-2710138</em>; a J=14.72 mag galaxy found in the 2MASS catalogue. It's located 20.76\\\" S, 7.30\\\" W from the galaxy centre.\"\n",
      "    ]\n",
      "  },\n",
      "  \"crossmatches\": [\n",
      "    {\n",
      "      \"Mag\": 14.716,\n",
      "      \"MagErr\": 0.13,\n",
      "      \"MagFilter\": \"J\",\n",
      "      \"association_type\": \"SN\",\n",
      "      \"catalogue_object_id\": \"03391748-2710138\",\n",
      "      \"catalogue_object_type\": \"galaxy\",\n"
     ]
    }
   ],
   "source": [
    "lite=True\n",
    "result = L.sherlock_object(objectId, lite=lite)\n",
    "print15(json.dumps(result, indent=2))"
   ]
  },
  {
   "cell_type": "markdown",
   "id": "7f55d1b2-766a-49b4-a2b4-f1535a5acf7f",
   "metadata": {},
   "source": [
    "## Sherlock Position"
   ]
  },
  {
   "cell_type": "code",
   "execution_count": 23,
   "id": "5ec9986d-0fda-4ecc-bdf7-bd2ea0fb7b40",
   "metadata": {},
   "outputs": [
    {
     "name": "stdout",
     "output_type": "stream",
     "text": [
      "{\n",
      "  \"classifications\": {\n",
      "    \"query0\": [\n",
      "      \"SN\",\n",
      "      \"The transient is possibly associated with <em>03391748-2710138</em>; a J=14.72 mag galaxy found in the 2MASS catalogue. It's located 20.76\\\" S, 7.30\\\" W from the galaxy centre.\"\n",
      "    ]\n",
      "  },\n",
      "  \"crossmatches\": [\n",
      "    {\n",
      "      \"Mag\": 14.716,\n",
      "      \"MagErr\": 0.13,\n",
      "      \"MagFilter\": \"J\",\n",
      "      \"association_type\": \"SN\",\n",
      "      \"catalogue_object_id\": \"03391748-2710138\",\n",
      "      \"catalogue_object_type\": \"galaxy\",\n"
     ]
    }
   ],
   "source": [
    "result = L.sherlock_position(ra, dec, lite=lite)\n",
    "print15(json.dumps(result, indent=2))"
   ]
  },
  {
   "cell_type": "markdown",
   "id": "e95d33b8-9662-4fc3-b583-93bdd2a9fa67",
   "metadata": {},
   "source": [
    "## All object data"
   ]
  },
  {
   "cell_type": "code",
   "execution_count": 24,
   "id": "05262196-dbd1-4f28-aa8f-26f9d2545af3",
   "metadata": {
    "scrolled": true
   },
   "outputs": [
    {
     "name": "stdout",
     "output_type": "stream",
     "text": [
      "{\n",
      "  \"diaObjectId\": \"3521874258609307650\",\n",
      "  \"lasairData\": {\n",
      "    \"nSources\": 7,\n",
      "    \"firstDiaSourceMJD\": 999.0,\n",
      "    \"lastDiaSourceMJD\": 61336.20732022106,\n",
      "    \"rasex\": \"03:39:16.936\",\n",
      "    \"decsex\": \"-27:10:34.646\",\n",
      "    \"ec_lon\": 43.44492858477278,\n",
      "    \"ec_lat\": -45.094607447840765,\n",
      "    \"now_mjd\": \"60810.43\",\n",
      "    \"mjdmin_ago\": 59811.4270038135,\n",
      "    \"mjdmax_ago\": -525.7803164075594,\n",
      "    \"discMjd\": 61314.27337522106,\n",
      "    \"discUtc\": \"2026-10-01 06:33:39\",\n"
     ]
    }
   ],
   "source": [
    "result = L.object(objectId, lasair_added=True)\n",
    "print15(json.dumps(result, indent=2))"
   ]
  },
  {
   "cell_type": "code",
   "execution_count": 25,
   "id": "8e20df34-1ec9-4687-a62e-f1d46c783060",
   "metadata": {},
   "outputs": [
    {
     "name": "stdout",
     "output_type": "stream",
     "text": [
      "{\n",
      "  \"diaObjectId\": \"3521874258609307650\",\n",
      "  \"diaSources\": [\n",
      "    {\n",
      "      \"diaSourceId\": 3527246281296576548,\n",
      "      \"midpointMjdTai\": 61314.27337522106,\n",
      "      \"band\": \"g\",\n",
      "      \"psfFlux\": 4045.029296875,\n",
      "      \"psfFluxErr\": 961.5590209960938\n",
      "    },\n",
      "    {\n",
      "      \"diaSourceId\": 3527246818167488548,\n",
      "      \"midpointMjdTai\": 61314.27337522106,\n",
      "      \"band\": \"g\",\n",
      "      \"psfFlux\": 4044.686279296875,\n"
     ]
    }
   ],
   "source": [
    "result = L.object(objectId, lasair_added=False)\n",
    "print15(json.dumps(result, indent=2))"
   ]
  },
  {
   "cell_type": "code",
   "execution_count": null,
   "id": "31293603-79f9-4de2-a7a6-6104336805e5",
   "metadata": {},
   "outputs": [],
   "source": []
  }
 ],
 "metadata": {
  "kernelspec": {
   "display_name": "Python 3 (ipykernel)",
   "language": "python",
   "name": "python3"
  },
  "language_info": {
   "codemirror_mode": {
    "name": "ipython",
    "version": 3
   },
   "file_extension": ".py",
   "mimetype": "text/x-python",
   "name": "python",
   "nbconvert_exporter": "python",
   "pygments_lexer": "ipython3",
   "version": "3.9.6"
  }
 },
 "nbformat": 4,
 "nbformat_minor": 5
}
