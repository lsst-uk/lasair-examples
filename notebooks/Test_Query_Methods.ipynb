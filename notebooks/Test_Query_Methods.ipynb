{
 "cells": [
  {
   "cell_type": "markdown",
   "id": "1e8c3712-21ff-42b6-835f-d23614b77718",
   "metadata": {},
   "source": [
    "# Test notebook to exercise the Lasair API"
   ]
  },
  {
   "cell_type": "code",
   "execution_count": 9,
   "id": "6567c208-6aee-4c59-9bf0-2ee8e85c4a8e",
   "metadata": {},
   "outputs": [],
   "source": [
    "#!/usr/bin/pip3 install lasair --upgrade\n",
    "import sys"
   ]
  },
  {
   "cell_type": "markdown",
   "id": "4bd9a62b-df77-4349-86b1-082cbaeee3ef",
   "metadata": {},
   "source": [
    "Change this to the API token and endpoint you want to test"
   ]
  },
  {
   "cell_type": "code",
   "execution_count": 10,
   "id": "da26750c-9e25-44a0-8f3f-891877c0b19c",
   "metadata": {},
   "outputs": [],
   "source": [
    "lsst=False # if you change this restart kernel\n",
    "\n",
    "if lsst:\n",
    "    sys.path.append('API_lsst')\n",
    "    import settings\n",
    "    endpoint = \"https://lasair-lsst.lsst.ac.uk/api\"\n",
    "    oid = 'diaObjectId'\n",
    "    raname = 'ra'\n",
    "    decname = 'decl'\n",
    "else:\n",
    "    sys.path.append('API_ztf')\n",
    "    import settings\n",
    "    endpoint = \"https://lasair-ztf.lsst.ac.uk/api\"\n",
    "    oid = 'objectId'\n",
    "    raname = 'ramean'\n",
    "    decname = 'decmean'"
   ]
  },
  {
   "cell_type": "markdown",
   "id": "e4e2bb17-12f8-40eb-a34e-a6250a172628",
   "metadata": {},
   "source": [
    "Fetch your API TOKEN from your Lasair account, top right under \"profile\""
   ]
  },
  {
   "cell_type": "code",
   "execution_count": 11,
   "id": "92bccfc8-56f0-4c43-badf-e9321ddeb265",
   "metadata": {},
   "outputs": [],
   "source": [
    "import json\n",
    "from lasair import LasairError, lasair_client as lasair\n",
    "import settings\n",
    "L = lasair(settings.API_TOKEN, endpoint=endpoint)"
   ]
  },
  {
   "cell_type": "markdown",
   "id": "2acdac05-f2ce-4481-abef-b0ee22ef0e35",
   "metadata": {},
   "source": [
    "This function simply prints the first lines of the given string.\n",
    "You can replace it with the normal print if you want to see everything."
   ]
  },
  {
   "cell_type": "code",
   "execution_count": 12,
   "id": "939f08d3-3ff9-4534-a7b4-7f922156d4ba",
   "metadata": {},
   "outputs": [],
   "source": [
    "def print15(s):\n",
    "    print('\\n'.join(s.split('\\n')[:15]))"
   ]
  },
  {
   "cell_type": "markdown",
   "id": "229a8cfb-ec3c-4868-b753-c140561ffb06",
   "metadata": {},
   "source": [
    "## Cone search"
   ]
  },
  {
   "cell_type": "code",
   "execution_count": 13,
   "id": "a89f2872-5f53-414d-a5c9-f357491e7fad",
   "metadata": {},
   "outputs": [
    {
     "name": "stdout",
     "output_type": "stream",
     "text": [
      "{}\n"
     ]
    }
   ],
   "source": [
    "racone  = 279.22\n",
    "deccone = -47.91\n",
    "radius = 60 # arcsec\n",
    "try:\n",
    "    result = L.cone(racone, deccone, radius, requestType='nearest')\n",
    "    print(json.dumps(result, indent=2))\n",
    "except:\n",
    "    print('nothing found')"
   ]
  },
  {
   "cell_type": "markdown",
   "id": "630cd4ba-065b-4ccc-97b0-1e3f9a6b6475",
   "metadata": {},
   "source": [
    "## Database query"
   ]
  },
  {
   "cell_type": "code",
   "execution_count": 14,
   "id": "0fab510d-d177-4102-bcce-4f3b3e912df9",
   "metadata": {},
   "outputs": [
    {
     "name": "stdout",
     "output_type": "stream",
     "text": [
      "ZTF17aaaadix 75.12347395 44.354569350000006\n",
      "ZTF17aaaadqv 71.60805805 44.11273665\n",
      "ZTF17aaaafup 82.7761669 23.7206974\n",
      "ZTF17aaaajfc 325.6841250888889 47.15376623333333\n",
      "ZTF17aaaazvg 324.920681575 45.644026475000004\n",
      "ZTF17aaabcyg 325.2470203 48.2919921\n",
      "ZTF17aaabjcs 80.7959107 43.3827689\n",
      "ZTF17aaabjzl 83.2787235 24.4758129\n",
      "ZTF17aaabneq 86.102355475 33.671121525000004\n",
      "ZTF17aaabolo 93.9713057 26.589379\n"
     ]
    }
   ],
   "source": [
    "selected = 'objects.%s, objects.%s, objects.%s' % (oid, raname, decname)\n",
    "tables = 'objects,sherlock_classifications'\n",
    "conditions = 'classification=\"SN\"'\n",
    "results = L.query(selected, tables, conditions, limit = 10)\n",
    "\n",
    "for row in results:\n",
    "    objectId = row[oid]\n",
    "    ra = row[raname]\n",
    "    dec = row[decname]\n",
    "    print(objectId, ra, dec)\n",
    "\n",
    "# Just use this objectId in subsequent calls\n",
    "objectId = str(objectId)"
   ]
  },
  {
   "cell_type": "markdown",
   "id": "269967d9-50a6-45c2-858a-37adf5fd5a69",
   "metadata": {},
   "source": [
    "## Lightcurves"
   ]
  },
  {
   "cell_type": "code",
   "execution_count": 15,
   "id": "fc26ee55-3bf0-48b1-8a5e-c00f6e9957a1",
   "metadata": {},
   "outputs": [
    {
     "name": "stdout",
     "output_type": "stream",
     "text": [
      "{\n",
      "  \"objectId\": \"ZTF17aaabolo\",\n",
      "  \"candidates\": [\n",
      "    {\n",
      "      \"candid\": 683360713415015053,\n",
      "      \"jd\": 2458437.8607176,\n",
      "      \"ra\": 93.9713126,\n",
      "      \"dec\": 26.5893983,\n",
      "      \"fid\": 2,\n",
      "      \"nid\": 683,\n",
      "      \"magpsf\": 19.496400833129883,\n",
      "      \"sigmapsf\": 0.14922399818897247,\n",
      "      \"magnr\": 21.604000091552734,\n",
      "      \"sigmagnr\": 0.13300000131130219,\n",
      "      \"magzpsci\": 26.334400177001953,\n"
     ]
    }
   ],
   "source": [
    "result = L.object(objectId, lasair_added=False)\n",
    "print15(json.dumps(result, indent=2))"
   ]
  },
  {
   "cell_type": "markdown",
   "id": "df1f158e-17b3-4c8f-92b4-536334cae1dc",
   "metadata": {},
   "source": [
    "## Sherlock Object"
   ]
  },
  {
   "cell_type": "code",
   "execution_count": 16,
   "id": "0a99e90d-c11e-49d5-b42c-2d26fd10efdc",
   "metadata": {
    "scrolled": true
   },
   "outputs": [
    {
     "ename": "LasairError",
     "evalue": "Bad Request:{\"error\":\"<html>\\r\\n<head><title>502 Bad Gateway</title></head>\\r\\n<body>\\r\\n<center><h1>502 Bad Gateway</h1></center>\\r\\n<hr><center>nginx/1.24.0 (Ubuntu)</center>\\r\\n</body>\\r\\n</html>\\r\\n\"}",
     "output_type": "error",
     "traceback": [
      "\u001b[0;31m---------------------------------------------------------------------------\u001b[0m",
      "\u001b[0;31mLasairError\u001b[0m                               Traceback (most recent call last)",
      "Cell \u001b[0;32mIn[16], line 2\u001b[0m\n\u001b[1;32m      1\u001b[0m lite\u001b[38;5;241m=\u001b[39m\u001b[38;5;28;01mTrue\u001b[39;00m\n\u001b[0;32m----> 2\u001b[0m result \u001b[38;5;241m=\u001b[39m \u001b[43mL\u001b[49m\u001b[38;5;241;43m.\u001b[39;49m\u001b[43msherlock_object\u001b[49m\u001b[43m(\u001b[49m\u001b[43mobjectId\u001b[49m\u001b[43m,\u001b[49m\u001b[43m \u001b[49m\u001b[43mlite\u001b[49m\u001b[38;5;241;43m=\u001b[39;49m\u001b[43mlite\u001b[49m\u001b[43m)\u001b[49m\n\u001b[1;32m      3\u001b[0m print15(json\u001b[38;5;241m.\u001b[39mdumps(result, indent\u001b[38;5;241m=\u001b[39m\u001b[38;5;241m2\u001b[39m))\n",
      "File \u001b[0;32m~/Library/Python/3.9/lib/python/site-packages/lasair/lasair.py:155\u001b[0m, in \u001b[0;36mlasair_client.sherlock_object\u001b[0;34m(self, objectId, lite)\u001b[0m\n\u001b[1;32m    145\u001b[0m \u001b[38;5;250m\u001b[39m\u001b[38;5;124;03m\"\"\" Query the Sherlock database for context information about an object\u001b[39;00m\n\u001b[1;32m    146\u001b[0m \u001b[38;5;124;03m    in the database.\u001b[39;00m\n\u001b[1;32m    147\u001b[0m \u001b[38;5;124;03margs:\u001b[39;00m\n\u001b[0;32m   (...)\u001b[0m\n\u001b[1;32m    152\u001b[0m \u001b[38;5;124;03m    dictionary\u001b[39;00m\n\u001b[1;32m    153\u001b[0m \u001b[38;5;124;03m\"\"\"\u001b[39;00m\n\u001b[1;32m    154\u001b[0m \u001b[38;5;28minput\u001b[39m \u001b[38;5;241m=\u001b[39m {\u001b[38;5;124m'\u001b[39m\u001b[38;5;124mobjectId\u001b[39m\u001b[38;5;124m'\u001b[39m:objectId, \u001b[38;5;124m'\u001b[39m\u001b[38;5;124mlite\u001b[39m\u001b[38;5;124m'\u001b[39m:lite}\n\u001b[0;32m--> 155\u001b[0m result \u001b[38;5;241m=\u001b[39m \u001b[38;5;28;43mself\u001b[39;49m\u001b[38;5;241;43m.\u001b[39;49m\u001b[43mfetch\u001b[49m\u001b[43m(\u001b[49m\u001b[38;5;124;43m'\u001b[39;49m\u001b[38;5;124;43msherlock/object\u001b[39;49m\u001b[38;5;124;43m'\u001b[39;49m\u001b[43m,\u001b[49m\u001b[43m \u001b[49m\u001b[38;5;28;43minput\u001b[39;49m\u001b[43m)\u001b[49m\n\u001b[1;32m    156\u001b[0m \u001b[38;5;28;01mreturn\u001b[39;00m result\n",
      "File \u001b[0;32m~/Library/Python/3.9/lib/python/site-packages/lasair/lasair.py:81\u001b[0m, in \u001b[0;36mlasair_client.fetch\u001b[0;34m(self, method, input)\u001b[0m\n\u001b[1;32m     78\u001b[0m     \u001b[38;5;28;01mexcept\u001b[39;00m:\n\u001b[1;32m     79\u001b[0m         \u001b[38;5;28;01mpass\u001b[39;00m\n\u001b[0;32m---> 81\u001b[0m result \u001b[38;5;241m=\u001b[39m \u001b[38;5;28;43mself\u001b[39;49m\u001b[38;5;241;43m.\u001b[39;49m\u001b[43mfetch_from_server\u001b[49m\u001b[43m(\u001b[49m\u001b[43mmethod\u001b[49m\u001b[43m,\u001b[49m\u001b[43m \u001b[49m\u001b[38;5;28;43minput\u001b[39;49m\u001b[43m)\u001b[49m\n\u001b[1;32m     83\u001b[0m \u001b[38;5;28;01mif\u001b[39;00m \u001b[38;5;124m'\u001b[39m\u001b[38;5;124merror\u001b[39m\u001b[38;5;124m'\u001b[39m \u001b[38;5;129;01min\u001b[39;00m result:\n\u001b[1;32m     84\u001b[0m     \u001b[38;5;28;01mreturn\u001b[39;00m result\n",
      "File \u001b[0;32m~/Library/Python/3.9/lib/python/site-packages/lasair/lasair.py:50\u001b[0m, in \u001b[0;36mlasair_client.fetch_from_server\u001b[0;34m(self, method, input)\u001b[0m\n\u001b[1;32m     48\u001b[0m \u001b[38;5;28;01melif\u001b[39;00m r\u001b[38;5;241m.\u001b[39mstatus_code \u001b[38;5;241m==\u001b[39m \u001b[38;5;241m400\u001b[39m:\n\u001b[1;32m     49\u001b[0m     message \u001b[38;5;241m=\u001b[39m \u001b[38;5;124m'\u001b[39m\u001b[38;5;124mBad Request:\u001b[39m\u001b[38;5;124m'\u001b[39m \u001b[38;5;241m+\u001b[39m r\u001b[38;5;241m.\u001b[39mtext\n\u001b[0;32m---> 50\u001b[0m     \u001b[38;5;28;01mraise\u001b[39;00m LasairError(message)\n\u001b[1;32m     51\u001b[0m \u001b[38;5;28;01melif\u001b[39;00m r\u001b[38;5;241m.\u001b[39mstatus_code \u001b[38;5;241m==\u001b[39m \u001b[38;5;241m401\u001b[39m:\n\u001b[1;32m     52\u001b[0m     message \u001b[38;5;241m=\u001b[39m \u001b[38;5;124m'\u001b[39m\u001b[38;5;124mUnauthorized\u001b[39m\u001b[38;5;124m'\u001b[39m\n",
      "\u001b[0;31mLasairError\u001b[0m: Bad Request:{\"error\":\"<html>\\r\\n<head><title>502 Bad Gateway</title></head>\\r\\n<body>\\r\\n<center><h1>502 Bad Gateway</h1></center>\\r\\n<hr><center>nginx/1.24.0 (Ubuntu)</center>\\r\\n</body>\\r\\n</html>\\r\\n\"}"
     ]
    }
   ],
   "source": [
    "lite=True\n",
    "result = L.sherlock_object(objectId, lite=lite)\n",
    "print15(json.dumps(result, indent=2))"
   ]
  },
  {
   "cell_type": "markdown",
   "id": "7f55d1b2-766a-49b4-a2b4-f1535a5acf7f",
   "metadata": {},
   "source": [
    "## Sherlock Position"
   ]
  },
  {
   "cell_type": "code",
   "execution_count": null,
   "id": "5ec9986d-0fda-4ecc-bdf7-bd2ea0fb7b40",
   "metadata": {},
   "outputs": [],
   "source": [
    "result = L.sherlock_position(ra, dec, lite=lite)\n",
    "print15(json.dumps(result, indent=2))"
   ]
  },
  {
   "cell_type": "markdown",
   "id": "e95d33b8-9662-4fc3-b583-93bdd2a9fa67",
   "metadata": {},
   "source": [
    "## All object data"
   ]
  },
  {
   "cell_type": "code",
   "execution_count": null,
   "id": "05262196-dbd1-4f28-aa8f-26f9d2545af3",
   "metadata": {
    "scrolled": true
   },
   "outputs": [],
   "source": [
    "result = L.object(objectId, lasair_added=True)\n",
    "print15(json.dumps(result, indent=2))"
   ]
  },
  {
   "cell_type": "code",
   "execution_count": null,
   "id": "8e20df34-1ec9-4687-a62e-f1d46c783060",
   "metadata": {},
   "outputs": [],
   "source": [
    "result = L.object(objectId, lasair_added=False)\n",
    "print15(json.dumps(result, indent=2))"
   ]
  },
  {
   "cell_type": "code",
   "execution_count": null,
   "id": "31293603-79f9-4de2-a7a6-6104336805e5",
   "metadata": {},
   "outputs": [],
   "source": []
  }
 ],
 "metadata": {
  "kernelspec": {
   "display_name": "Python 3 (ipykernel)",
   "language": "python",
   "name": "python3"
  },
  "language_info": {
   "codemirror_mode": {
    "name": "ipython",
    "version": 3
   },
   "file_extension": ".py",
   "mimetype": "text/x-python",
   "name": "python",
   "nbconvert_exporter": "python",
   "pygments_lexer": "ipython3",
   "version": "3.9.6"
  }
 },
 "nbformat": 4,
 "nbformat_minor": 5
}
