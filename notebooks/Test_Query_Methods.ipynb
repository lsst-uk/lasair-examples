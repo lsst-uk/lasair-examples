{
 "cells": [
  {
   "cell_type": "markdown",
   "id": "1e8c3712-21ff-42b6-835f-d23614b77718",
   "metadata": {},
   "source": [
    "# Test notebook to exercise the Lasair API"
   ]
  },
  {
   "cell_type": "code",
   "execution_count": 48,
   "id": "6567c208-6aee-4c59-9bf0-2ee8e85c4a8e",
   "metadata": {},
   "outputs": [],
   "source": [
    "#!/usr/bin/pip3 install lasair --upgrade\n",
    "import sys"
   ]
  },
  {
   "cell_type": "markdown",
   "id": "4bd9a62b-df77-4349-86b1-082cbaeee3ef",
   "metadata": {},
   "source": [
    "Change this to the API token and endpoint you want to test"
   ]
  },
  {
   "cell_type": "code",
   "execution_count": 49,
   "id": "da26750c-9e25-44a0-8f3f-891877c0b19c",
   "metadata": {},
   "outputs": [],
   "source": [
    "lsst=False # if you change this restart kernel\n",
    "\n",
    "if lsst:\n",
    "    sys.path.append('API_lsst')\n",
    "    import settings\n",
    "    endpoint = \"https://lasair-lsst.lsst.ac.uk/api\"\n",
    "    oid = 'diaObjectId'\n",
    "    raname = 'ra'\n",
    "    decname = 'decl'\n",
    "else:\n",
    "    sys.path.append('API_ztf')\n",
    "    import settings\n",
    "    endpoint = \"https://lasair-ztf.lsst.ac.uk/api\"\n",
    "    oid = 'objectId'\n",
    "    raname = 'ramean'\n",
    "    decname = 'decmean'"
   ]
  },
  {
   "cell_type": "markdown",
   "id": "e4e2bb17-12f8-40eb-a34e-a6250a172628",
   "metadata": {},
   "source": [
    "Fetch your API TOKEN from your Lasair account, top right under \"profile\""
   ]
  },
  {
   "cell_type": "code",
   "execution_count": 59,
   "id": "92bccfc8-56f0-4c43-badf-e9321ddeb265",
   "metadata": {},
   "outputs": [],
   "source": [
    "import json\n",
    "from lasair import LasairError, lasair_client as lasair\n",
    "import settings\n",
    "L = lasair(settings.API_TOKEN, endpoint=endpoint)"
   ]
  },
  {
   "cell_type": "markdown",
   "id": "2acdac05-f2ce-4481-abef-b0ee22ef0e35",
   "metadata": {},
   "source": [
    "This function simply prints the first lines of the given string.\n",
    "You can replace it with the normal print if you want to see everything."
   ]
  },
  {
   "cell_type": "code",
   "execution_count": 51,
   "id": "939f08d3-3ff9-4534-a7b4-7f922156d4ba",
   "metadata": {},
   "outputs": [],
   "source": [
    "def print15(s):\n",
    "    print('\\n'.join(s.split('\\n')[:15]))"
   ]
  },
  {
   "cell_type": "markdown",
   "id": "229a8cfb-ec3c-4868-b753-c140561ffb06",
   "metadata": {},
   "source": [
    "## Cone search"
   ]
  },
  {
   "cell_type": "code",
   "execution_count": 52,
   "id": "a89f2872-5f53-414d-a5c9-f357491e7fad",
   "metadata": {},
   "outputs": [
    {
     "name": "stdout",
     "output_type": "stream",
     "text": [
      "{}\n"
     ]
    }
   ],
   "source": [
    "racone  = 279.22\n",
    "deccone = -47.91\n",
    "radius = 60 # arcsec\n",
    "try:\n",
    "    result = L.cone(racone, deccone, radius, requestType='nearest')\n",
    "    print(json.dumps(result, indent=2))\n",
    "except:\n",
    "    print('nothing found')"
   ]
  },
  {
   "cell_type": "markdown",
   "id": "630cd4ba-065b-4ccc-97b0-1e3f9a6b6475",
   "metadata": {},
   "source": [
    "## Database query"
   ]
  },
  {
   "cell_type": "code",
   "execution_count": 53,
   "id": "0fab510d-d177-4102-bcce-4f3b3e912df9",
   "metadata": {},
   "outputs": [
    {
     "name": "stdout",
     "output_type": "stream",
     "text": [
      "ZTF17aaaadix 75.12347205 44.35462832500001\n",
      "ZTF17aaaadqv 71.608009725 44.112756225000005\n",
      "ZTF17aaaafup 82.7761669 23.7206974\n",
      "ZTF17aaaajfc 325.6841250888889 47.15376623333333\n",
      "ZTF17aaaazvg 324.920681575 45.644026475000004\n",
      "ZTF17aaabcyg 325.2470203 48.2919921\n",
      "ZTF17aaabjcs 80.7958842 43.3828067\n",
      "ZTF17aaabjzl 83.2787235 24.4758129\n",
      "ZTF17aaablao 58.854258099999996 45.597521900000004\n",
      "ZTF17aaabneq 86.10237208999999 33.67116910000001\n"
     ]
    }
   ],
   "source": [
    "selected = 'objects.%s, objects.%s, objects.%s' % (oid, raname, decname)\n",
    "tables = 'objects,sherlock_classifications'\n",
    "conditions = 'classification=\"SN\"'\n",
    "results = L.query(selected, tables, conditions, limit = 10)\n",
    "\n",
    "for row in results:\n",
    "    objectId = row[oid]\n",
    "    ra = row[raname]\n",
    "    dec = row[decname]\n",
    "    print(objectId, ra, dec)\n",
    "\n",
    "# Just use this objectId in subsequent calls\n",
    "objectId = str(objectId)"
   ]
  },
  {
   "cell_type": "markdown",
   "id": "269967d9-50a6-45c2-858a-37adf5fd5a69",
   "metadata": {},
   "source": [
    "## Lightcurves"
   ]
  },
  {
   "cell_type": "code",
   "execution_count": 54,
   "id": "fc26ee55-3bf0-48b1-8a5e-c00f6e9957a1",
   "metadata": {},
   "outputs": [
    {
     "name": "stdout",
     "output_type": "stream",
     "text": [
      "{\n",
      "  \"objectId\": \"ZTF17aaabneq\",\n",
      "  \"candidates\": [\n",
      "    {\n",
      "      \"candid\": 612491634315015274,\n",
      "      \"jd\": 2458366.9916319,\n",
      "      \"ra\": 86.1023997,\n",
      "      \"dec\": 33.6711337,\n",
      "      \"fid\": 2,\n",
      "      \"nid\": 612,\n",
      "      \"magpsf\": 18.031299591064453,\n",
      "      \"sigmapsf\": 0.0399399995803833,\n",
      "      \"magnr\": 20.60099983215332,\n",
      "      \"sigmagnr\": 0.03700000047683716,\n",
      "      \"magzpsci\": 0.0,\n"
     ]
    }
   ],
   "source": [
    "result = L.object(objectId, lasair_added=False)\n",
    "print15(json.dumps(result, indent=2))"
   ]
  },
  {
   "cell_type": "markdown",
   "id": "df1f158e-17b3-4c8f-92b4-536334cae1dc",
   "metadata": {},
   "source": [
    "## Sherlock Object"
   ]
  },
  {
   "cell_type": "code",
   "execution_count": 55,
   "id": "0a99e90d-c11e-49d5-b42c-2d26fd10efdc",
   "metadata": {
    "scrolled": true
   },
   "outputs": [
    {
     "name": "stdout",
     "output_type": "stream",
     "text": [
      "{\n",
      "  \"classifications\": {\n",
      "    \"ZTF17aaabneq\": [\n",
      "      \"SN\",\n",
      "      \"The transient is possibly associated with <em>148400861024026001</em>; an r=20.63 mag galaxy found in the PS1 catalogue. It's located 0.06\\\" N, 0.06\\\" W from the galaxy centre.\"\n",
      "    ]\n",
      "  },\n",
      "  \"crossmatches\": [\n",
      "    {\n",
      "      \"transient_object_id\": \"ZTF17aaabneq\",\n",
      "      \"association_type\": \"SN\",\n",
      "      \"catalogue_table_name\": \"PS1\",\n",
      "      \"catalogue_object_id\": \"148400861024026001\",\n",
      "      \"catalogue_object_type\": \"galaxy\",\n",
      "      \"raDeg\": 86.102393186,\n"
     ]
    }
   ],
   "source": [
    "lite=True\n",
    "result = L.sherlock_object(objectId, lite=lite)\n",
    "print15(json.dumps(result, indent=2))"
   ]
  },
  {
   "cell_type": "markdown",
   "id": "7f55d1b2-766a-49b4-a2b4-f1535a5acf7f",
   "metadata": {},
   "source": [
    "## Sherlock Position"
   ]
  },
  {
   "cell_type": "code",
   "execution_count": 56,
   "id": "5ec9986d-0fda-4ecc-bdf7-bd2ea0fb7b40",
   "metadata": {},
   "outputs": [
    {
     "name": "stdout",
     "output_type": "stream",
     "text": [
      "{\n",
      "  \"classifications\": {\n",
      "    \"transient_00000\": [\n",
      "      \"SN\",\n",
      "      \"The transient is possibly associated with <em>148400861024026001</em>; an r=20.63 mag galaxy found in the PS1 catalogue. It's located 0.06\\\" N, 0.06\\\" W from the galaxy centre.\"\n",
      "    ]\n",
      "  },\n",
      "  \"crossmatches\": [\n",
      "    {\n",
      "      \"transient_object_id\": \"transient_00000\",\n",
      "      \"association_type\": \"SN\",\n",
      "      \"catalogue_table_name\": \"PS1\",\n",
      "      \"catalogue_object_id\": \"148400861024026001\",\n",
      "      \"catalogue_object_type\": \"galaxy\",\n",
      "      \"raDeg\": 86.102393186,\n"
     ]
    }
   ],
   "source": [
    "result = L.sherlock_position(ra, dec, lite=lite)\n",
    "print15(json.dumps(result, indent=2))"
   ]
  },
  {
   "cell_type": "markdown",
   "id": "e95d33b8-9662-4fc3-b583-93bdd2a9fa67",
   "metadata": {},
   "source": [
    "## All object data"
   ]
  },
  {
   "cell_type": "code",
   "execution_count": 57,
   "id": "05262196-dbd1-4f28-aa8f-26f9d2545af3",
   "metadata": {
    "scrolled": true
   },
   "outputs": [
    {
     "name": "stdout",
     "output_type": "stream",
     "text": [
      "{\n",
      "  \"objectId\": \"ZTF17aaabneq\",\n",
      "  \"objectData\": {\n",
      "    \"ncand\": 10,\n",
      "    \"ramean\": 86.10237208999999,\n",
      "    \"decmean\": 33.67116910000001,\n",
      "    \"glonmean\": 175.8246897512245,\n",
      "    \"glatmean\": 2.250045897021075,\n",
      "    \"jdmin\": 2460666.7019792,\n",
      "    \"jdmax\": 2460695.6799306,\n",
      "    \"rasex\": \"05:44:24.569\",\n",
      "    \"decsex\": \"33:40:16.209\",\n",
      "    \"ec_lon\": 86.70410620921835,\n",
      "    \"ec_lat\": 10.27645968263629,\n",
      "    \"now_mjd\": \"60703.55\",\n"
     ]
    }
   ],
   "source": [
    "result = L.object(objectId, lasair_added=True)\n",
    "print15(json.dumps(result, indent=2))"
   ]
  },
  {
   "cell_type": "code",
   "execution_count": 58,
   "id": "8e20df34-1ec9-4687-a62e-f1d46c783060",
   "metadata": {},
   "outputs": [
    {
     "name": "stdout",
     "output_type": "stream",
     "text": [
      "{\n",
      "  \"objectId\": \"ZTF17aaabneq\",\n",
      "  \"candidates\": [\n",
      "    {\n",
      "      \"candid\": 612491634315015274,\n",
      "      \"jd\": 2458366.9916319,\n",
      "      \"ra\": 86.1023997,\n",
      "      \"dec\": 33.6711337,\n",
      "      \"fid\": 2,\n",
      "      \"nid\": 612,\n",
      "      \"magpsf\": 18.031299591064453,\n",
      "      \"sigmapsf\": 0.0399399995803833,\n",
      "      \"magnr\": 20.60099983215332,\n",
      "      \"sigmagnr\": 0.03700000047683716,\n",
      "      \"magzpsci\": 0.0,\n"
     ]
    }
   ],
   "source": [
    "result = L.object(objectId, lasair_added=False)\n",
    "print15(json.dumps(result, indent=2))"
   ]
  },
  {
   "cell_type": "code",
   "execution_count": null,
   "id": "31293603-79f9-4de2-a7a6-6104336805e5",
   "metadata": {},
   "outputs": [],
   "source": []
  }
 ],
 "metadata": {
  "kernelspec": {
   "display_name": "Python 3 (ipykernel)",
   "language": "python",
   "name": "python3"
  },
  "language_info": {
   "codemirror_mode": {
    "name": "ipython",
    "version": 3
   },
   "file_extension": ".py",
   "mimetype": "text/x-python",
   "name": "python",
   "nbconvert_exporter": "python",
   "pygments_lexer": "ipython3",
   "version": "3.9.6"
  }
 },
 "nbformat": 4,
 "nbformat_minor": 5
}
