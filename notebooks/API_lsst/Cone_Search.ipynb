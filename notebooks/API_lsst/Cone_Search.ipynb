{
 "cells": [
  {
   "cell_type": "markdown",
   "metadata": {
    "id": "fdk7f17q0By_"
   },
   "source": [
    "# Cone Search\n",
    "Simple cone search.  Given RA, Dec, radius and type of parameter we want do a cone search.  "
   ]
  },
  {
   "cell_type": "code",
   "execution_count": 3,
   "metadata": {
    "colab": {
     "base_uri": "https://localhost:8080/"
    },
    "id": "HDy9GRPR0WtB",
    "outputId": "899aed8b-ecd2-47bb-d85e-c2cdc0d27c46"
   },
   "outputs": [],
   "source": [
    "#!pip install lasair"
   ]
  },
  {
   "cell_type": "markdown",
   "metadata": {
    "id": "NwiguYXx0BzE"
   },
   "source": [
    "### Grab my Lasair API token\n",
    "Get your Lasair token before you start. You can log into [Lasair](https://lasair.lsst.ac.uk) and click \"My Profile\"\n",
    "at top right. Or use the command-line below.\n",
    "```bash\n",
    "curl --data \"username=myusername&password=***********\" https://lasair-lsst.lsst.ac.uk/api/auth-token/\n",
    "```\n",
    "Make a file called settings.py with a line like: `API_TOKEN = '0123456789abcdefxxxxxxxxxxxxxxxxxxxxxxxx'`"
   ]
  },
  {
   "cell_type": "code",
   "execution_count": 4,
   "metadata": {
    "id": "5NKYQWoJ0BzF"
   },
   "outputs": [
    {
     "name": "stderr",
     "output_type": "stream",
     "text": [
      "/Users/rwillia5/Library/Python/3.9/lib/python/site-packages/urllib3/__init__.py:35: NotOpenSSLWarning: urllib3 v2 only supports OpenSSL 1.1.1+, currently the 'ssl' module is compiled with 'LibreSSL 2.8.3'. See: https://github.com/urllib3/urllib3/issues/3020\n",
      "  warnings.warn(\n"
     ]
    }
   ],
   "source": [
    "import settings\n",
    "from astropy.time import Time\n",
    "import matplotlib.pyplot as plt\n",
    "from lasair import LasairError, lasair_client as lasair"
   ]
  },
  {
   "cell_type": "markdown",
   "metadata": {
    "id": "v5k9mNnr0BzF"
   },
   "source": [
    "### Do the cone search\n",
    "Get all, nearest or just count. Note that objects are returned in ascending order of separation."
   ]
  },
  {
   "cell_type": "code",
   "execution_count": 5,
   "metadata": {},
   "outputs": [],
   "source": [
    "L = lasair(settings.API_TOKEN, endpoint='https://lasair-lsst.lsst.ac.uk/api')\n",
    "ra = 279.851882\n",
    "dec=-47.968757\n",
    "radii = [100.0, 10, 0]"
   ]
  },
  {
   "cell_type": "markdown",
   "metadata": {},
   "source": [
    "## Count"
   ]
  },
  {
   "cell_type": "code",
   "execution_count": 6,
   "metadata": {},
   "outputs": [
    {
     "name": "stdout",
     "output_type": "stream",
     "text": [
      "Found 39 at radius 100.000000\n",
      "Found 1 at radius 10.000000\n",
      "Found 0 at radius 0.000000\n"
     ]
    }
   ],
   "source": [
    "for radius in radii:\n",
    "    result = L.cone(ra, dec, radius, requestType='count')\n",
    "    print('Found %d at radius %f' % (result['count'], radius))"
   ]
  },
  {
   "cell_type": "markdown",
   "metadata": {},
   "source": [
    "## Nearest"
   ]
  },
  {
   "cell_type": "code",
   "execution_count": 7,
   "metadata": {},
   "outputs": [
    {
     "name": "stdout",
     "output_type": "stream",
     "text": [
      "Found 3068394045098165189 at separation 0.00 with radius 100.000000\n",
      "Found 3068394045098165189 at separation 0.00 with radius 10.000000\n",
      "No object found at radius 0.000000\n"
     ]
    }
   ],
   "source": [
    "for radius in radii:\n",
    "    result = L.cone(ra, dec, radius, requestType='nearest')\n",
    "    if 'nearest' in result:\n",
    "        obj = result['nearest']\n",
    "        print('Found %s at separation %.2f with radius %f' % (obj['object'], obj['separation'], radius))\n",
    "    else:\n",
    "        print('No object found at radius %f' % radius)"
   ]
  },
  {
   "cell_type": "markdown",
   "metadata": {},
   "source": [
    "## All"
   ]
  },
  {
   "cell_type": "code",
   "execution_count": 8,
   "metadata": {
    "colab": {
     "base_uri": "https://localhost:8080/"
    },
    "id": "FSfK_V450BzG",
    "outputId": "dc089d83-ec46-4aa9-e8cd-18a9e5025281"
   },
   "outputs": [
    {
     "name": "stdout",
     "output_type": "stream",
     "text": [
      "At radius 100.000000\n",
      "nearest  3068394045098165189 at separation 0.00\n",
      "3068394045098165189 0.00\n",
      "3068394045098165197 12.79\n",
      "3068394046171906318 18.08\n",
      "3068394045098165240 33.35\n",
      "3068394045098165235 35.72\n",
      "3068394045098165249 38.23\n",
      "3068394045098165259 46.94\n",
      "3068394045098165149 48.01\n",
      "3068394066568807207 48.46\n",
      "3068394047233065897 50.17\n",
      "3068394045098165251 50.44\n",
      "3068394045098165261 51.05\n",
      "3068394045098165238 64.14\n",
      "3068394047233065826 65.58\n",
      "3068394046171906213 66.06\n",
      "3068394045098165100 66.54\n",
      "3068394054761841106 66.93\n",
      "3068394047233065949 71.58\n",
      "3068394066568807445 73.22\n",
      "3068394045098165091 74.57\n",
      "3068394045098165188 76.55\n",
      "3068394046171906303 77.14\n",
      "3068394053683904732 79.64\n",
      "3068394047233065954 79.75\n",
      "3068394045098165096 82.18\n",
      "3068394046171906194 82.62\n",
      "3068394047233065694 83.44\n",
      "3068394046171906193 84.31\n",
      "3068394047233065693 85.24\n",
      "3068394046171906171 85.72\n",
      "3068394046171906236 86.17\n",
      "3068394046171906176 87.12\n",
      "3068394046171906169 90.36\n",
      "3068394046171906179 90.57\n",
      "3068394065486676360 92.92\n",
      "3068394047233065995 93.20\n",
      "3068394051536421198 98.60\n",
      "3068394047233065980 99.69\n",
      "3068394066568807448 99.79\n",
      "At radius 10.000000\n",
      "nearest  3068394045098165189 at separation 0.00\n",
      "3068394045098165189 0.00\n",
      "At radius 0.000000\n",
      "no object found\n"
     ]
    }
   ],
   "source": [
    "for radius in radii:\n",
    "    print('At radius %f' % radius)\n",
    "    result = L.cone(ra, dec, radius, requestType='all')\n",
    "    if 'object' in result['nearest']:\n",
    "        print('nearest ', result['nearest']['object'], \\\n",
    "            'at separation %.2f' % result['nearest']['separation'])\n",
    "        objects = result['objects']\n",
    "        for obj in objects:\n",
    "            print(obj['object'], \"%.2f\" % obj['separation'])\n",
    "    else:\n",
    "        print('no object found')"
   ]
  },
  {
   "cell_type": "code",
   "execution_count": null,
   "metadata": {},
   "outputs": [],
   "source": []
  }
 ],
 "metadata": {
  "colab": {
   "provenance": []
  },
  "kernelspec": {
   "display_name": "Python 3 (ipykernel)",
   "language": "python",
   "name": "python3"
  },
  "language_info": {
   "codemirror_mode": {
    "name": "ipython",
    "version": 3
   },
   "file_extension": ".py",
   "mimetype": "text/x-python",
   "name": "python",
   "nbconvert_exporter": "python",
   "pygments_lexer": "ipython3",
   "version": "3.9.6"
  }
 },
 "nbformat": 4,
 "nbformat_minor": 4
}
