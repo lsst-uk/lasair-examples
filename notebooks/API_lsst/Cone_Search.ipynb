{
 "cells": [
  {
   "cell_type": "markdown",
   "metadata": {
    "id": "fdk7f17q0By_"
   },
   "source": [
    "# Cone Search\n",
    "Simple cone search.  Given RA, Dec, radius and type of parameter we want do a cone search.  "
   ]
  },
  {
   "cell_type": "code",
   "execution_count": 7,
   "metadata": {
    "colab": {
     "base_uri": "https://localhost:8080/"
    },
    "id": "HDy9GRPR0WtB",
    "outputId": "899aed8b-ecd2-47bb-d85e-c2cdc0d27c46"
   },
   "outputs": [],
   "source": [
    "#!pip install lasair"
   ]
  },
  {
   "cell_type": "markdown",
   "metadata": {
    "id": "NwiguYXx0BzE"
   },
   "source": [
    "### Grab my Lasair API token\n",
    "Get your Lasair token before you start. You can log into [Lasair](https://lasair.lsst.ac.uk) and click \"My Profile\"\n",
    "at top right. Or use the command-line below.\n",
    "```bash\n",
    "curl --data \"username=myusername&password=***********\" https://lasair-lsst.lsst.ac.uk/api/auth-token/\n",
    "```\n",
    "Make a file called settings.py with a line like: `API_TOKEN = '0123456789abcdefxxxxxxxxxxxxxxxxxxxxxxxx'`"
   ]
  },
  {
   "cell_type": "code",
   "execution_count": 8,
   "metadata": {
    "id": "5NKYQWoJ0BzF"
   },
   "outputs": [],
   "source": [
    "import settings\n",
    "from astropy.time import Time\n",
    "import matplotlib.pyplot as plt\n",
    "from lasair import LasairError, lasair_client as lasair"
   ]
  },
  {
   "cell_type": "markdown",
   "metadata": {
    "id": "v5k9mNnr0BzF"
   },
   "source": [
    "### Do the cone search\n",
    "Get all, nearest or just count. Note that objects are returned in ascending order of separation."
   ]
  },
  {
   "cell_type": "code",
   "execution_count": 9,
   "metadata": {},
   "outputs": [],
   "source": [
    "L = lasair(settings.API_TOKEN, endpoint='https://lasair-lsst.lsst.ac.uk/api')\n",
    "ra = 51.358273\n",
    "dec= -27.692442\n",
    "radii = [100.0, 10, 0]"
   ]
  },
  {
   "cell_type": "markdown",
   "metadata": {},
   "source": [
    "## Count"
   ]
  },
  {
   "cell_type": "code",
   "execution_count": 10,
   "metadata": {},
   "outputs": [
    {
     "name": "stdout",
     "output_type": "stream",
     "text": [
      "Found 2 at radius 100.000000\n",
      "Found 2 at radius 10.000000\n",
      "Found 0 at radius 0.000000\n"
     ]
    }
   ],
   "source": [
    "for radius in radii:\n",
    "    result = L.cone(ra, dec, radius, requestType='count')\n",
    "    print('Found %d at radius %f' % (result['count'], radius))"
   ]
  },
  {
   "cell_type": "markdown",
   "metadata": {},
   "source": [
    "## Nearest"
   ]
  },
  {
   "cell_type": "code",
   "execution_count": 11,
   "metadata": {},
   "outputs": [
    {
     "name": "stdout",
     "output_type": "stream",
     "text": [
      "Found 3516505612303204354 at separation 0.00 with radius 100.000000\n",
      "Found 3516505612303204354 at separation 0.00 with radius 10.000000\n",
      "No object found at radius 0.000000\n"
     ]
    }
   ],
   "source": [
    "for radius in radii:\n",
    "    result = L.cone(ra, dec, radius, requestType='nearest')\n",
    "    if 'nearest' in result:\n",
    "        obj = result['nearest']\n",
    "        print('Found %s at separation %.2f with radius %f' % (obj['object'], obj['separation'], radius))\n",
    "    else:\n",
    "        print('No object found at radius %f' % radius)"
   ]
  },
  {
   "cell_type": "markdown",
   "metadata": {},
   "source": [
    "## All"
   ]
  },
  {
   "cell_type": "code",
   "execution_count": 12,
   "metadata": {
    "colab": {
     "base_uri": "https://localhost:8080/"
    },
    "id": "FSfK_V450BzG",
    "outputId": "dc089d83-ec46-4aa9-e8cd-18a9e5025281"
   },
   "outputs": [
    {
     "name": "stdout",
     "output_type": "stream",
     "text": [
      "At radius 100.000000\n",
      "nearest  3516505612303204354 at separation 0.00\n",
      "3516505612303204354 0.00\n",
      "3527244044155486250 2.19\n",
      "At radius 10.000000\n",
      "nearest  3516505612303204354 at separation 0.00\n",
      "3516505612303204354 0.00\n",
      "3527244044155486250 2.19\n",
      "At radius 0.000000\n",
      "no object found\n"
     ]
    }
   ],
   "source": [
    "for radius in radii:\n",
    "    print('At radius %f' % radius)\n",
    "    result = L.cone(ra, dec, radius, requestType='all')\n",
    "    if 'object' in result['nearest']:\n",
    "        print('nearest ', result['nearest']['object'], \\\n",
    "            'at separation %.2f' % result['nearest']['separation'])\n",
    "        objects = result['objects']\n",
    "        for obj in objects:\n",
    "            print(obj['object'], \"%.2f\" % obj['separation'])\n",
    "    else:\n",
    "        print('no object found')"
   ]
  },
  {
   "cell_type": "code",
   "execution_count": null,
   "metadata": {},
   "outputs": [],
   "source": []
  }
 ],
 "metadata": {
  "colab": {
   "provenance": []
  },
  "kernelspec": {
   "display_name": "Python 3 (ipykernel)",
   "language": "python",
   "name": "python3"
  },
  "language_info": {
   "codemirror_mode": {
    "name": "ipython",
    "version": 3
   },
   "file_extension": ".py",
   "mimetype": "text/x-python",
   "name": "python",
   "nbconvert_exporter": "python",
   "pygments_lexer": "ipython3",
   "version": "3.9.6"
  }
 },
 "nbformat": 4,
 "nbformat_minor": 4
}
