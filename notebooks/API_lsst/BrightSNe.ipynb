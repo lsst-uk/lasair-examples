{
 "cells": [
  {
   "cell_type": "markdown",
   "metadata": {
    "id": "NYTgRBgR__Pd"
   },
   "source": [
    "# Bright SNe lightcurves\n",
    "### Roy Williams\n",
    "Grab some bright supernovae and plot them.  Demo of:\n",
    "* /query/\n",
    "* /lightcurves/\n",
    "\n",
    "### Python (3 only) requirements - pip install\n",
    "lasair, matplotlib\n"
   ]
  },
  {
   "cell_type": "code",
   "execution_count": 1,
   "metadata": {
    "colab": {
     "base_uri": "https://localhost:8080/"
    },
    "id": "aHndouWzAIgl",
    "outputId": "0f6ee378-72cc-4ba3-b47b-a7715393aace"
   },
   "outputs": [],
   "source": [
    "#!pip install lasair"
   ]
  },
  {
   "cell_type": "code",
   "execution_count": 2,
   "metadata": {},
   "outputs": [],
   "source": [
    "endpoint = \"https://lasair-lsst.lsst.ac.uk/api\""
   ]
  },
  {
   "cell_type": "code",
   "execution_count": 3,
   "metadata": {
    "id": "2nQvUguV__Pj"
   },
   "outputs": [],
   "source": [
    "import sys, time\n",
    "import matplotlib.pyplot as plt\n",
    "import numpy as np"
   ]
  },
  {
   "cell_type": "markdown",
   "metadata": {
    "id": "Sq5OUeZ6__Pj"
   },
   "source": [
    "### Grab my Lasair API token\n",
    "Get your Lasair token before you start. You can log into [Lasair](https://lasair.lsst.ac.uk) and click \"My Profile\"\n",
    "at top right. Or use the command-line below.\n",
    "```bash\n",
    "curl --data \"username=myusername&password=***********\" https://lasair-ztf.lsst.ac.uk/api/auth-token/\n",
    "```\n",
    "Make a file called settings.py with a line like: `API_TOKEN = '0123456789abcdefxxxxxxxxxxxxxxxxxxxxxxxx'`"
   ]
  },
  {
   "cell_type": "code",
   "execution_count": 4,
   "metadata": {
    "id": "O75ut7D3__Pk"
   },
   "outputs": [
    {
     "name": "stderr",
     "output_type": "stream",
     "text": [
      "/Users/rwillia5/Library/Python/3.9/lib/python/site-packages/urllib3/__init__.py:35: NotOpenSSLWarning: urllib3 v2 only supports OpenSSL 1.1.1+, currently the 'ssl' module is compiled with 'LibreSSL 2.8.3'. See: https://github.com/urllib3/urllib3/issues/3020\n",
      "  warnings.warn(\n"
     ]
    }
   ],
   "source": [
    "from lasair import LasairError, lasair_client as lasair\n",
    "import settings\n",
    "\n",
    "L = lasair(settings.API_TOKEN, endpoint=endpoint)"
   ]
  },
  {
   "cell_type": "code",
   "execution_count": 5,
   "metadata": {
    "id": "G8wPsuyg__Pl"
   },
   "outputs": [
    {
     "name": "stdout",
     "output_type": "stream",
     "text": [
      "[]\n"
     ]
    }
   ],
   "source": [
    "# Just join the objects table and the sherlock_classifications table, just\n",
    "# pulling out the objectId.\n",
    "rows = L.query(\n",
    "    \"objects.diaObjectId AS objectId\",\n",
    "    'objects, sherlock_classifications',\n",
    "    \"\"\" sherlock_classifications.classification = \"SN\"\n",
    "        AND objects.g_psfFlux > 2000 AND objects.r_psfFlux > 2000\n",
    "        AND objects.nSources > 10 \n",
    "    \"\"\",\n",
    "    limit=10)\n",
    "objectIds = [row['objectId'] for row in rows]\n",
    "print(objectIds)"
   ]
  },
  {
   "cell_type": "markdown",
   "metadata": {
    "id": "7E4sGpyD__Pl"
   },
   "source": [
    "### Plot lightcurve function"
   ]
  },
  {
   "cell_type": "code",
   "execution_count": 6,
   "metadata": {
    "id": "xuxc4gG7__Pl"
   },
   "outputs": [],
   "source": [
    "bandColors = {'u': '#9900cc', 'g': '#3366ff', 'r':'#33cc33', 'i':'#ffcc00', 'z':'#ff0000', 'y':'#cc6600'}\n",
    "\n",
    "def plotLC(objectId, diaSources):\n",
    "    mjd_now = time.time()/86400 + 40587.0\n",
    "    for band,color in bandColors.items():\n",
    "        since = []\n",
    "        magpsf = []\n",
    "        sigmapsf = []\n",
    "        for ds in diaSources:\n",
    "            if ds['band'] == band:\n",
    "                since.append(ds['midpointMjdTai'] - mjd_now)\n",
    "                magpsf.append(ds['psfFlux'])\n",
    "                sigmapsf.append(ds['psfFluxErr'])\n",
    "        plt.errorbar(since, magpsf, yerr=sigmapsf, c=color)\n",
    "        plt.xlabel(\"days before %.2f\" % mjd_now)\n",
    "        plt.ylabel(\"psf mag\")\n",
    "        plt.title('https://lasair-lsst.lsst.ac.uk/objects/%s' % objectId)\n",
    "    plt.gca().invert_yaxis()\n",
    "    plt.show()"
   ]
  },
  {
   "cell_type": "markdown",
   "metadata": {
    "id": "2NaAFVMG__Pl"
   },
   "source": [
    "### Grab and plot the lightcurves"
   ]
  },
  {
   "cell_type": "code",
   "execution_count": null,
   "metadata": {
    "scrolled": true
   },
   "outputs": [],
   "source": []
  },
  {
   "cell_type": "code",
   "execution_count": 7,
   "metadata": {
    "colab": {
     "base_uri": "https://localhost:8080/",
     "height": 1000
    },
    "id": "ugmsQ1d2__Pl",
    "outputId": "0f9e5bd1-5e04-4bda-9422-70e74cfde2ce"
   },
   "outputs": [],
   "source": [
    "for obj in objectIds:\n",
    "    lc = L.object(obj, lasair_added=False)\n",
    "    plotLC(obj, lc['candidates'])"
   ]
  },
  {
   "cell_type": "code",
   "execution_count": null,
   "metadata": {},
   "outputs": [],
   "source": []
  }
 ],
 "metadata": {
  "colab": {
   "provenance": []
  },
  "kernelspec": {
   "display_name": "Python 3 (ipykernel)",
   "language": "python",
   "name": "python3"
  },
  "language_info": {
   "codemirror_mode": {
    "name": "ipython",
    "version": 3
   },
   "file_extension": ".py",
   "mimetype": "text/x-python",
   "name": "python",
   "nbconvert_exporter": "python",
   "pygments_lexer": "ipython3",
   "version": "3.9.6"
  }
 },
 "nbformat": 4,
 "nbformat_minor": 4
}
