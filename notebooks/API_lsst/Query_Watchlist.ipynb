{
 "cells": [
  {
   "cell_type": "markdown",
   "metadata": {
    "id": "s_NNxxs--tUJ"
   },
   "source": [
    "# Query objects coincident with a watchlist\n",
    "\n",
    "Demonstrates usage of:\n",
    "* /query/"
   ]
  },
  {
   "cell_type": "code",
   "execution_count": 1,
   "metadata": {
    "colab": {
     "base_uri": "https://localhost:8080/"
    },
    "id": "aHndouWzAIgl",
    "outputId": "9e7acd7b-1e5c-47da-b8af-1bdc59af2ab6"
   },
   "outputs": [],
   "source": [
    "#!pip install lasair"
   ]
  },
  {
   "cell_type": "code",
   "execution_count": 2,
   "metadata": {
    "id": "F6CBTs5x-tUP"
   },
   "outputs": [
    {
     "name": "stderr",
     "output_type": "stream",
     "text": [
      "/Users/rwillia5/Library/Python/3.9/lib/python/site-packages/urllib3/__init__.py:35: NotOpenSSLWarning: urllib3 v2 only supports OpenSSL 1.1.1+, currently the 'ssl' module is compiled with 'LibreSSL 2.8.3'. See: https://github.com/urllib3/urllib3/issues/3020\n",
      "  warnings.warn(\n"
     ]
    }
   ],
   "source": [
    "import settings\n",
    "from lasair import LasairError, lasair_client as lasair"
   ]
  },
  {
   "cell_type": "code",
   "execution_count": 3,
   "metadata": {},
   "outputs": [],
   "source": [
    "url = \"https://lasair-lsst.lsst.ac.uk\""
   ]
  },
  {
   "cell_type": "markdown",
   "metadata": {
    "id": "IzIWTox2-tUO"
   },
   "source": [
    "### Grab my Lasair API token\n",
    "Get your Lasair token before you start. You can log into [Lasair](https://lasair.lsst.ac.uk) and click \"My Profile\"\n",
    "at top right. Or use the command-line below.\n",
    "```bash\n",
    "curl --data \"username=myusername&password=***********\" https://lasair-ztf.lsst.ac.uk/api/auth-token/\n",
    "```\n",
    "Make a file called settings.py with a line like: `API_TOKEN = '0123456789abcdefxxxxxxxxxxxxxxxxxxxxxxxx'`"
   ]
  },
  {
   "cell_type": "markdown",
   "metadata": {
    "id": "5E4pWOod-tUQ"
   },
   "source": [
    "### Make an SQL query\n",
    "We are going to make an SQL query that includes a watchlist. \n",
    "Click the link to find out about the watchlist."
   ]
  },
  {
   "cell_type": "code",
   "execution_count": 4,
   "metadata": {},
   "outputs": [
    {
     "name": "stdout",
     "output_type": "stream",
     "text": [
      "See here for info: https://lasair-lsst.lsst.ac.uk/watchlists/4/\n"
     ]
    }
   ],
   "source": [
    "wl_id = 4\n",
    "# Test watchlist of 100 sources\n",
    "print(f'See here for info: {url}/watchlists/%d/' % wl_id)"
   ]
  },
  {
   "cell_type": "code",
   "execution_count": 5,
   "metadata": {
    "id": "hPb5V104-tUQ"
   },
   "outputs": [],
   "source": [
    "selected = \"\"\"\n",
    "objects.diaObjectId, watchlist_hits.name, watchlist_hits.arcsec\n",
    "\"\"\"\n",
    "\n",
    "# Join objects and watchlist \n",
    "tables = 'objects, watchlist:%d' % wl_id\n",
    "\n",
    "conditions = ''\n",
    "\n",
    "L = lasair(settings.API_TOKEN, endpoint = f\"{url}/api\")\n",
    "try:\n",
    "    results = L.query(selected, tables, conditions, limit = 10)\n",
    "except LasairError as e:\n",
    "    print(e)\n"
   ]
  },
  {
   "cell_type": "code",
   "execution_count": 6,
   "metadata": {
    "colab": {
     "base_uri": "https://localhost:8080/"
    },
    "id": "5IMbU9A5-tUQ",
    "outputId": "75e05126-c35a-48eb-9903-b4a5c407ff22"
   },
   "outputs": [
    {
     "name": "stdout",
     "output_type": "stream",
     "text": [
      "3068394045081387960 3068394045081387960 0.00813\n",
      "3068394045081388030 3068394045081388030 0.00435\n",
      "3068394045081388057 3068394045081388057 0.00307\n",
      "3068394045081388074 3068394045081388074 0.00435\n",
      "3068394045081388104 3068394045081388104 0.00972\n",
      "3068394045081388114 3068394045081388114 0.00869\n",
      "3068394045081388144 3068394045081388144 0.00307\n",
      "3068394045081388179 3068394045081388179 0.01065\n",
      "3068394067655131684 3068394045081388074 2.56309\n"
     ]
    }
   ],
   "source": [
    "for row in results:\n",
    "    print(row['diaObjectId'], \"%s\" % row['name'], \"%.5f\" % row['arcsec'])"
   ]
  },
  {
   "cell_type": "code",
   "execution_count": null,
   "metadata": {},
   "outputs": [],
   "source": []
  }
 ],
 "metadata": {
  "colab": {
   "provenance": []
  },
  "kernelspec": {
   "display_name": "Python 3 (ipykernel)",
   "language": "python",
   "name": "python3"
  },
  "language_info": {
   "codemirror_mode": {
    "name": "ipython",
    "version": 3
   },
   "file_extension": ".py",
   "mimetype": "text/x-python",
   "name": "python",
   "nbconvert_exporter": "python",
   "pygments_lexer": "ipython3",
   "version": "3.9.6"
  }
 },
 "nbformat": 4,
 "nbformat_minor": 4
}
