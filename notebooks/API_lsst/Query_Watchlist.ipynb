{
 "cells": [
  {
   "cell_type": "markdown",
   "metadata": {
    "id": "s_NNxxs--tUJ"
   },
   "source": [
    "# Query objects coincident with a watchlist\n",
    "### To run this notebook, please [follow the instructions](https://lasair-lsst.readthedocs.io/en/main/core_functions/python-notebooks.html) or else it won`t work.\n",
    "The instructions are at https://lasair-lsst.readthedocs.io/en/main/core_functions/python-notebooks.html\n",
    "\n",
    "The purpose of this notebook is to show how to run a query from the API that involves a watchlist."
   ]
  },
  {
   "cell_type": "code",
   "execution_count": 6,
   "metadata": {
    "id": "F6CBTs5x-tUP"
   },
   "outputs": [],
   "source": [
    "import settings\n",
    "from lasair import LasairError, lasair_client as lasair"
   ]
  },
  {
   "cell_type": "code",
   "execution_count": 7,
   "metadata": {},
   "outputs": [],
   "source": [
    "endpoint = \"https://lasair-lsst.lsst.ac.uk/api\""
   ]
  },
  {
   "cell_type": "markdown",
   "metadata": {
    "id": "5E4pWOod-tUQ"
   },
   "source": [
    "### Make an SQL query\n",
    "We are going to make an SQL query that includes a watchlist. \n",
    "Watchlist 6 is the Gaia DR3 white dwarfs.\n",
    "Click the link to find out about the watchlist."
   ]
  },
  {
   "cell_type": "code",
   "execution_count": 8,
   "metadata": {},
   "outputs": [
    {
     "name": "stdout",
     "output_type": "stream",
     "text": [
      "See here for info: https://lasair-lsst.lsst.ac.uk/watchlists/6/\n"
     ]
    }
   ],
   "source": [
    "wl_id = 6\n",
    "# Test watchlist of 100 sources\n",
    "print(f'See here for info: {url}/watchlists/%d/' % wl_id)"
   ]
  },
  {
   "cell_type": "code",
   "execution_count": 9,
   "metadata": {
    "id": "hPb5V104-tUQ"
   },
   "outputs": [],
   "source": [
    "selected = \"\"\"\n",
    "objects.diaObjectId, watchlist_hits.name, watchlist_hits.arcsec\n",
    "\"\"\"\n",
    "\n",
    "# Join objects and watchlist \n",
    "tables = 'objects, watchlist:%d' % wl_id\n",
    "\n",
    "conditions = ''\n",
    "\n",
    "L = lasair(settings.API_TOKEN, endpoint = endpoint)\n",
    "try:\n",
    "    results = L.query(selected, tables, conditions, limit = 10)\n",
    "except LasairError as e:\n",
    "    print(e)\n"
   ]
  },
  {
   "cell_type": "code",
   "execution_count": 10,
   "metadata": {
    "colab": {
     "base_uri": "https://localhost:8080/"
    },
    "id": "5IMbU9A5-tUQ",
    "outputId": "75e05126-c35a-48eb-9903-b4a5c407ff22"
   },
   "outputs": [],
   "source": [
    "for row in results:\n",
    "    print(row['diaObjectId'], \"%s\" % row['name'], \"%.5f\" % row['arcsec'])"
   ]
  }
 ],
 "metadata": {
  "colab": {
   "provenance": []
  },
  "kernelspec": {
   "display_name": "Python 3 (ipykernel)",
   "language": "python",
   "name": "python3"
  },
  "language_info": {
   "codemirror_mode": {
    "name": "ipython",
    "version": 3
   },
   "file_extension": ".py",
   "mimetype": "text/x-python",
   "name": "python",
   "nbconvert_exporter": "python",
   "pygments_lexer": "ipython3",
   "version": "3.9.6"
  }
 },
 "nbformat": 4,
 "nbformat_minor": 4
}
