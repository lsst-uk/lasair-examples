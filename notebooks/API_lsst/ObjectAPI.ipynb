{
 "cells": [
  {
   "cell_type": "markdown",
   "id": "5fca349c-7bd2-4274-973c-0daae57e1423",
   "metadata": {},
   "source": [
    "# Object API call"
   ]
  },
  {
   "cell_type": "code",
   "execution_count": 20,
   "id": "6567c208-6aee-4c59-9bf0-2ee8e85c4a8e",
   "metadata": {},
   "outputs": [],
   "source": [
    "#!/usr/bin/pip3 install lasair --upgrade\n",
    "import sys, time, json\n",
    "import settings"
   ]
  },
  {
   "cell_type": "markdown",
   "id": "4bd9a62b-df77-4349-86b1-082cbaeee3ef",
   "metadata": {},
   "source": [
    "Change this to the API token and endpoint you want to test"
   ]
  },
  {
   "cell_type": "code",
   "execution_count": 21,
   "id": "7616e4f1-ba63-428f-94cb-b7992288ae4a",
   "metadata": {},
   "outputs": [],
   "source": [
    "endpoint = \"https://lasair-lsst-dev.lsst.ac.uk/api\""
   ]
  },
  {
   "cell_type": "markdown",
   "id": "e4e2bb17-12f8-40eb-a34e-a6250a172628",
   "metadata": {},
   "source": [
    "Fetch your API TOKEN from your Lasair account, top right under \"profile\""
   ]
  },
  {
   "cell_type": "code",
   "execution_count": 22,
   "id": "92bccfc8-56f0-4c43-badf-e9321ddeb265",
   "metadata": {},
   "outputs": [],
   "source": [
    "from lasair import LasairError, lasair_client as lasair\n",
    "import settings\n",
    "L = lasair(settings.API_TOKEN, endpoint=endpoint)"
   ]
  },
  {
   "cell_type": "markdown",
   "id": "8d53ad28-8d97-40f9-9629-3b01e346f07f",
   "metadata": {},
   "source": [
    "This function summarizes the output"
   ]
  },
  {
   "cell_type": "code",
   "execution_count": 23,
   "id": "939f08d3-3ff9-4534-a7b4-7f922156d4ba",
   "metadata": {},
   "outputs": [],
   "source": [
    "def printobj(name, obj, indent=''):\n",
    "    if indent=='':\n",
    "        print('Size of object is ', len(json.dumps(result)), 'bytes')\n",
    "    if isinstance(obj, list):\n",
    "        print('%s%s is a list of %d items, first is' % (indent, name, len(obj)))\n",
    "        printobj(name+'[0]', obj[0], indent=indent+'  ')\n",
    "    elif isinstance(obj, dict):\n",
    "        kks = list(obj.keys())\n",
    "        if len(kks) > 5:\n",
    "            print('%s%s is a dict of %d items, first 5 are' % (indent, name, len(kks)))\n",
    "            kks = kks[:5]\n",
    "        else:\n",
    "            print('%s%s is a dict of %d items' % (indent, name, len(kks)))\n",
    "        for kk in kks[:5]:\n",
    "            printobj(kk, obj[kk], indent=indent+'  ')\n",
    "    else:\n",
    "        print('%s%s: %s' % (indent, name, obj))"
   ]
  },
  {
   "cell_type": "markdown",
   "id": "60d4f662-68d4-4120-9ef2-695c65b655d8",
   "metadata": {},
   "source": [
    "#### get a working object with a Sherlock"
   ]
  },
  {
   "cell_type": "code",
   "execution_count": 24,
   "id": "0fab510d-d177-4102-bcce-4f3b3e912df9",
   "metadata": {},
   "outputs": [],
   "source": [
    "selected = 'objects.diaObjectId'\n",
    "tables = 'objects,sherlock_classifications'\n",
    "conditions = 'classification=\"SN\"'\n",
    "results = L.query(selected, tables, conditions, limit = 5)\n",
    "for row in results:\n",
    "    objectId = row['diaObjectId']"
   ]
  },
  {
   "cell_type": "markdown",
   "id": "5d505670-4347-484a-b35f-cafb0f8e3517",
   "metadata": {},
   "source": [
    "### Just the lightcurve: lasair_added=False, lite=True"
   ]
  },
  {
   "cell_type": "code",
   "execution_count": 25,
   "id": "8e20df34-1ec9-4687-a62e-f1d46c783060",
   "metadata": {},
   "outputs": [
    {
     "name": "stdout",
     "output_type": "stream",
     "text": [
      "Time taken = 0.553 seconds\n",
      "Size of object is  23690 bytes\n",
      "object is a dict of 3 items\n",
      "  diaObjectId: 3516505568279789619\n",
      "  diaSources is a list of 10 items, first is\n",
      "    diaSources[0] is a dict of 5 items\n",
      "      diaSourceId: 3516505568279789619\n",
      "      midpointMjdTai: 61058.062391224536\n",
      "      band: u\n",
      "      psfFlux: -2205.854248046875\n",
      "      psfFluxErr: 405.92694091796875\n",
      "  diaForcedSources is a list of 191 items, first is\n",
      "    diaForcedSources[0] is a dict of 4 items\n",
      "      midpointMjdTai: 61058.062391224536\n",
      "      band: u\n",
      "      psfFlux: -2242.635009765625\n",
      "      psfFluxErr: 412.6956787109375\n"
     ]
    }
   ],
   "source": [
    "t = time.time()\n",
    "result = L.object(objectId, lasair_added=False, lite=True)\n",
    "print('Time taken = %.3f seconds' % (time.time()-t))\n",
    "printobj('object', result)"
   ]
  },
  {
   "cell_type": "markdown",
   "id": "5d2b5770-a797-4226-b473-8131e561a888",
   "metadata": {},
   "source": [
    "### All the diaSources and diaForcedSources: lasair_added=False, lite=False"
   ]
  },
  {
   "cell_type": "code",
   "execution_count": 26,
   "id": "31293603-79f9-4de2-a7a6-6104336805e5",
   "metadata": {},
   "outputs": [
    {
     "name": "stdout",
     "output_type": "stream",
     "text": [
      "Time taken = 0.670 seconds\n",
      "Size of object is  92374 bytes\n",
      "object is a dict of 4 items\n",
      "  diaObjectId: 3516505568279789619\n",
      "  diaObject is a dict of 82 items, first 5 are\n",
      "    diaObjectId: 3516505568279789619\n",
      "    decErr: nan\n",
      "    decl: -26.532638651573247\n",
      "    g_fpFluxMean: nan\n",
      "    g_fpFluxMeanErr: nan\n",
      "  diaSources is a list of 10 items, first is\n",
      "    diaSources[0] is a dict of 140 items, first 5 are\n",
      "      diaObjectId: 3516505568279789619\n",
      "      midpointMjdTai: 61058.062391224536\n",
      "      diaSourceId: 3516505568279789619\n",
      "      apFlux: 34.278072357177734\n",
      "      apFluxErr: 667.8238525390625\n",
      "  diaForcedSources is a list of 191 items, first is\n",
      "    diaForcedSources[0] is a dict of 10 items, first 5 are\n",
      "      diaObjectId: 3516505568279789619\n",
      "      midpointMjdTai: 61058.062391224536\n",
      "      band: u\n",
      "      decl: -26.53263161780288\n",
      "      detector: 39\n"
     ]
    }
   ],
   "source": [
    "t = time.time()\n",
    "result = L.object(objectId, lasair_added=False, lite=False)\n",
    "print('Time taken = %.3f seconds' % (time.time()-t))\n",
    "printobj('object', result)"
   ]
  },
  {
   "cell_type": "markdown",
   "id": "24bd54ef-d3c4-4236-add3-08b25338674d",
   "metadata": {},
   "source": [
    "### Lightcurve with Lasair added value: lasair_added=True, lite=True"
   ]
  },
  {
   "cell_type": "code",
   "execution_count": 27,
   "id": "e2db3c81-f0f7-499c-b03f-82a02d12a844",
   "metadata": {},
   "outputs": [
    {
     "name": "stdout",
     "output_type": "stream",
     "text": [
      "Time taken = 0.553 seconds\n",
      "Size of object is  28780 bytes\n",
      "object is a dict of 5 items\n",
      "  diaObjectId: 3516505568279789619\n",
      "  lasairData is a dict of 26 items, first 5 are\n",
      "    nSources: 9\n",
      "    firstDiaSourceMJD: 999.0\n",
      "    lastDiaSourceMJD: 61344.13803922337\n",
      "    rasex: 03:28:21.921\n",
      "    decsex: -26:31:57.499\n",
      "  diaObject is a dict of 4 items\n",
      "    ra: 52.09133697310883\n",
      "    decl: -26.532638651573247\n",
      "    firstDiaSourceMJD: 999.0\n",
      "    lastDiaSourceMJD: 61344.13803922337\n",
      "  diaSources is a list of 10 items, first is\n",
      "    diaSources[0] is a dict of 5 items\n",
      "      diaSourceId: 3559458534405963873\n",
      "      midpointMjdTai: 61344.13803922337\n",
      "      band: i\n",
      "      psfFlux: -1505.0269775390625\n",
      "      psfFluxErr: 285.46160888671875\n",
      "  diaForcedSources is a list of 191 items, first is\n",
      "    diaForcedSources[0] is a dict of 4 items\n",
      "      midpointMjdTai: 61058.062391224536\n",
      "      band: u\n",
      "      psfFlux: -2242.635009765625\n",
      "      psfFluxErr: 412.6956787109375\n"
     ]
    }
   ],
   "source": [
    "t = time.time()\n",
    "result = L.object(objectId, lasair_added=True, lite=True)\n",
    "print('Time taken = %.3f seconds' % (time.time()-t))\n",
    "printobj('object', result)"
   ]
  },
  {
   "cell_type": "markdown",
   "id": "62c93601-0dd3-4468-9e90-22ce1dfd3be5",
   "metadata": {},
   "source": [
    "### Everything about the object: lasair_added=True, lite=False"
   ]
  },
  {
   "cell_type": "code",
   "execution_count": 28,
   "id": "baf08d16-3270-4d30-a580-242430c51c9c",
   "metadata": {},
   "outputs": [
    {
     "name": "stdout",
     "output_type": "stream",
     "text": [
      "Time taken = 0.693 seconds\n",
      "Size of object is  98343 bytes\n",
      "object is a dict of 5 items\n",
      "  diaObjectId: 3516505568279789619\n",
      "  lasairData is a dict of 147 items, first 5 are\n",
      "    diaObjectId: 3516505568279789619\n",
      "    pmRa: None\n",
      "    pmDec: None\n",
      "    lastDiaSourceMJD: 61344.13803922337\n",
      "    firstDiaSourceMJD: 999.0\n",
      "  diaObject is a dict of 4 items\n",
      "    ra: 52.09133697310883\n",
      "    decl: -26.532638651573247\n",
      "    firstDiaSourceMJD: 999.0\n",
      "    lastDiaSourceMJD: 61344.13803922337\n",
      "  diaSources is a list of 10 items, first is\n",
      "    diaSources[0] is a dict of 140 items, first 5 are\n",
      "      diaObjectId: 3516505568279789619\n",
      "      midpointMjdTai: 61344.13803922337\n",
      "      diaSourceId: 3559458534405963873\n",
      "      apFlux: -4570.8251953125\n",
      "      apFluxErr: 775.64111328125\n",
      "  diaForcedSources is a list of 191 items, first is\n",
      "    diaForcedSources[0] is a dict of 10 items, first 5 are\n",
      "      diaObjectId: 3516505568279789619\n",
      "      midpointMjdTai: 61058.062391224536\n",
      "      band: u\n",
      "      decl: -26.53263161780288\n",
      "      detector: 39\n"
     ]
    }
   ],
   "source": [
    "t = time.time()\n",
    "result = L.object(objectId, lasair_added=True, lite=False)\n",
    "print('Time taken = %.3f seconds' % (time.time()-t))\n",
    "printobj('object', result)"
   ]
  },
  {
   "cell_type": "code",
   "execution_count": null,
   "id": "c8118120-1e9d-40e3-99ec-03c90ddf7ae5",
   "metadata": {},
   "outputs": [],
   "source": []
  }
 ],
 "metadata": {
  "kernelspec": {
   "display_name": "Python 3 (ipykernel)",
   "language": "python",
   "name": "python3"
  },
  "language_info": {
   "codemirror_mode": {
    "name": "ipython",
    "version": 3
   },
   "file_extension": ".py",
   "mimetype": "text/x-python",
   "name": "python",
   "nbconvert_exporter": "python",
   "pygments_lexer": "ipython3",
   "version": "3.9.6"
  }
 },
 "nbformat": 4,
 "nbformat_minor": 5
}
