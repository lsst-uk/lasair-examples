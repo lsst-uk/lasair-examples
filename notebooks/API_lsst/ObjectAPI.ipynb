{
 "cells": [
  {
   "cell_type": "markdown",
   "id": "ae4674ff-0408-424c-a344-b7f36190526b",
   "metadata": {},
   "source": [
    "# Object API call\n",
    "### To run this notebook, please [follow the instructions](https://lasair-lsst.readthedocs.io/en/main/core_functions/python-notebooks.html) or else it won`t work.\n",
    "The instructions are at https://lasair-lsst.readthedocs.io/en/main/core_functions/python-notebooks.html\n",
    "\n",
    "The purpose of this notebook is to show the four different styles of output from the API `object()` call."
   ]
  },
  {
   "cell_type": "code",
   "execution_count": 15,
   "id": "da26750c-9e25-44a0-8f3f-891877c0b19c",
   "metadata": {},
   "outputs": [],
   "source": [
    "import sys, time\n",
    "lsst=True # if you change this restart kernel\n",
    "\n",
    "if lsst:\n",
    "    sys.path.append('API_lsst')\n",
    "    import settings\n",
    "    endpoint = \"https://lasair-lsst.lsst.ac.uk/api\"\n",
    "    oid = 'diaObjectId'\n",
    "    raname = 'ra'\n",
    "    decname = 'decl'\n",
    "else:\n",
    "    sys.path.append('API_ztf')\n",
    "    import settings\n",
    "    endpoint = \"https://lasair-ztf.lsst.ac.uk/api\"\n",
    "    oid = 'objectId'\n",
    "    raname = 'ramean'\n",
    "    decname = 'decmean'"
   ]
  },
  {
   "cell_type": "code",
   "execution_count": 16,
   "id": "92bccfc8-56f0-4c43-badf-e9321ddeb265",
   "metadata": {},
   "outputs": [],
   "source": [
    "import json\n",
    "from lasair import LasairError, lasair_client as lasair\n",
    "import settings\n",
    "L = lasair(settings.API_TOKEN, endpoint=endpoint)"
   ]
  },
  {
   "cell_type": "markdown",
   "id": "361bcb99-0c28-46a2-ba5b-3b8f3913b126",
   "metadata": {},
   "source": [
    "This function summarizes the JSON output. You can use normal `print()` of course\n",
    "but there may be a large amount of output."
   ]
  },
  {
   "cell_type": "code",
   "execution_count": 17,
   "id": "939f08d3-3ff9-4534-a7b4-7f922156d4ba",
   "metadata": {},
   "outputs": [],
   "source": [
    "def printobj(name, obj, indent=''):\n",
    "    if indent=='':\n",
    "        print('Size of object is ', len(json.dumps(result)), 'bytes')\n",
    "    if isinstance(obj, list):\n",
    "        print('%s%s is a list of %d items, first is' % (indent, name, len(obj)))\n",
    "        printobj(name+'[0]', obj[0], indent=indent+'  ')\n",
    "    elif isinstance(obj, dict):\n",
    "        kks = list(obj.keys())\n",
    "        if len(kks) > 5:\n",
    "            print('%s%s is a dict of %d items, first 5 are' % (indent, name, len(kks)))\n",
    "            kks = kks[:5]\n",
    "        else:\n",
    "            print('%s%s is a dict of %d items' % (indent, name, len(kks)))\n",
    "        for kk in kks[:5]:\n",
    "            printobj(kk, obj[kk], indent=indent+'  ')\n",
    "    else:\n",
    "        print('%s%s: %s' % (indent, name, obj))"
   ]
  },
  {
   "cell_type": "markdown",
   "id": "60d4f662-68d4-4120-9ef2-695c65b655d8",
   "metadata": {},
   "source": [
    "#### get a working object with a Sherlock"
   ]
  },
  {
   "cell_type": "code",
   "execution_count": 18,
   "id": "0fab510d-d177-4102-bcce-4f3b3e912df9",
   "metadata": {},
   "outputs": [],
   "source": [
    "selected = 'objects.%s, objects.%s, objects.%s' % (oid, raname, decname)\n",
    "tables = 'objects,sherlock_classifications'\n",
    "conditions = 'classification=\"SN\"'\n",
    "results = L.query(selected, tables, conditions, limit = 5)\n",
    "for row in results:\n",
    "    objectId = row[oid]\n",
    "# Just use this objectId in subsequent calls\n",
    "objectId = str(objectId)"
   ]
  },
  {
   "cell_type": "markdown",
   "id": "e95d33b8-9662-4fc3-b583-93bdd2a9fa67",
   "metadata": {},
   "source": [
    "## All object data"
   ]
  },
  {
   "cell_type": "code",
   "execution_count": 19,
   "id": "8e20df34-1ec9-4687-a62e-f1d46c783060",
   "metadata": {},
   "outputs": [
    {
     "name": "stdout",
     "output_type": "stream",
     "text": [
      "Time taken = 0.203 seconds\n",
      "Size of object is  478 bytes\n",
      "object is a dict of 3 items\n",
      "  diaObjectId: 3516508308468924426\n",
      "  diaSources is a list of 2 items, first is\n",
      "    diaSources[0] is a dict of 5 items\n",
      "      diaSourceId: 3516508308468924426\n",
      "      midpointMjdTai: 61058.062391224536\n",
      "      band: u\n",
      "      psfFlux: 45953.375\n",
      "      psfFluxErr: 2329.41015625\n",
      "  diaForcedSources is a list of 1 items, first is\n",
      "    diaForcedSources[0] is a dict of 4 items\n",
      "      midpointMjdTai: 61322.15704222222\n",
      "      band: u\n",
      "      psfFlux: 7867.03662109375\n",
      "      psfFluxErr: 2938.9619140625\n"
     ]
    }
   ],
   "source": [
    "t = time.time()\n",
    "result = L.object(objectId, lasair_added=False, lite=True)\n",
    "print('Time taken = %.3f seconds' % (time.time()-t))\n",
    "printobj('object', result)"
   ]
  },
  {
   "cell_type": "code",
   "execution_count": 20,
   "id": "31293603-79f9-4de2-a7a6-6104336805e5",
   "metadata": {},
   "outputs": [
    {
     "name": "stdout",
     "output_type": "stream",
     "text": [
      "Time taken = 0.200 seconds\n",
      "Size of object is  9923 bytes\n",
      "object is a dict of 4 items\n",
      "  diaObjectId: 3516508308468924426\n",
      "  diaObject is a dict of 82 items, first 5 are\n",
      "    diaObjectId: 3516508308468924426\n",
      "    decErr: 8.949137736635748e-06\n",
      "    decl: -28.292557085291445\n",
      "    g_fpFluxMean: nan\n",
      "    g_fpFluxMeanErr: nan\n",
      "  diaSources is a list of 2 items, first is\n",
      "    diaSources[0] is a dict of 140 items, first 5 are\n",
      "      diaObjectId: 3516508308468924426\n",
      "      midpointMjdTai: 61058.062391224536\n",
      "      diaSourceId: 3516508308468924426\n",
      "      apFlux: 10514.3193359375\n",
      "      apFluxErr: 2773.731201171875\n",
      "  diaForcedSources is a list of 1 items, first is\n",
      "    diaForcedSources[0] is a dict of 10 items, first 5 are\n",
      "      diaObjectId: 3516508308468924426\n",
      "      midpointMjdTai: 61322.15704222222\n",
      "      band: u\n",
      "      decl: -28.292557085291445\n",
      "      detector: 57\n"
     ]
    }
   ],
   "source": [
    "t = time.time()\n",
    "result = L.object(objectId, lasair_added=False, lite=False)\n",
    "print('Time taken = %.3f seconds' % (time.time()-t))\n",
    "printobj('object', result)"
   ]
  },
  {
   "cell_type": "code",
   "execution_count": 21,
   "id": "e2db3c81-f0f7-499c-b03f-82a02d12a844",
   "metadata": {},
   "outputs": [
    {
     "name": "stdout",
     "output_type": "stream",
     "text": [
      "Time taken = 0.206 seconds\n",
      "Size of object is  3007 bytes\n",
      "object is a dict of 5 items\n",
      "  diaObjectId: 3516508308468924426\n",
      "  lasairData is a dict of 26 items, first 5 are\n",
      "    nSources: 2\n",
      "    firstDiaSourceMJD: 999.0\n",
      "    lastDiaSourceMJD: 61322.15704222222\n",
      "    rasex: 03:32:4.725\n",
      "    decsex: -28:17:33.206\n",
      "  diaObject is a dict of 4 items\n",
      "    ra: 53.01968624151246\n",
      "    decl: -28.292557085291445\n",
      "    firstDiaSourceMJD: 999.0\n",
      "    lastDiaSourceMJD: 61322.15704222222\n",
      "  diaSources is a list of 2 items, first is\n",
      "    diaSources[0] is a dict of 5 items\n",
      "      diaSourceId: 3527250512376233991\n",
      "      midpointMjdTai: 61322.15704222222\n",
      "      band: u\n",
      "      psfFlux: 12160.6728515625\n",
      "      psfFluxErr: 3292.220458984375\n",
      "  diaForcedSources is a list of 1 items, first is\n",
      "    diaForcedSources[0] is a dict of 4 items\n",
      "      midpointMjdTai: 61322.15704222222\n",
      "      band: u\n",
      "      psfFlux: 7867.03662109375\n",
      "      psfFluxErr: 2938.9619140625\n"
     ]
    }
   ],
   "source": [
    "t = time.time()\n",
    "result = L.object(objectId, lasair_added=True, lite=True)\n",
    "print('Time taken = %.3f seconds' % (time.time()-t))\n",
    "printobj('object', result)"
   ]
  },
  {
   "cell_type": "code",
   "execution_count": 22,
   "id": "baf08d16-3270-4d30-a580-242430c51c9c",
   "metadata": {},
   "outputs": [
    {
     "name": "stdout",
     "output_type": "stream",
     "text": [
      "Time taken = 0.215 seconds\n",
      "Size of object is  13290 bytes\n",
      "object is a dict of 5 items\n",
      "  diaObjectId: 3516508308468924426\n",
      "  lasairData is a dict of 147 items, first 5 are\n",
      "    diaObjectId: 3516508308468924426\n",
      "    pmRa: None\n",
      "    pmDec: None\n",
      "    lastDiaSourceMJD: 61322.15704222222\n",
      "    firstDiaSourceMJD: 999.0\n",
      "  diaObject is a dict of 4 items\n",
      "    ra: 53.01968624151246\n",
      "    decl: -28.292557085291445\n",
      "    firstDiaSourceMJD: 999.0\n",
      "    lastDiaSourceMJD: 61322.15704222222\n",
      "  diaSources is a list of 2 items, first is\n",
      "    diaSources[0] is a dict of 140 items, first 5 are\n",
      "      diaObjectId: 3516508308468924426\n",
      "      midpointMjdTai: 61322.15704222222\n",
      "      diaSourceId: 3527250512376233991\n",
      "      apFlux: 5826.47119140625\n",
      "      apFluxErr: 2789.583984375\n",
      "  diaForcedSources is a list of 1 items, first is\n",
      "    diaForcedSources[0] is a dict of 10 items, first 5 are\n",
      "      diaObjectId: 3516508308468924426\n",
      "      midpointMjdTai: 61322.15704222222\n",
      "      band: u\n",
      "      decl: -28.292557085291445\n",
      "      detector: 57\n"
     ]
    }
   ],
   "source": [
    "t = time.time()\n",
    "result = L.object(objectId, lasair_added=True, lite=False)\n",
    "print('Time taken = %.3f seconds' % (time.time()-t))\n",
    "printobj('object', result)"
   ]
  },
  {
   "cell_type": "code",
   "execution_count": null,
   "id": "c8118120-1e9d-40e3-99ec-03c90ddf7ae5",
   "metadata": {},
   "outputs": [],
   "source": []
  }
 ],
 "metadata": {
  "kernelspec": {
   "display_name": "Python 3 (ipykernel)",
   "language": "python",
   "name": "python3"
  },
  "language_info": {
   "codemirror_mode": {
    "name": "ipython",
    "version": 3
   },
   "file_extension": ".py",
   "mimetype": "text/x-python",
   "name": "python",
   "nbconvert_exporter": "python",
   "pygments_lexer": "ipython3",
   "version": "3.9.6"
  }
 },
 "nbformat": 4,
 "nbformat_minor": 5
}
