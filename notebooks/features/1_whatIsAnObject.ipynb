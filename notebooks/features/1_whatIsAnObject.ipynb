{
 "cells": [
  {
   "cell_type": "markdown",
   "id": "f183f7be-534e-4882-831b-30f52cc52588",
   "metadata": {},
   "source": [
    "## The Alert Packet\n",
    "\n",
    "### To run this notebook, please [follow the instructions](https://lasair-lsst.readthedocs.io/en/main/core_functions/python-notebooks.html) or else it won`t work.\n",
    "The instructions are at https://lasair-lsst.readthedocs.io/en/main/core_functions/python-notebooks.html\n",
    "\n",
    "In the file that is opened is a typical alert packet that moves through the Lasair system.\n",
    "The 3 cutout images have been removed, and the remainder converted to JSON. All the original content is preserved.\n",
    "Here we see some examples of the three main data packets:\n",
    "- `diaObject`: Properties of the astrophysical object such as lightcurve features and proper motion\n",
    "- `diaSource`: Each represents a detection of an object that is >5 sigma from the reference\n",
    "- `diaForcedSource`; Each represents a detection of an object"
   ]
  },
  {
   "cell_type": "code",
   "execution_count": 30,
   "id": "805890b9-d618-47c3-94c9-be53bc168b15",
   "metadata": {},
   "outputs": [],
   "source": [
    "import json"
   ]
  },
  {
   "cell_type": "code",
   "execution_count": 31,
   "id": "e306a433-865d-4338-8de0-588f6679ab36",
   "metadata": {},
   "outputs": [],
   "source": [
    "# This function summarizes the JSON output. You can use normal print() of course \n",
    "# but there may be a large amount of output.\n",
    "def printobj(name, obj, indent=''):\n",
    "    if indent=='':\n",
    "        print('Size of object is ', len(json.dumps(obj)), 'bytes')\n",
    "    if isinstance(obj, list) and len(obj) > 0:\n",
    "        print('%s%s is a list of %d items, first is' % (indent, name, len(obj)))\n",
    "        printobj(name+'[0]', obj[0], indent=indent+'  ')\n",
    "    elif isinstance(obj, dict):\n",
    "        kks = list(obj.keys())\n",
    "        if len(kks) > 5:\n",
    "            print('%s%s is a dict of %d items, first 5 are' % (indent, name, len(kks)))\n",
    "            kks = kks[:5]\n",
    "        else:\n",
    "            print('%s%s is a dict of %d items' % (indent, name, len(kks)))\n",
    "        for kk in kks[:5]:\n",
    "            printobj(kk, obj[kk], indent=indent+'  ')\n",
    "    else:\n",
    "        print('%s%s: %s' % (indent, name, obj))"
   ]
  },
  {
   "cell_type": "code",
   "execution_count": 32,
   "id": "396de6ce-75df-4b5e-a1f1-72d0e47ce540",
   "metadata": {
    "scrolled": true
   },
   "outputs": [
    {
     "name": "stdout",
     "output_type": "stream",
     "text": [
      "Size of object is  406583 bytes\n",
      "alert is a dict of 6 items, first 5 are\n",
      "  ebv: 0.0\n",
      "  diaObject is a dict of 82 items, first 5 are\n",
      "    diaObjectId: 12345678\n",
      "    ra: 0.0\n",
      "    raErr: 0.0\n",
      "    decl: 0.0\n",
      "    decErr: 0.0\n",
      "  diaSourcesList is a list of 116 items, first is\n",
      "    diaSourcesList[0] is a dict of 140 items, first 5 are\n",
      "      diaSourceId: 12345678\n",
      "      visit: 12345678\n",
      "      detector: 0\n",
      "      diaObjectId: 12345678\n",
      "      ssObjectId: 12345678\n",
      "  diaForcedSourcesList: []\n",
      "  diaNondetectionLimitsList: []\n"
     ]
    }
   ],
   "source": [
    "# First the diaObject\n",
    "with open('json/SLSN_10321.json') as f:\n",
    "    alert = json.loads(f.read())\n",
    "printobj('alert', alert)"
   ]
  },
  {
   "cell_type": "markdown",
   "id": "291166d2-88dc-4a79-8592-641b4172336e",
   "metadata": {},
   "source": [
    "### Plot a Lightcurve\n",
    "The `alert` is a `diaObject` + multiple `diaSource`s and `diaForcedSources`\n",
    "We set up a colour scheme and use it to plot the `psfFlux` from the `diaSources`"
   ]
  },
  {
   "cell_type": "code",
   "execution_count": 33,
   "id": "e7e02fdc-4908-4bc7-a0ab-368c34e632ff",
   "metadata": {},
   "outputs": [
    {
     "data": {
      "image/png": "[encoded data removed]",
      "text/plain": [
       "<Figure size 600x400 with 1 Axes>"
      ]
     },
     "metadata": {},
     "output_type": "display_data"
    }
   ],
   "source": [
    "import matplotlib.pyplot as plt\n",
    "color    = {'u':\"#9900cc\", 'g':\"#3366ff\", 'r':\"#33cc33\", 'i':\"#ffcc00\", 'z':\"#ff0000\", 'y':\"#cc6600\"}\n",
    "fig = plt.figure(figsize=(6,4))\n",
    "ax = plt.subplot(1, 1, 1)\n",
    "ax.set_yscale('log')\n",
    "     \n",
    "for band in color.keys():\n",
    "    tb = []\n",
    "    fb = []\n",
    "    fberr = []\n",
    "    for s in alert['diaSourcesList']:\n",
    "        if s['band'] == band:\n",
    "            tb   .append(s['midpointMjdTai'])\n",
    "            fb   .append(s['psfFlux'])\n",
    "            fberr.append(s['psfFluxErr'])\n",
    "    ax.errorbar(tb, fb, yerr=fberr, fmt='o', color=color[band], label=band)   \n",
    "plt.title(alert['diaObject']['diaObjectId'])\n",
    "plt.xlabel(\"MJD\")\n",
    "plt.ylabel(\"Flux\")\n",
    "plt.show()"
   ]
  }
 ],
 "metadata": {
  "kernelspec": {
   "display_name": "Python 3 (ipykernel)",
   "language": "python",
   "name": "python3"
  },
  "language_info": {
   "codemirror_mode": {
    "name": "ipython",
    "version": 3
   },
   "file_extension": ".py",
   "mimetype": "text/x-python",
   "name": "python",
   "nbconvert_exporter": "python",
   "pygments_lexer": "ipython3",
   "version": "3.9.6"
  }
 },
 "nbformat": 4,
 "nbformat_minor": 5
}
