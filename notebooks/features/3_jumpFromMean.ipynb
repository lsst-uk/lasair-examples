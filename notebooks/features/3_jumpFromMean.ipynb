{
 "cells": [
  {
   "cell_type": "code",
   "execution_count": 4,
   "id": "e67a790a-c11e-4927-a7c8-7661078624e1",
   "metadata": {},
   "outputs": [],
   "source": [
    "import json, sys, settings, random\n",
    "import lasair\n",
    "import math, numpy as np"
   ]
  },
  {
   "cell_type": "markdown",
   "id": "d1f03b45-276b-4064-ac4a-299c09bf3c62",
   "metadata": {},
   "source": [
    "## The `jumpFromMean` feature\n",
    "This simple feature is to filter out lightcurves with a significant change in brightness. \n",
    "It lumps together all 6 wavebands, computes mean and standard deviation, then number of sigma for latest diaSource."
   ]
  },
  {
   "cell_type": "code",
   "execution_count": 5,
   "id": "78dec375-bce0-48d6-9ab0-f1a1f50e2eab",
   "metadata": {},
   "outputs": [],
   "source": [
    "max_alert    = 100"
   ]
  },
  {
   "cell_type": "code",
   "execution_count": 6,
   "id": "a5838845-113f-49a0-8b4c-91c5331f5449",
   "metadata": {},
   "outputs": [],
   "source": [
    "# the lasair client will be used for pulling all the info about the object\n",
    "# and for annotating it.\n",
    "# If you want to use the cache feature, just 'mkdir cache' in the current directory\n",
    "L = lasair.lasair_client(settings.API_TOKEN, endpoint='https://lasair-lsst.lsst.ac.uk/api')\n",
    "selected = 'objects.diaObjectId, sherlock_classifications.classification as class'\n",
    "tables = 'objects,sherlock_classifications'\n",
    "conditions = 'nSources>20'\n",
    "\n",
    "results = L.query(selected, tables, conditions, limit=max_alert)"
   ]
  },
  {
   "cell_type": "markdown",
   "id": "a07d2bf1-d09c-4380-aa22-d7f5a8a6894d",
   "metadata": {},
   "source": [
    "### This function looks for number of sigma change\n",
    "Gets mean and sigma from old diaSources, then computes number fo sigma for latest diaSource"
   ]
  },
  {
   "cell_type": "code",
   "execution_count": 7,
   "id": "d611340b-f5af-403a-96d8-606992e734ad",
   "metadata": {},
   "outputs": [],
   "source": [
    "def sigmaJump(alert, timeInterval, nLimit):\n",
    "    # for ZTF, the candidates and noncandiates are mixed in, and the noncandidates have no candid\n",
    "    sources  = [c for c in alert['candidates'] if 'candid' in c]\n",
    "    sources.sort(key = lambda c: c['mjd'])\n",
    "    latestSource = sources[-1]\n",
    "    latestMjd = latestSource['mjd']\n",
    "    latestMag = latestSource['magpsf']\n",
    "    oldSources = sources[:-1]\n",
    "    mags = []\n",
    "#    mjds = []\n",
    "    for s in oldSources:\n",
    "        if latestMjd - s['mjd'] < timeInterval:\n",
    "            mags.append(s['magpsf'])\n",
    "#            mjds.append(s['mjd'])\n",
    "    n = len(mags)\n",
    "    if len(mags) < nLimit:\n",
    "        return None\n",
    "    mean = sum(mags)/n\n",
    "    var = sum([(m-mean)**2 for m in mags])/n\n",
    "    sd   = math.sqrt(var)\n",
    "    sigma = abs((latestMag - mean)/sd)\n",
    "    return sigma"
   ]
  },
  {
   "cell_type": "markdown",
   "id": "9f841cef-2833-4074-8896-313b94a65fce",
   "metadata": {},
   "source": [
    "### Fetch the lightcurves of the found objects"
   ]
  },
  {
   "cell_type": "code",
   "execution_count": 8,
   "id": "5eceba81-c020-47bf-be3f-62bfac31f430",
   "metadata": {},
   "outputs": [],
   "source": [
    "timeInterval = 20       # days\n",
    "nLimit       = 10       # must have at least this number in timeInterval\n",
    "for row in results:\n",
    "    objectId = row['objectId']\n",
    "    alert = L.object(objectId)\n",
    "    sigma = sigmaJump(alert, timeInterval, nLimit)\n",
    "    if sigma and sigma > 3:\n",
    "        print('https://lasair-ztf.lsst.ac.uk/objects/%s %8.3f' % (objectId, sigma))"
   ]
  }
 ],
 "metadata": {
  "kernelspec": {
   "display_name": "Python 3 (ipykernel)",
   "language": "python",
   "name": "python3"
  },
  "language_info": {
   "codemirror_mode": {
    "name": "ipython",
    "version": 3
   },
   "file_extension": ".py",
   "mimetype": "text/x-python",
   "name": "python",
   "nbconvert_exporter": "python",
   "pygments_lexer": "ipython3",
   "version": "3.9.6"
  }
 },
 "nbformat": 4,
 "nbformat_minor": 5
}
