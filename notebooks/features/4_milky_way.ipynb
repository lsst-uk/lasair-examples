{
 "cells": [
  {
   "cell_type": "markdown",
   "id": "a60b50b9-0691-4dbd-9670-074adbe76a4e",
   "metadata": {},
   "source": [
    "## Extinction, galactic latitude and peak absolute magnitude\n",
    "\n",
    "### To run this notebook, please [follow the instructions](https://lasair-lsst.readthedocs.io/en/main/core_functions/python-notebooks.html) or else it won`t work.\n",
    "The instructions are at https://lasair-lsst.readthedocs.io/en/main/core_functions/python-notebooks.html\n",
    "\n",
    "This notebook computes three Lasair features: extinction E(B-V), galactic latitude, \n",
    "and peak extinction-corrected absolute magnitude (PECAM)."
   ]
  },
  {
   "cell_type": "code",
   "execution_count": 1,
   "id": "3c2e249e-2f7f-454c-9cf7-12c7672bb604",
   "metadata": {},
   "outputs": [],
   "source": [
    "import math, json, redshift_distance"
   ]
  },
  {
   "cell_type": "markdown",
   "id": "4555e41e-8f7a-43d8-8c1a-fcf9dabdb95e",
   "metadata": {},
   "source": [
    "### 1. Extinction\n",
    "#### Get the dustmaps package set up. \n",
    "We use this package to compute the extinction from the dustmap of \n",
    "[Schlegel, Finkbeiner, and Davis](https://iopscience.iop.org/article/10.1086/305772).\n",
    "Once the package is installed, the dustmaps themselves must be downloaded with fetch() -- change the\n",
    "directory name according to your own setup.\n",
    "Note that the fetch() method only needs to be called once. "
   ]
  },
  {
   "cell_type": "code",
   "execution_count": 2,
   "id": "bb923ade-ceb1-4f3d-98f1-39badaa060ec",
   "metadata": {},
   "outputs": [
    {
     "name": "stderr",
     "output_type": "stream",
     "text": [
      "/Users/rwillia5/Library/Python/3.9/lib/python/site-packages/urllib3/__init__.py:35: NotOpenSSLWarning: urllib3 v2 only supports OpenSSL 1.1.1+, currently the 'ssl' module is compiled with 'LibreSSL 2.8.3'. See: https://github.com/urllib3/urllib3/issues/3020\n",
      "  warnings.warn(\n"
     ]
    }
   ],
   "source": [
    "# Uncomment this to install the dustmaps package\n",
    "#!/usr/bin/pip3 install dustmaps\n",
    "from dustmaps.config import config\n",
    "\n",
    "# Set this to where you want the two 64 Mbyte dustmap files\n",
    "config['data_dir'] = '/Users/rwillia5/Desktop'\n",
    "import dustmaps.sfd\n",
    "\n",
    "# Uncomment the following to download the SFD dustmap\n",
    "# dustmaps.sfd.fetch()\n",
    "\n",
    "from dustmaps.sfd import SFDQuery\n",
    "from astropy.coordinates import SkyCoord\n",
    "sfd = SFDQuery()"
   ]
  },
  {
   "cell_type": "markdown",
   "id": "c30a6994-cca0-47cf-9449-3b4b1d11f650",
   "metadata": {},
   "source": [
    "#### Corrected colour for extinction\n",
    "These colour corrections are multiplied by the extinction E(B-V) to get a magnitude correction. \n",
    "They arefrom Table 6 of \n",
    "[Schlafly and Finkbeiner](https://iopscience.iop.org/article/10.1088/0004-637X/737/2/103) with RV=3.1"
   ]
  },
  {
   "cell_type": "code",
   "execution_count": 3,
   "id": "fde6f647-0315-4272-a0c9-4b5a45613ad6",
   "metadata": {},
   "outputs": [],
   "source": [
    "# The LSST bands\n",
    "EXTCOEF   = {'u':4.145, 'g':3.237, 'r':2.273, 'i':1.684, 'z':1.323, 'y':1.088}\n",
    "\n",
    "# Modify magnitude for extinction as\n",
    "# mag - ebv*EXTCOEF[band]"
   ]
  },
  {
   "cell_type": "markdown",
   "id": "1f91c8fb-13f6-4bb8-a4fc-37b00c70c9d3",
   "metadata": {},
   "source": [
    "#### Extinction from sky position"
   ]
  },
  {
   "cell_type": "code",
   "execution_count": 4,
   "id": "a657565e-dea1-425c-b633-951dbbd50b84",
   "metadata": {},
   "outputs": [],
   "source": [
    "def computeExtinction(ra, decl):\n",
    "    c = SkyCoord(ra, decl, unit=\"deg\", frame='icrs')\n",
    "    ebv = float(sfd(c))\n",
    "    return ebv"
   ]
  },
  {
   "cell_type": "markdown",
   "id": "4789b643-a30e-4744-944b-a955b870001e",
   "metadata": {},
   "source": [
    "### 2. Magnitude and Flux\n",
    "#### Transform between magnitudes and nanoJanskies"
   ]
  },
  {
   "cell_type": "code",
   "execution_count": 5,
   "id": "94ac142a-a97b-46f9-b606-90dce0df49c7",
   "metadata": {},
   "outputs": [],
   "source": [
    "def mag2flux(mag):\n",
    "    # flux in nanoJ\n",
    "    flux =  math.pow(10, (31.4 - mag)/2.5)\n",
    "    return flux\n",
    "def flux2mag(flux):\n",
    "    # flux in nanoJ\n",
    "    mag = 31.4 - 2.5*math.log10(flux)\n",
    "    return mag"
   ]
  },
  {
   "cell_type": "markdown",
   "id": "f7bfea00-8579-4bb2-813c-422744b6ce98",
   "metadata": {},
   "source": [
    "### 3. Peak extinction-corrected magnitude\n",
    "From the E(B-V) and lightcurve in flux, we compute magnitude, \n",
    "correct them with extinction, then find the brightest point, and the associated band."
   ]
  },
  {
   "cell_type": "code",
   "execution_count": 6,
   "id": "860ed4ad-617e-486f-a497-c2b73134ff8d",
   "metadata": {},
   "outputs": [],
   "source": [
    "def findPeakExtMag(ebv, z, lightcurve):\n",
    "    peakMag  = 100\n",
    "    peakBand = None\n",
    "    for diaSource in lightcurve:\n",
    "        mjd        = diaSource['midpointMjdTai']\n",
    "        band       = diaSource['band']\n",
    "        psfFlux    = diaSource['psfFlux']\n",
    "        psfFluxErr = diaSource['psfFluxErr']\n",
    "        if psfFlux > 0:\n",
    "            mag = flux2mag(psfFlux)\n",
    "            # extinction correction and k-correction\n",
    "            correctedMag = mag - ebv*EXTCOEF[band] + 2.5*math.log(1+z)\n",
    "            if correctedMag < peakMag:\n",
    "                peakMag = correctedMag\n",
    "                peakBand = band\n",
    "    return (peakMag, peakBand)"
   ]
  },
  {
   "cell_type": "markdown",
   "id": "9238fa2d-4611-4517-b188-466a2dd1da39",
   "metadata": {},
   "source": [
    "### 4. Galactic latitude"
   ]
  },
  {
   "cell_type": "code",
   "execution_count": 7,
   "id": "5b87e308-d235-4df1-a1df-2e9db858585f",
   "metadata": {},
   "outputs": [],
   "source": [
    "# https://en.wikipedia.org/wiki/Galactic_coordinate_system\n",
    "def galacticLat(ra, decl):\n",
    "    alphaNGP = 192.85948\n",
    "    deltaNGP =  27.1283\n",
    "    sdngp = math.sin(math.radians(deltaNGP))\n",
    "    cdngp = math.cos(math.radians(deltaNGP))\n",
    "    sde = math.sin(math.radians(decl))\n",
    "    cde = math.cos(math.radians(decl))\n",
    "    cra = math.cos(math.radians(ra - alphaNGP))\n",
    "    glat = math.degrees(math.asin(sdngp*sde + cdngp*cde*cra))\n",
    "    return glat"
   ]
  },
  {
   "cell_type": "markdown",
   "id": "f0937b1c-a73f-4e83-a59c-f5f508ca8221",
   "metadata": {},
   "source": [
    "### 5. Test run\n",
    "Use the Lasair API to find some objects with a host galaxy, then compute their features.\n",
    "Make sure to connect to the right endpoint.\n",
    "The `cache` argument is the name of a directory where API calls can be cached, so you don't\n",
    "need to go to the Lasair server for the same query a second time (can be omotted)."
   ]
  },
  {
   "cell_type": "code",
   "execution_count": 8,
   "id": "3d11c364-386a-47d0-a400-45c96c37d0ec",
   "metadata": {},
   "outputs": [
    {
     "name": "stdout",
     "output_type": "stream",
     "text": [
      "mkdir: cache: File exists\n"
     ]
    }
   ],
   "source": [
    "#!/usr/bin/pip3 install lasair\n",
    "from lasair import LasairError, lasair_client as lasair\n",
    "import settings\n",
    "endpoint = \"https://lasair-lsst.lsst.ac.uk/api\"\n",
    "!mkdir cache\n",
    "L = lasair(settings.API_TOKEN, endpoint=endpoint, cache='cache')"
   ]
  },
  {
   "cell_type": "markdown",
   "id": "369df9cb-c5fc-4608-9a65-9921dbafa40f",
   "metadata": {},
   "source": [
    "#### Get some working objects with a Sherlock redshift"
   ]
  },
  {
   "cell_type": "code",
   "execution_count": 9,
   "id": "906ea4eb-e3a3-4e7f-94e2-2264340b1c25",
   "metadata": {},
   "outputs": [
    {
     "name": "stdout",
     "output_type": "stream",
     "text": [
      "3516506109982539799: ra=52.84 decl=-26.57 z=0.014 E(B-V)=0.01 peakMax=23.30 peakBand=g, absMag=-10.61\n",
      "3516506171722694675: ra=51.97 decl=-28.46 z=0.014 E(B-V)=0.01 peakMax=20.97 peakBand=u, absMag=-12.94\n",
      "3516508308468924426: ra=53.02 decl=-28.29 z=0.005 E(B-V)=0.01 peakMax=19.72 peakBand=u, absMag=-11.94\n",
      "3516508308468924434: ra=53.09 decl=-28.37 z=0.005 E(B-V)=0.01 peakMax=23.85 peakBand=u, absMag=-7.82\n",
      "3521874336992460809: ra=51.85 decl=-27.66 z=0.018 E(B-V)=0.01 peakMax=23.36 peakBand=g, absMag=-11.11\n",
      "3521874336992460811: ra=51.85 decl=-27.62 z=0.018 E(B-V)=0.01 peakMax=22.57 peakBand=g, absMag=-11.89\n",
      "3521874828229345465: ra=52.01 decl=-29.18 z=0.004 E(B-V)=0.01 peakMax=20.79 peakBand=g, absMag=-10.39\n",
      "3521874828229345510: ra=51.97 decl=-29.18 z=0.004 E(B-V)=0.01 peakMax=20.16 peakBand=g, absMag=-11.02\n",
      "3521874828229345584: ra=52.01 decl=-29.13 z=0.004 E(B-V)=0.01 peakMax=20.27 peakBand=g, absMag=-10.91\n",
      "3521874828229345592: ra=51.95 decl=-29.17 z=0.004 E(B-V)=0.01 peakMax=21.28 peakBand=g, absMag=-9.90\n",
      "3521874828229345624: ra=52.02 decl=-29.12 z=0.004 E(B-V)=0.01 peakMax=23.01 peakBand=g, absMag=-8.17\n",
      "3521874828229345656: ra=51.93 decl=-29.15 z=0.004 E(B-V)=0.01 peakMax=23.47 peakBand=g, absMag=-7.70\n",
      "3521874828229345679: ra=51.95 decl=-29.13 z=0.004 E(B-V)=0.01 peakMax=22.30 peakBand=g, absMag=-8.88\n",
      "3521874828229345709: ra=51.90 decl=-29.16 z=0.004 E(B-V)=0.01 peakMax=23.57 peakBand=g, absMag=-7.61\n",
      "3521874828229345724: ra=51.89 decl=-29.15 z=0.004 E(B-V)=0.01 peakMax=23.03 peakBand=g, absMag=-8.14\n",
      "3521874828229345769: ra=51.90 decl=-29.12 z=0.004 E(B-V)=0.01 peakMax=22.58 peakBand=g, absMag=-8.59\n",
      "3521874828229345770: ra=51.95 decl=-29.09 z=0.004 E(B-V)=0.01 peakMax=22.56 peakBand=i, absMag=-8.61\n",
      "3521874828229345771: ra=51.96 decl=-29.08 z=0.004 E(B-V)=0.01 peakMax=22.94 peakBand=g, absMag=-8.24\n",
      "3521874828229345774: ra=51.95 decl=-29.08 z=0.004 E(B-V)=0.01 peakMax=21.42 peakBand=g, absMag=-9.76\n",
      "3521874853462278145: ra=51.76 decl=-28.31 z=0.018 E(B-V)=0.01 peakMax=23.06 peakBand=i, absMag=-11.40\n",
      "3527242985446047759: ra=52.05 decl=-28.28 z=0.006 E(B-V)=0.01 peakMax=23.47 peakBand=g, absMag=-8.59\n",
      "3527242991888498689: ra=52.24 decl=-27.45 z=0.005 E(B-V)=0.01 peakMax=23.36 peakBand=g, absMag=-8.30\n",
      "3527242991888498692: ra=52.26 decl=-27.43 z=0.005 E(B-V)=0.01 peakMax=23.58 peakBand=g, absMag=-8.08\n",
      "3527242991888498699: ra=52.29 decl=-27.40 z=0.005 E(B-V)=0.01 peakMax=23.56 peakBand=g, absMag=-8.10\n",
      "3527243035375042568: ra=53.91 decl=-28.04 z=0.016 E(B-V)=0.01 peakMax=26.37 peakBand=g, absMag=-7.84\n",
      "3527243035375042569: ra=53.91 decl=-28.04 z=0.016 E(B-V)=0.01 peakMax=23.86 peakBand=g, absMag=-10.35\n",
      "3527243035375042574: ra=53.92 decl=-28.05 z=0.016 E(B-V)=0.01 peakMax=23.90 peakBand=g, absMag=-10.31\n",
      "3527243035375042579: ra=53.95 decl=-28.03 z=0.016 E(B-V)=0.01 peakMax=24.34 peakBand=g, absMag=-9.86\n",
      "3527243035375042580: ra=53.95 decl=-28.05 z=0.016 E(B-V)=0.01 peakMax=23.12 peakBand=g, absMag=-11.09\n",
      "3527243035375042585: ra=53.98 decl=-28.00 z=0.016 E(B-V)=0.01 peakMax=23.92 peakBand=g, absMag=-10.29\n",
      "3527244043081744393: ra=51.76 decl=-28.26 z=0.018 E(B-V)=0.01 peakMax=22.30 peakBand=g, absMag=-12.16\n",
      "3527244043081744431: ra=51.95 decl=-28.25 z=0.006 E(B-V)=0.01 peakMax=23.83 peakBand=g, absMag=-8.23\n",
      "3527244053819162627: ra=52.02 decl=-29.13 z=0.004 E(B-V)=0.01 peakMax=20.95 peakBand=g, absMag=-10.23\n",
      "3527244053819162630: ra=52.03 decl=-29.15 z=0.004 E(B-V)=0.01 peakMax=23.39 peakBand=g, absMag=-7.79\n",
      "3527244053819162632: ra=52.04 decl=-29.15 z=0.004 E(B-V)=0.01 peakMax=22.34 peakBand=g, absMag=-8.83\n",
      "3527244589616332802: ra=51.69 decl=-26.81 z=0.005 E(B-V)=0.01 peakMax=25.23 peakBand=g, absMag=-6.43\n",
      "3527244589616332803: ra=51.69 decl=-26.74 z=0.005 E(B-V)=0.01 peakMax=23.85 peakBand=g, absMag=-7.82\n",
      "3527244589616332804: ra=51.70 decl=-26.79 z=0.005 E(B-V)=0.01 peakMax=23.31 peakBand=g, absMag=-8.35\n",
      "3527244589616332805: ra=51.75 decl=-26.77 z=0.005 E(B-V)=0.01 peakMax=24.80 peakBand=g, absMag=-6.86\n"
     ]
    }
   ],
   "source": [
    "selected = \"\"\" \n",
    "  objects.diaObjectId, objects.ra, objects.decl, \n",
    "  sherlock_classifications.z, sherlock_classifications.photoz\n",
    "\"\"\"\n",
    "tables = 'objects,sherlock_classifications'\n",
    "conditions = \"\"\"\n",
    "  classification=\"SN\" AND \n",
    "  (sherlock_classifications.z > 0 OR sherlock_classifications.photoz > 0)\n",
    "\"\"\"\n",
    "results = L.query(selected, tables, conditions, limit = 50)\n",
    "for row in results:\n",
    "    objectId = row['diaObjectId']\n",
    "    ra       = row['ra']\n",
    "    decl     = row['decl']\n",
    "    z        = row['z']\n",
    "    photoz   = row['photoz']\n",
    "    if not z:\n",
    "        z = photoz\n",
    "    object   = L.object(objectId, lasair_added=False, lite=True)\n",
    "\n",
    "    # compute galactic latitude\n",
    "    ebv = computeExtinction(ra, decl)\n",
    "    \n",
    "    # compute extinction\n",
    "    galLat = galacticLat(ra, decl)\n",
    "\n",
    "    # compute peak extinction-corrected apparent magnitude\n",
    "    (peakMag, peakBand) = findPeakExtMag(ebv, z, object['diaSources'])\n",
    "    if not peakBand:\n",
    "        continue\n",
    "\n",
    "    # combine z and apparent mag to get absolute mag\n",
    "    # using Ken Smith code from Atlas for distance modulus\n",
    "    distances = redshift_distance.redshiftToDistance(z)\n",
    "    distanceModulus = distances['dmod']\n",
    "\n",
    "    absMag = peakMag - distanceModulus\n",
    "\n",
    "    print('%s: ra=%.2f decl=%.2f z=%.3f E(B-V)=%.2f peakMax=%.2f peakBand=%s, absMag=%.2f' % \n",
    "          (objectId, ra, decl, z, ebv, peakMag, peakBand, absMag))\n"
   ]
  }
 ],
 "metadata": {
  "kernelspec": {
   "display_name": "Python 3 (ipykernel)",
   "language": "python",
   "name": "python3"
  },
  "language_info": {
   "codemirror_mode": {
    "name": "ipython",
    "version": 3
   },
   "file_extension": ".py",
   "mimetype": "text/x-python",
   "name": "python",
   "nbconvert_exporter": "python",
   "pygments_lexer": "ipython3",
   "version": "3.9.6"
  }
 },
 "nbformat": 4,
 "nbformat_minor": 5
}
