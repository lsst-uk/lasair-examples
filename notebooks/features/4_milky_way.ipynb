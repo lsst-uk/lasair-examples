{
 "cells": [
  {
   "cell_type": "code",
   "execution_count": 34,
   "id": "3c2e249e-2f7f-454c-9cf7-12c7672bb604",
   "metadata": {},
   "outputs": [],
   "source": [
    "import math, json, redshift"
   ]
  },
  {
   "cell_type": "markdown",
   "id": "a60b50b9-0691-4dbd-9670-074adbe76a4e",
   "metadata": {},
   "source": [
    "## Extinction, galactic latitude and peak absolute magnitude\n",
    "This notebook computes three Lasair features: extinction E(B-V), galactic latitude, \n",
    "and peak extinction-corrected absolute magnitude (PECAM)."
   ]
  },
  {
   "cell_type": "markdown",
   "id": "4555e41e-8f7a-43d8-8c1a-fcf9dabdb95e",
   "metadata": {},
   "source": [
    "### 1. Extinction\n",
    "#### Get the dustmaps package set up. \n",
    "We use this package to compute the extinction from the dustmap of \n",
    "[Schlegel, Finkbeiner, and Davis](https://iopscience.iop.org/article/10.1086/305772).\n",
    "Once the package is installed, the dustmaps themselves must be downloaded with fetch() -- change the\n",
    "directory name according to your own setup.\n",
    "Note that the fetch() method only needs to be called once. "
   ]
  },
  {
   "cell_type": "code",
   "execution_count": 35,
   "id": "bb923ade-ceb1-4f3d-98f1-39badaa060ec",
   "metadata": {},
   "outputs": [],
   "source": [
    "#!/usr/bin/pip3 install dustmaps\n",
    "from dustmaps.config import config\n",
    "config['data_dir'] = '/Users/rwillia5/Library/Python/3.9/lib/python/site-packages/dustmaps/data/sfd/'\n",
    "import dustmaps.sfd\n",
    "#dustmaps.sfd.fetch()\n",
    "from dustmaps.sfd import SFDQuery\n",
    "from astropy.coordinates import SkyCoord\n",
    "sfd = SFDQuery()"
   ]
  },
  {
   "cell_type": "markdown",
   "id": "c30a6994-cca0-47cf-9449-3b4b1d11f650",
   "metadata": {},
   "source": [
    "#### Corrected colour for extinction\n",
    "These colour corrections are multiplied by the extinction E(B-V) to get a magnitude correction. \n",
    "They arefrom Table 6 of \n",
    "[Schlafly and Finkbeiner](https://iopscience.iop.org/article/10.1088/0004-637X/737/2/103) with RV=3.1"
   ]
  },
  {
   "cell_type": "code",
   "execution_count": 36,
   "id": "fde6f647-0315-4272-a0c9-4b5a45613ad6",
   "metadata": {},
   "outputs": [],
   "source": [
    "# The LSST bands\n",
    "EXTCOEF   = {'u':4.145, 'g':3.237, 'r':2.273, 'i':1.684, 'z':1.323, 'y':1.088}\n",
    "\n",
    "# Modify magnitude for extinction\n",
    "def dustmag(mag, band, ebv):\n",
    "    return mag - ebv*EXTCOEF[band]"
   ]
  },
  {
   "cell_type": "markdown",
   "id": "1f91c8fb-13f6-4bb8-a4fc-37b00c70c9d3",
   "metadata": {},
   "source": [
    "#### Extinction from sky position"
   ]
  },
  {
   "cell_type": "code",
   "execution_count": 37,
   "id": "a657565e-dea1-425c-b633-951dbbd50b84",
   "metadata": {},
   "outputs": [],
   "source": [
    "def computeExtinction(ra, decl):\n",
    "    c = SkyCoord(ra, decl, unit=\"deg\", frame='icrs')\n",
    "    ebv = float(sfd(c))\n",
    "    return ebv"
   ]
  },
  {
   "cell_type": "markdown",
   "id": "4789b643-a30e-4744-944b-a955b870001e",
   "metadata": {},
   "source": [
    "### 2. Magnitude and Flux\n",
    "#### Transform between magnitudes and nanoJanskies"
   ]
  },
  {
   "cell_type": "code",
   "execution_count": 38,
   "id": "94ac142a-a97b-46f9-b606-90dce0df49c7",
   "metadata": {},
   "outputs": [],
   "source": [
    "def mag2flux(mag):\n",
    "    # flux in nanoJ\n",
    "    flux =  math.pow(10, (31.4 - mag)/2.5)\n",
    "    return flux\n",
    "def flux2mag(flux):\n",
    "    # flux in nanoJ\n",
    "    mag = 31.4 - 2.5*math.log10(flux)\n",
    "    return mag"
   ]
  },
  {
   "cell_type": "markdown",
   "id": "f7bfea00-8579-4bb2-813c-422744b6ce98",
   "metadata": {},
   "source": [
    "### 3. Peak extinction-corrected magnitude\n",
    "From the E(B-V) and lightcurve in flux, we compute magnitude, \n",
    "correct them with extinction, then find the brightest point, and the associated band."
   ]
  },
  {
   "cell_type": "code",
   "execution_count": 39,
   "id": "860ed4ad-617e-486f-a497-c2b73134ff8d",
   "metadata": {},
   "outputs": [],
   "source": [
    "def findPeakExtMag(ebv, lightcurve):\n",
    "    peakMag  = 100\n",
    "    peakBand = None\n",
    "    for diaSource in lightcurve:\n",
    "        mjd        = diaSource['midpointMjdTai']\n",
    "        band       = diaSource['band']\n",
    "        psfFlux    = diaSource['psfFlux']\n",
    "        psfFluxErr = diaSource['psfFluxErr']\n",
    "        if psfFlux > 0:\n",
    "            mag = flux2mag(psfFlux)\n",
    "            correctedMag = mag - ebv*EXTCOEF[band]\n",
    "            if correctedMag < peakMag:\n",
    "                peakMag = correctedMag\n",
    "                peakBand = band\n",
    "    return (peakMag, peakBand)"
   ]
  },
  {
   "cell_type": "markdown",
   "id": "9238fa2d-4611-4517-b188-466a2dd1da39",
   "metadata": {},
   "source": [
    "### 4. Galactic latitude"
   ]
  },
  {
   "cell_type": "code",
   "execution_count": 40,
   "id": "5b87e308-d235-4df1-a1df-2e9db858585f",
   "metadata": {},
   "outputs": [],
   "source": [
    "# https://en.wikipedia.org/wiki/Galactic_coordinate_system\n",
    "def galacticLat(ra, decl):\n",
    "    alphaNGP = 192.85948\n",
    "    deltaNGP =  27.1283\n",
    "    sdngp = math.sin(math.radians(deltaNGP))\n",
    "    cdngp = math.cos(math.radians(deltaNGP))\n",
    "    sde = math.sin(math.radians(decl))\n",
    "    cde = math.cos(math.radians(decl))\n",
    "    cra = math.cos(math.radians(ra - alphaNGP))\n",
    "    glat = math.degrees(math.asin(sdngp*sde + cdngp*cde*cra))\n",
    "    return glat"
   ]
  },
  {
   "cell_type": "markdown",
   "id": "f0937b1c-a73f-4e83-a59c-f5f508ca8221",
   "metadata": {},
   "source": [
    "### 5. Test run\n",
    "Use the Lasair API to find some objects with a host galaxy, then compute their features.\n",
    "Make sure to connect to the right endpoint.\n",
    "The `cache` argument is the name of a directory where API calls can be cached, so you don't\n",
    "need to go to the Lasair server for the same query a second time (can be omotted)."
   ]
  },
  {
   "cell_type": "code",
   "execution_count": 41,
   "id": "3d11c364-386a-47d0-a400-45c96c37d0ec",
   "metadata": {},
   "outputs": [],
   "source": [
    "#!/usr/bin/pip3 install lasair\n",
    "from lasair import LasairError, lasair_client as lasair\n",
    "import settings\n",
    "endpoint = \"https://lasair-lsst-dev.lsst.ac.uk/api\"\n",
    "L = lasair(settings.API_TOKEN, endpoint=endpoint, cache='cache')"
   ]
  },
  {
   "cell_type": "markdown",
   "id": "369df9cb-c5fc-4608-9a65-9921dbafa40f",
   "metadata": {},
   "source": [
    "#### Get some working objects with a Sherlock redshift"
   ]
  },
  {
   "cell_type": "code",
   "execution_count": 42,
   "id": "906ea4eb-e3a3-4e7f-94e2-2264340b1c25",
   "metadata": {},
   "outputs": [
    {
     "name": "stdout",
     "output_type": "stream",
     "text": [
      "3516505582238433299: ra=55.08 decl=-26.84 z=0.01 E(B-V)=0.01 peakMax=19.16 peakBand=u, absMag=-12.90\n",
      "3516505585459658821: ra=54.87 decl=-27.29 z=0.10 E(B-V)=0.01 peakMax=22.00 peakBand=z, absMag=-16.43\n",
      "3516505593512722439: ra=52.41 decl=-27.25 z=0.24 E(B-V)=0.01 peakMax=22.75 peakBand=i, absMag=-17.61\n",
      "3516505593512722444: ra=52.43 decl=-27.29 z=0.04 E(B-V)=0.01 peakMax=23.01 peakBand=u, absMag=-13.05\n",
      "3516505600492044306: ra=53.64 decl=-27.28 z=0.00 E(B-V)=0.01 peakMax=19.29 peakBand=u, absMag=-11.89\n",
      "3516505600492044307: ra=53.64 decl=-27.29 z=0.00 E(B-V)=0.01 peakMax=19.36 peakBand=i, absMag=-11.81\n",
      "3516505600492044308: ra=53.57 decl=-27.29 z=0.00 E(B-V)=0.01 peakMax=19.65 peakBand=y, absMag=-11.52\n",
      "3516505600492044311: ra=53.59 decl=-27.31 z=0.00 E(B-V)=0.01 peakMax=20.18 peakBand=g, absMag=-11.00\n",
      "3516505600492044313: ra=53.59 decl=-27.33 z=0.00 E(B-V)=0.01 peakMax=20.46 peakBand=u, absMag=-10.72\n",
      "3516505600492044348: ra=53.62 decl=-27.33 z=0.00 E(B-V)=0.01 peakMax=21.52 peakBand=y, absMag=-9.65\n",
      "3516505606397624393: ra=54.73 decl=-27.49 z=0.04 E(B-V)=0.01 peakMax=22.40 peakBand=z, absMag=-13.89\n",
      "3516505609081978887: ra=54.58 decl=-27.86 z=0.10 E(B-V)=0.01 peakMax=18.50 peakBand=u, absMag=-19.86\n",
      "3516505614987558925: ra=51.87 decl=-27.63 z=0.02 E(B-V)=0.01 peakMax=17.86 peakBand=u, absMag=-16.60\n",
      "3516505618745655312: ra=52.05 decl=-28.23 z=0.01 E(B-V)=0.01 peakMax=20.54 peakBand=y, absMag=-11.52\n",
      "3516505618745655443: ra=52.04 decl=-28.22 z=0.01 E(B-V)=0.01 peakMax=23.23 peakBand=g, absMag=-8.83\n",
      "3516505626261848066: ra=53.33 decl=-28.05 z=0.81 E(B-V)=0.01 peakMax=20.85 peakBand=y, absMag=-22.69\n",
      "3516505626261848088: ra=53.30 decl=-28.21 z=0.13 E(B-V)=0.01 peakMax=21.03 peakBand=y, absMag=-17.83\n",
      "3516505629483073538: ra=54.27 decl=-27.96 z=0.00 E(B-V)=0.01 peakMax=19.93 peakBand=u, absMag=-11.25\n",
      "3516505629483073563: ra=54.19 decl=-27.94 z=0.00 E(B-V)=0.01 peakMax=22.04 peakBand=u, absMag=-9.14\n",
      "3516505634314911748: ra=51.81 decl=-28.31 z=0.02 E(B-V)=0.01 peakMax=20.16 peakBand=y, absMag=-14.30\n",
      "3516505635925524481: ra=51.64 decl=-28.46 z=0.13 E(B-V)=0.01 peakMax=19.75 peakBand=u, absMag=-19.14\n",
      "3516505635925524482: ra=51.64 decl=-28.47 z=0.13 E(B-V)=0.01 peakMax=18.71 peakBand=i, absMag=-20.18\n",
      "3516505635925524487: ra=51.56 decl=-28.52 z=0.07 E(B-V)=0.01 peakMax=20.79 peakBand=y, absMag=-16.57\n",
      "3516505637536137217: ra=51.56 decl=-28.69 z=0.07 E(B-V)=0.01 peakMax=20.62 peakBand=u, absMag=-16.77\n",
      "3516505637536137225: ra=51.57 decl=-28.77 z=0.13 E(B-V)=0.01 peakMax=20.28 peakBand=y, absMag=-18.59\n",
      "3516506109982539799: ra=52.84 decl=-26.57 z=0.01 E(B-V)=0.01 peakMax=23.27 peakBand=g, absMag=-10.65\n",
      "3516506134141730823: ra=52.73 decl=-27.27 z=0.09 E(B-V)=0.01 peakMax=19.77 peakBand=y, absMag=-18.17\n",
      "3516506134678601736: ra=53.02 decl=-27.38 z=0.15 E(B-V)=0.01 peakMax=16.46 peakBand=u, absMag=-22.79\n",
      "3516506134678601776: ra=52.85 decl=-27.40 z=0.09 E(B-V)=0.01 peakMax=21.32 peakBand=y, absMag=-16.62\n",
      "3516506136289214479: ra=53.00 decl=-27.64 z=0.00 E(B-V)=0.01 peakMax=21.67 peakBand=i, absMag=-7.99\n",
      "3516506136289214480: ra=52.90 decl=-27.63 z=0.95 E(B-V)=0.01 peakMax=18.55 peakBand=u, absMag=-25.41\n",
      "3516506136289214481: ra=52.93 decl=-27.64 z=0.98 E(B-V)=0.01 peakMax=20.56 peakBand=y, absMag=-23.49\n",
      "3516506136289214486: ra=52.81 decl=-27.67 z=1.03 E(B-V)=0.01 peakMax=19.56 peakBand=r, absMag=-24.62\n",
      "3516506136289214521: ra=52.99 decl=-27.63 z=0.00 E(B-V)=0.01 peakMax=22.63 peakBand=r, absMag=-7.04\n",
      "3516506136289214547: ra=52.99 decl=-27.68 z=0.00 E(B-V)=0.01 peakMax=22.77 peakBand=u, absMag=-6.90\n",
      "3516506144342278155: ra=54.48 decl=-27.56 z=0.04 E(B-V)=0.01 peakMax=16.54 peakBand=u, absMag=-19.58\n",
      "3516506158300921858: ra=52.58 decl=-27.92 z=0.08 E(B-V)=0.01 peakMax=20.09 peakBand=r, absMag=-17.68\n",
      "3516506158300922292: ra=52.58 decl=-27.91 z=0.08 E(B-V)=0.01 peakMax=23.70 peakBand=u, absMag=-14.07\n",
      "3516506158300922538: ra=52.57 decl=-27.92 z=0.08 E(B-V)=0.01 peakMax=23.92 peakBand=u, absMag=-13.86\n",
      "3516506171722694662: ra=52.05 decl=-28.31 z=0.01 E(B-V)=0.01 peakMax=18.67 peakBand=u, absMag=-13.39\n",
      "3516506171722694675: ra=51.97 decl=-28.46 z=0.01 E(B-V)=0.01 peakMax=20.69 peakBand=y, absMag=-13.22\n",
      "3516506171722694681: ra=52.03 decl=-28.32 z=0.01 E(B-V)=0.01 peakMax=17.68 peakBand=y, absMag=-14.38\n",
      "3516508276256669732: ra=52.54 decl=-27.13 z=0.10 E(B-V)=0.01 peakMax=20.32 peakBand=y, absMag=-18.06\n",
      "3516508278941024258: ra=52.20 decl=-27.43 z=0.01 E(B-V)=0.01 peakMax=20.70 peakBand=y, absMag=-10.96\n"
     ]
    }
   ],
   "source": [
    "selected = \"\"\" \n",
    "  objects.diaObjectId, objects.ra, objects.decl, \n",
    "  sherlock_classifications.z, sherlock_classifications.photoz\n",
    "\"\"\"\n",
    "tables = 'objects,sherlock_classifications'\n",
    "conditions = \"\"\"\n",
    "  classification=\"SN\" AND \n",
    "  (sherlock_classifications.z > 0 OR sherlock_classifications.photoz > 0)\n",
    "\"\"\"\n",
    "results = L.query(selected, tables, conditions, limit = 50)\n",
    "for row in results:\n",
    "    objectId = row['diaObjectId']\n",
    "    ra       = row['ra']\n",
    "    decl     = row['decl']\n",
    "    z        = row['z']\n",
    "    photoz   = row['photoz']\n",
    "    if not z:\n",
    "        z = photoz\n",
    "    object   = L.object(objectId, lasair_added=False, lite=True)\n",
    "\n",
    "    # compute galactic latitude\n",
    "    ebv = computeExtinction(ra, decl)\n",
    "    \n",
    "    # compute extinction\n",
    "    galLat = galacticLat(ra, decl)\n",
    "\n",
    "    # compute peak extinction-corrected apparent magnitude\n",
    "    (peakMag, peakBand) = findPeakExtMag(ebv, object['diaSources'])\n",
    "    if not peakBand:\n",
    "        continue\n",
    "\n",
    "    # combine z and apparent mag to get absolute mag\n",
    "    distances = redshift.redshiftToDistance(z)\n",
    "    distanceModulus = distances['dmod']\n",
    "\n",
    "    absMag = peakMag - distanceModulus\n",
    "\n",
    "    print('%s: ra=%.2f decl=%.2f z=%.2f E(B-V)=%.2f peakMax=%.2f peakBand=%s, absMag=%.2f' % \n",
    "          (objectId, ra, decl, z, ebv, peakMag, peakBand, absMag))\n"
   ]
  }
 ],
 "metadata": {
  "kernelspec": {
   "display_name": "Python 3 (ipykernel)",
   "language": "python",
   "name": "python3"
  },
  "language_info": {
   "codemirror_mode": {
    "name": "ipython",
    "version": 3
   },
   "file_extension": ".py",
   "mimetype": "text/x-python",
   "name": "python",
   "nbconvert_exporter": "python",
   "pygments_lexer": "ipython3",
   "version": "3.9.6"
  }
 },
 "nbformat": 4,
 "nbformat_minor": 5
}
