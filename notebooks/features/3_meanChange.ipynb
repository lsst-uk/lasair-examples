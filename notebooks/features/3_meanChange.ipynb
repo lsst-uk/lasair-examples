{
 "cells": [
  {
   "cell_type": "code",
   "execution_count": 16,
   "id": "e67a790a-c11e-4927-a7c8-7661078624e1",
   "metadata": {},
   "outputs": [],
   "source": [
    "import json, sys, settings, random\n",
    "import lasair\n",
    "from scipy.stats import ttest_ind"
   ]
  },
  {
   "cell_type": "markdown",
   "id": "c71e886f-9a71-4d14-a9f5-8e67bd7f154d",
   "metadata": {},
   "source": [
    "## The `meanChange` features \n",
    "This simple feature is to filter out lightcurves with a significant change in brightness. It lumps together all 6 wavebands into new and old, then uses\n",
    "Student's t-test to decide if the mean flux has changed. The meaning of new and old is set here to 10 days."
   ]
  },
  {
   "cell_type": "code",
   "execution_count": 17,
   "id": "78dec375-bce0-48d6-9ab0-f1a1f50e2eab",
   "metadata": {},
   "outputs": [],
   "source": [
    "# go back 10 days and 10 days before that for 2 populations\n",
    "timeInterval = 20       # days\n",
    "\n",
    "# go back from this MJD\n",
    "MJD          = 60683.5  # \t2025-01-08 12:00:00"
   ]
  },
  {
   "cell_type": "code",
   "execution_count": 18,
   "id": "a5838845-113f-49a0-8b4c-91c5331f5449",
   "metadata": {},
   "outputs": [],
   "source": [
    "# the lasair client will be used for pulling all the info about the object\n",
    "# and for annotating it\n",
    "L = lasair.lasair_client(settings.API_TOKEN)\n",
    "selected = 'objects.objectId, sherlock_classifications.classification as class'\n",
    "tables = 'objects,sherlock_classifications'\n",
    "conditions = 'ncandgp>20 AND objects.jdmax > %.1f' % (MJD - 2*timeInterval)\n",
    "max_alert = 100\n",
    "results = L.query(selected, tables, conditions, limit=max_alert)"
   ]
  },
  {
   "cell_type": "markdown",
   "id": "4ebb1bf3-8e3f-4d16-a868-462f82975a56",
   "metadata": {},
   "source": [
    "### This function uses Student t-test for different in means\n",
    "The return is a p-value, which is the probability the means are the same old and new.\n",
    "Thus the smaller the p-value, the more we believe the means are different"
   ]
  },
  {
   "cell_type": "code",
   "execution_count": 19,
   "id": "d611340b-f5af-403a-96d8-606992e734ad",
   "metadata": {},
   "outputs": [],
   "source": [
    "def change_of_mean(alert, time_interval):\n",
    "    # for ZTF, the candidates and noncandiates are mixed in, and the noncandidates have no candid\n",
    "    sources  = [c for c in alert['candidates'] if 'candid' in c]\n",
    "    sources.sort(key = lambda c: c['mjd'])\n",
    "\n",
    "    # time of the most recent candidate\n",
    "    tlast = sources[-1]['mjd']\n",
    "    magsnew = []  # between t-time_interval and t\n",
    "    magsold = []  # between t-2*time_interval and t-time_interval\n",
    "    for c in sources:\n",
    "        if c['mjd'] > tlast - 2*time_interval:\n",
    "#            print(c['mjd'], c['magpsf'])\n",
    "            if c['mjd'] > tlast - time_interval:\n",
    "                magsold.append(c['magpsf'])\n",
    "            else:\n",
    "                magsnew.append(c['magpsf'])\n",
    "#    print(objectId, len(sources), len(magsold), len(magsnew))\n",
    "    if len(magsnew) < 3 or len(magsold) < 3:\n",
    "        return None\n",
    "    magsoldmean = sum(magsold)/len(magsold)\n",
    "    magsnewmean = sum(magsnew)/len(magsnew)\n",
    "\n",
    "    s = ttest_ind(magsold, magsnew)\n",
    "    return (s.pvalue, len(magsold), len(magsnew), magsnewmean-magsoldmean)"
   ]
  },
  {
   "cell_type": "markdown",
   "id": "9f841cef-2833-4074-8896-313b94a65fce",
   "metadata": {},
   "source": [
    "### Fetch the lightcurves of the found objects"
   ]
  },
  {
   "cell_type": "code",
   "execution_count": 20,
   "id": "5eceba81-c020-47bf-be3f-62bfac31f430",
   "metadata": {},
   "outputs": [
    {
     "name": "stdout",
     "output_type": "stream",
     "text": [
      "https://lasair-ztf.lsst.ac.uk/objects/ZTF17aaaeiex  VS    0.016 (40 24 -0.8)\n",
      "https://lasair-ztf.lsst.ac.uk/objects/ZTF17aaawgky  VS    0.011 (15 21 1.1)\n",
      "https://lasair-ztf.lsst.ac.uk/objects/ZTF18aaaatsm  VS    0.011 (28 22 0.7)\n",
      "https://lasair-ztf.lsst.ac.uk/objects/ZTF18aaabbvw  VS    0.044 (24 21 -0.2)\n",
      "https://lasair-ztf.lsst.ac.uk/objects/ZTF18aarqouy  VS    0.042 (15 11 -0.2)\n",
      "https://lasair-ztf.lsst.ac.uk/objects/ZTF18aatgffh  VS    0.016 (20 8 0.2)\n",
      "https://lasair-ztf.lsst.ac.uk/objects/ZTF18aatpicc  VS    0.000 (51 11 -0.5)\n",
      "https://lasair-ztf.lsst.ac.uk/objects/ZTF18aavqrxl AGN    0.002 (14 20 0.1)\n",
      "https://lasair-ztf.lsst.ac.uk/objects/ZTF18aawrsqg  NT    0.020 (17 6 -0.3)\n",
      "https://lasair-ztf.lsst.ac.uk/objects/ZTF18aawswch  VS    0.000 (16 14 1.0)\n",
      "https://lasair-ztf.lsst.ac.uk/objects/ZTF18aaxczge  VS    0.009 (3 88 0.2)\n",
      "https://lasair-ztf.lsst.ac.uk/objects/ZTF18aaxvbvi  VS    0.008 (25 19 -1.0)\n",
      "https://lasair-ztf.lsst.ac.uk/objects/ZTF18abaikom  VS    0.040 (15 17 0.5)\n",
      "https://lasair-ztf.lsst.ac.uk/objects/ZTF18abbdobp  VS    0.000 (18 5 0.5)\n"
     ]
    }
   ],
   "source": [
    "for row in results:\n",
    "    objectId = row['objectId']\n",
    "    alert = L.objects([objectId])[0]\n",
    "    ret = change_of_mean(alert, timeInterval)\n",
    "    if ret: \n",
    "        (pvalue, n_old, n_new, new_minus_old) = ret\n",
    "        if pvalue < 0.05:\n",
    "            print('https://lasair-ztf.lsst.ac.uk/objects/%s %3s %8.3f (%d %d %.1f)' % \\\n",
    "                  (objectId, row['class'], pvalue, n_old, n_new, new_minus_old))"
   ]
  }
 ],
 "metadata": {
  "kernelspec": {
   "display_name": "Python 3 (ipykernel)",
   "language": "python",
   "name": "python3"
  },
  "language_info": {
   "codemirror_mode": {
    "name": "ipython",
    "version": 3
   },
   "file_extension": ".py",
   "mimetype": "text/x-python",
   "name": "python",
   "nbconvert_exporter": "python",
   "pygments_lexer": "ipython3",
   "version": "3.9.6"
  }
 },
 "nbformat": 4,
 "nbformat_minor": 5
}
