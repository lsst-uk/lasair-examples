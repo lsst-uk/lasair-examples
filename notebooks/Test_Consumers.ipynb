{
 "cells": [
  {
   "cell_type": "markdown",
   "id": "3fcede01-d5bc-4800-ad80-111610253c6b",
   "metadata": {},
   "source": [
    "# Test notebook to exercise the alert consumers\n",
    "### To run this notebook, please [follow the instructions](https://lasair-lsst.readthedocs.io/en/main/core_functions/python-notebooks.html) or else it won`t work.\n",
    "The instructions are at https://lasair-lsst.readthedocs.io/en/main/core_functions/python-notebooks.html\n"
   ]
  },
  {
   "cell_type": "code",
   "execution_count": 7,
   "id": "92bccfc8-56f0-4c43-badf-e9321ddeb265",
   "metadata": {},
   "outputs": [],
   "source": [
    "import sys\n",
    "import json\n",
    "from lasair import LasairError, lasair_consumer"
   ]
  },
  {
   "cell_type": "markdown",
   "id": "2e4d5397-9f86-4c1c-b5d8-b47b82a67433",
   "metadata": {},
   "source": [
    "## Normal Consumer"
   ]
  },
  {
   "cell_type": "code",
   "execution_count": 8,
   "id": "6c477241-24c6-42d2-8b84-30ac1cf52adf",
   "metadata": {},
   "outputs": [],
   "source": [
    "lsst = False\n",
    "if lsst:\n",
    "    endpoint = \"https://lasair-lsst.lsst.ac.uk/api\"\n",
    "    kafka_server = 'lasair-lsst-kafka_pub.lsst.ac.uk:9092'\n",
    "    topic        = \"lasair_5test_kafka\"\n",
    "else:\n",
    "    endpoint     = \"https://lasair-ztf.lsst.ac.uk/api\"\n",
    "    kafka_server = 'kafka.lsst.ac.uk:9092'\n",
    "    topic        = \"lasair_2Zooniverse\""
   ]
  },
  {
   "cell_type": "code",
   "execution_count": 9,
   "id": "0f0df6d0-b3af-4a35-ad8a-10da9622d679",
   "metadata": {},
   "outputs": [
    {
     "name": "stdout",
     "output_type": "stream",
     "text": [
      "No more messages available\n"
     ]
    }
   ],
   "source": [
    "group_id     = 'test121'\n",
    "consumer = lasair_consumer(\n",
    "    kafka_server,    # kafka.lsst.ac.uk:9092\n",
    "    group_id,        # any string\n",
    "    topic            # topic name for your filter\n",
    ")\n",
    "\n",
    "n = 0\n",
    "while n < 10:\n",
    "    msg = consumer.poll(timeout=20)\n",
    "    if msg is None:\n",
    "        break\n",
    "    if msg.error():\n",
    "        print(str(msg.error()))\n",
    "        break\n",
    "    jmsg = json.loads(msg.value())\n",
    "    print(json.dumps(jmsg, indent=2))\n",
    "    n += 1\n",
    "print('No more messages available')"
   ]
  },
  {
   "cell_type": "markdown",
   "id": "4838e28d-cd0a-401f-a1df-d436877b4125",
   "metadata": {},
   "source": [
    "## Rate Limited Consumer"
   ]
  },
  {
   "cell_type": "code",
   "execution_count": 10,
   "id": "e77dba21-4e39-4a2b-ac09-6bd31cad7f07",
   "metadata": {},
   "outputs": [],
   "source": [
    "from lasair import RL_consumer\n",
    "group_id     = 'test120'\n",
    "sqllite_filename = './%s.sql' % topic\n",
    "rc = RL_consumer.lasair_RL_consumer(\n",
    "    kafka_server,       # kafka.lsst.ac.uk:9092\n",
    "    group_id,           # any string\n",
    "    topic,              # topic name for your filter\n",
    "    sqllite_filename,   # past history\n",
    "    interval=1,         # how many days before release  \n",
    "    verbose=False\n",
    ")"
   ]
  },
  {
   "cell_type": "code",
   "execution_count": 11,
   "id": "8c381e65-3d14-42d7-b897-412756590f50",
   "metadata": {},
   "outputs": [],
   "source": [
    "while 1:\n",
    "    msg = rc.poll()\n",
    "    if msg is None:\n",
    "        break;\n",
    "    objectId = json.loads(msg.value())['objectId']\n",
    "    print('---> object %s found at %s' % (objectId, RL_consumer.now_human()))"
   ]
  },
  {
   "cell_type": "code",
   "execution_count": 12,
   "id": "5a71856b-9ac0-4fff-99ca-d92e208027f5",
   "metadata": {},
   "outputs": [
    {
     "name": "stdout",
     "output_type": "stream",
     "text": [
      "lasair_2Zooniverse\n",
      "At 2025-05-15 11:27:36.764444\n"
     ]
    }
   ],
   "source": [
    "rc.printall()"
   ]
  }
 ],
 "metadata": {
  "kernelspec": {
   "display_name": "Python 3 (ipykernel)",
   "language": "python",
   "name": "python3"
  },
  "language_info": {
   "codemirror_mode": {
    "name": "ipython",
    "version": 3
   },
   "file_extension": ".py",
   "mimetype": "text/x-python",
   "name": "python",
   "nbconvert_exporter": "python",
   "pygments_lexer": "ipython3",
   "version": "3.9.6"
  }
 },
 "nbformat": 4,
 "nbformat_minor": 5
}
