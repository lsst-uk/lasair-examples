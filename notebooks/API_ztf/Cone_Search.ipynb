{
 "cells": [
  {
   "cell_type": "markdown",
   "metadata": {
    "id": "fdk7f17q0By_"
   },
   "source": [
    "# Cone Search\n",
    "\n",
    "### Python (3 only) requirements - pip install\n",
    "lasair, astropy, matplotlib\n",
    "**[ROY - you should put these requirements in a file in the repo]**\n",
    "\n",
    "A cone search is a way to search the sky for objects of interest. \n",
    "The user provides a sky location (RA and Dec) to center the search on an a radius to draw a circular aperture around that location. \n",
    "It's called a cone search because the sky has depth so by drawing a circle on the 2D projectoin of the Universe you're searching a conic volume. \n",
    "\n",
    "There are **3 main options** for a cone search:\n",
    "* **count**: Returns the number of sources within the cone search\n",
    "* **all**: Returns all the objectId within the cone search\n",
    "* **nearest**: returns the source that is nearest to the center within the search radius.\n",
    "\n",
    "**[ROY - was Ken Smith the author of this notebook or was his name at the top of the file because he is the contact person for htis tool?]**"
   ]
  },
  {
   "cell_type": "code",
   "execution_count": 7,
   "metadata": {
    "colab": {
     "base_uri": "https://localhost:8080/"
    },
    "id": "HDy9GRPR0WtB",
    "outputId": "899aed8b-ecd2-47bb-d85e-c2cdc0d27c46"
   },
   "outputs": [],
   "source": [
    "#!pip install lasair\n",
    "import lasair"
   ]
  },
  {
   "cell_type": "markdown",
   "metadata": {
    "id": "NwiguYXx0BzE"
   },
   "source": [
    "### Grab your Lasair API token\n",
    "Get your Lasair token before you start. You can log into [Lasair](https://lasair.lsst.ac.uk) and click \"My Profile\"\n",
    "at top right. Or use the command-line below.\n",
    "```bash\n",
    "curl --data \"username=myusername&password=***********\" https://lasair-ztf.lsst.ac.uk/api/auth-token/\n",
    "```\n",
    "Make a file called settings.py with a line like: `API_TOKEN = '0123456789abcdefxxxxxxxxxxxxxxxxxxxxxxxx'`"
   ]
  },
  {
   "cell_type": "code",
   "execution_count": 8,
   "metadata": {
    "id": "5NKYQWoJ0BzF"
   },
   "outputs": [],
   "source": [
    "import settings\n",
    "from astropy.time import Time\n",
    "import matplotlib.pyplot as plt\n",
    "from lasair import LasairError, lasair_client as lasair"
   ]
  },
  {
   "cell_type": "markdown",
   "metadata": {
    "id": "v5k9mNnr0BzF"
   },
   "source": [
    "### Do the cone search\n",
    "Get all, nearest or just count. Note that objects are returned in ascending order of separation."
   ]
  },
  {
   "cell_type": "code",
   "execution_count": 9,
   "metadata": {},
   "outputs": [],
   "source": [
    "L = lasair(settings.API_TOKEN)\n",
    "ra=132.209445\n",
    "dec=29.870510\n",
    "radii = [100.0, 10, 0]"
   ]
  },
  {
   "cell_type": "markdown",
   "metadata": {},
   "source": [
    "## Count"
   ]
  },
  {
   "cell_type": "code",
   "execution_count": 10,
   "metadata": {},
   "outputs": [
    {
     "name": "stdout",
     "output_type": "stream",
     "text": [
      "Found 8 at radius 100.000000\n",
      "Found 2 at radius 10.000000\n",
      "Found 0 at radius 0.000000\n"
     ]
    }
   ],
   "source": [
    "for radius in radii:\n",
    "    result = L.cone(ra, dec, radius, requestType='count')\n",
    "    print('Found %d at radius %f' % (result['count'], radius))"
   ]
  },
  {
   "cell_type": "markdown",
   "metadata": {},
   "source": [
    "## Nearest"
   ]
  },
  {
   "cell_type": "code",
   "execution_count": 11,
   "metadata": {},
   "outputs": [
    {
     "name": "stdout",
     "output_type": "stream",
     "text": [
      "Found ZTF21aapyiku at separation 0.04 with radius 100.000000\n",
      "Found ZTF21aapyiku at separation 0.04 with radius 10.000000\n",
      "No object found at radius 0.000000\n"
     ]
    }
   ],
   "source": [
    "for radius in radii:\n",
    "    result = L.cone(ra, dec, radius, requestType='nearest')\n",
    "    if 'object' in result:\n",
    "        print('Found %s at separation %.2f with radius %f' % (result['object'], result['separation'], radius))\n",
    "    else:\n",
    "        print('No object found at radius %f' % radius)"
   ]
  },
  {
   "cell_type": "markdown",
   "metadata": {},
   "source": [
    "## All"
   ]
  },
  {
   "cell_type": "code",
   "execution_count": 12,
   "metadata": {
    "colab": {
     "base_uri": "https://localhost:8080/"
    },
    "id": "FSfK_V450BzG",
    "outputId": "dc089d83-ec46-4aa9-e8cd-18a9e5025281"
   },
   "outputs": [
    {
     "name": "stdout",
     "output_type": "stream",
     "text": [
      "At radius 100.000000\n",
      "ZTF21aapyiku 0.04\n",
      "ZTF17aaaysrp 7.51\n",
      "ZTF17aaaysrx 22.14\n",
      "ZTF18aaaddgw 39.19\n",
      "ZTF23abeoshg 59.37\n",
      "ZTF22aaeiziq 78.91\n",
      "ZTF24aadnefn 83.94\n",
      "ZTF17aaayssa 85.50\n",
      "At radius 10.000000\n",
      "ZTF21aapyiku 0.04\n",
      "ZTF17aaaysrp 7.51\n",
      "At radius 0.000000\n"
     ]
    }
   ],
   "source": [
    "for radius in radii:\n",
    "    print('At radius %f' % radius)\n",
    "    result = L.cone(ra, dec, radius, requestType='all')\n",
    "    for obj in result:\n",
    "        print(obj['object'], \"%.2f\" % obj['separation'])"
   ]
  }
 ],
 "metadata": {
  "colab": {
   "provenance": []
  },
  "kernelspec": {
   "display_name": "Python 3 (ipykernel)",
   "language": "python",
   "name": "python3"
  },
  "language_info": {
   "codemirror_mode": {
    "name": "ipython",
    "version": 3
   },
   "file_extension": ".py",
   "mimetype": "text/x-python",
   "name": "python",
   "nbconvert_exporter": "python",
   "pygments_lexer": "ipython3",
   "version": "3.10.9"
  }
 },
 "nbformat": 4,
 "nbformat_minor": 4
}
