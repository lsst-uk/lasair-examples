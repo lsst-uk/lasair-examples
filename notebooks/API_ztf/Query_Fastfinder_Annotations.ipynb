{
 "cells": [
  {
   "cell_type": "markdown",
   "metadata": {
    "id": "s_NNxxs--tUJ"
   },
   "source": [
    "# Query the Fastfinder annotations\n",
    "\n",
    "Demonstrates usage of:\n",
    "* /query/\n",
    "\n",
    "\n",
    "**[ROY - Fastfinder doc and description]**"
   ]
  },
  {
   "cell_type": "code",
   "execution_count": 1,
   "metadata": {
    "id": "F6CBTs5x-tUP"
   },
   "outputs": [],
   "source": [
    "import settings\n",
    "from astropy.time import Time\n",
    "import matplotlib.pyplot as plt\n",
    "from lasair import LasairError, lasair_client as lasair\n",
    "import requests"
   ]
  },
  {
   "cell_type": "code",
   "execution_count": 2,
   "metadata": {
    "id": "5E4pWOod-tUQ"
   },
   "outputs": [],
   "source": [
    "### Make a query using the JSON_EXTRACT function of SQL"
   ]
  },
  {
   "cell_type": "code",
   "execution_count": 3,
   "metadata": {
    "id": "hPb5V104-tUQ"
   },
   "outputs": [],
   "source": [
    "selected = \"\"\"\n",
    "objects.objectId, fastfinder.classification,\n",
    "JSON_EXTRACT(fastfinder.classdict, '$.lsst-r.absolute_peak_mag_val') as absrmag\n",
    "\"\"\"\n",
    "\n",
    "# Join objects and sherlock_classifications\n",
    "tables = 'objects,annotator:fastfinder'\n",
    "\n",
    "conditions = \"\"\"\n",
    "JSON_EXTRACT(fastfinder.classdict, '$.lsst-r.absolute_peak_mag_val') < -19\n",
    "\"\"\"\n",
    "\n",
    "L = lasair(settings.API_TOKEN)\n",
    "results = L.query(selected, tables, conditions, limit = 10)"
   ]
  },
  {
   "cell_type": "code",
   "execution_count": 4,
   "metadata": {
    "colab": {
     "base_uri": "https://localhost:8080/"
    },
    "id": "5IMbU9A5-tUQ",
    "outputId": "75e05126-c35a-48eb-9903-b4a5c407ff22"
   },
   "outputs": [
    {
     "name": "stdout",
     "output_type": "stream",
     "text": [
      "ZTF23aadjuwa SN -19.147\n",
      "ZTF23aacxofz SN -19.395\n",
      "ZTF23aacopzi SN -20.041\n",
      "ZTF23aadvnlm SN -19.249\n",
      "ZTF23aadvpwt SN -19.079\n",
      "ZTF23aadvzrh SN -22.959\n",
      "ZTF23aadqalu SN -19.441\n",
      "ZTF23aadvulr SN -20.625\n",
      "ZTF23aadnpbq SN -19.056\n",
      "ZTF23aadbzqx SN -19.23\n"
     ]
    }
   ],
   "source": [
    "for row in results:\n",
    "    print(row['objectId'],\n",
    "          \"%s\" % row['classification'],\n",
    "          \"%s\" % str(row['absrmag']))"
   ]
  },
  {
   "cell_type": "code",
   "execution_count": null,
   "metadata": {
    "id": "eEypR1ynzigp"
   },
   "outputs": [],
   "source": []
  }
 ],
 "metadata": {
  "colab": {
   "provenance": []
  },
  "kernelspec": {
   "display_name": "Python 3 (ipykernel)",
   "language": "python",
   "name": "python3"
  },
  "language_info": {
   "codemirror_mode": {
    "name": "ipython",
    "version": 3
   },
   "file_extension": ".py",
   "mimetype": "text/x-python",
   "name": "python",
   "nbconvert_exporter": "python",
   "pygments_lexer": "ipython3",
   "version": "3.10.9"
  }
 },
 "nbformat": 4,
 "nbformat_minor": 4
}
