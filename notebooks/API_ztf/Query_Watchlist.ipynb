{
 "cells": [
  {
   "cell_type": "markdown",
   "metadata": {
    "id": "s_NNxxs--tUJ"
   },
   "source": [
    "# Query objects coincident with a watchlist\n",
    "\n",
    "Demonstrates usage of:\n",
    "* /query/"
   ]
  },
  {
   "cell_type": "code",
   "execution_count": 3,
   "metadata": {
    "id": "F6CBTs5x-tUP"
   },
   "outputs": [],
   "source": [
    "import settings\n",
    "from lasair import LasairError, lasair_client as lasair"
   ]
  },
  {
   "cell_type": "markdown",
   "metadata": {
    "id": "5E4pWOod-tUQ"
   },
   "source": [
    "### Make an SQL query\n",
    "We are going to make an SQL query that includes a watchlist. \n",
    "Click the link to find out about the watchlist."
   ]
  },
  {
   "cell_type": "code",
   "execution_count": 4,
   "metadata": {},
   "outputs": [
    {
     "name": "stdout",
     "output_type": "stream",
     "text": [
      "See here for info: https://lasair-ztf.lsst.ac.uk/watchlists/1021/\n"
     ]
    }
   ],
   "source": [
    "wl_id = 1021\n",
    "# Catalogue of white dwarfs in Gaia EDR3 (Gentile+, 2021)\n",
    "print('See here for info: https://lasair-ztf.lsst.ac.uk/watchlists/%d/' % wl_id)"
   ]
  },
  {
   "cell_type": "code",
   "execution_count": 5,
   "metadata": {
    "id": "hPb5V104-tUQ"
   },
   "outputs": [],
   "source": [
    "selected = \"\"\"\n",
    "objects.objectId, watchlist_hits.name, watchlist_hits.arcsec\n",
    "\"\"\"\n",
    "\n",
    "# Join objects and watchlist \n",
    "tables = 'objects, watchlist:%d' % wl_id\n",
    "\n",
    "conditions = ''\n",
    "\n",
    "L = lasair(settings.API_TOKEN, endpoint = \"https://lasair-ztf.lsst.ac.uk/api\")\n",
    "try:\n",
    "    results = L.query(selected, tables, conditions, limit = 10)\n",
    "except LasairError as e:\n",
    "    print(e)\n"
   ]
  },
  {
   "cell_type": "code",
   "execution_count": 6,
   "metadata": {
    "colab": {
     "base_uri": "https://localhost:8080/"
    },
    "id": "5IMbU9A5-tUQ",
    "outputId": "75e05126-c35a-48eb-9903-b4a5c407ff22"
   },
   "outputs": [
    {
     "name": "stdout",
     "output_type": "stream",
     "text": [
      "ZTF17aaabavb WDJ052430.46+424450.46 0.16000\n",
      "ZTF17aaabehs WDJ051523.59+374754.42 0.07400\n",
      "ZTF17aaabfay WDJ074640.62+173412.82 0.14000\n",
      "ZTF17aaabpmv WDJ045452.12+491709.14 0.19500\n",
      "ZTF17aaabswj WDJ052503.71+393359.42 0.68700\n",
      "ZTF17aaacdos WDJ045316.87+381628.61 0.28400\n",
      "ZTF17aaadasj WDJ050613.11-040807.25 0.22500\n",
      "ZTF17aaaelgr WDJ214854.21+245754.54 2.80100\n",
      "ZTF17aaaenha WDJ002156.38+375637.41 0.77600\n",
      "ZTF17aaaenof WDJ000627.21+491029.52 0.14700\n"
     ]
    }
   ],
   "source": [
    "for row in results:\n",
    "    print(row['objectId'], \"%s\" % row['name'], \"%.5f\" % row['arcsec'])"
   ]
  },
  {
   "cell_type": "code",
   "execution_count": null,
   "metadata": {},
   "outputs": [],
   "source": []
  }
 ],
 "metadata": {
  "colab": {
   "provenance": []
  },
  "kernelspec": {
   "display_name": "Python 3 (ipykernel)",
   "language": "python",
   "name": "python3"
  },
  "language_info": {
   "codemirror_mode": {
    "name": "ipython",
    "version": 3
   },
   "file_extension": ".py",
   "mimetype": "text/x-python",
   "name": "python",
   "nbconvert_exporter": "python",
   "pygments_lexer": "ipython3",
   "version": "3.10.9"
  }
 },
 "nbformat": 4,
 "nbformat_minor": 4
}
